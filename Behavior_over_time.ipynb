{
 "cells": [
  {
   "cell_type": "markdown",
   "metadata": {},
   "source": [
    "# Tabla de Contenidos\n",
    "\n",
    "- [Introducción](#Introducción)\n",
    "- [Visitas](#Visitas)\n",
    "- [Pedidos](#Pedidos)\n",
    "- [Marketing](#Marketing)"
   ]
  },
  {
   "cell_type": "markdown",
   "metadata": {},
   "source": [
    "# Introducción"
   ]
  },
  {
   "cell_type": "markdown",
   "metadata": {},
   "source": [
    "Para este proyecto buscamos optimizar los gastos de marketing, para lo cual deberemos estudiar el comportamiento de los usuarios a lo largo del tiempo, calcular la tasa de retención y el beneficio económico que obtenemos de cada comprador.\n",
    "Disponemos de tres bases de datos, las cuales deberemos preparar para el posterior análisis. Cada base de datos contiene información sobre las visitas, los pedidos y los costos de marketing respectivamente."
   ]
  },
  {
   "cell_type": "markdown",
   "metadata": {},
   "source": [
    "# Preparación de datos"
   ]
  },
  {
   "cell_type": "code",
   "execution_count": 25,
   "metadata": {},
   "outputs": [],
   "source": [
    "import pandas as pd\n",
    "import numpy as np\n",
    "import seaborn as sns\n",
    "from scipy import stats as st\n",
    "from matplotlib import pyplot as plt"
   ]
  },
  {
   "cell_type": "code",
   "execution_count": 26,
   "metadata": {},
   "outputs": [],
   "source": [
    "visits = pd.read_csv('/Users/Christian/Documents/Portfolio/behaviour_over_time/visits_log_us.csv')"
   ]
  },
  {
   "cell_type": "code",
   "execution_count": 27,
   "metadata": {},
   "outputs": [
    {
     "name": "stdout",
     "output_type": "stream",
     "text": [
      "<class 'pandas.core.frame.DataFrame'>\n",
      "RangeIndex: 359400 entries, 0 to 359399\n",
      "Data columns (total 5 columns):\n",
      " #   Column     Non-Null Count   Dtype \n",
      "---  ------     --------------   ----- \n",
      " 0   Device     359400 non-null  object\n",
      " 1   End Ts     359400 non-null  object\n",
      " 2   Source Id  359400 non-null  int64 \n",
      " 3   Start Ts   359400 non-null  object\n",
      " 4   Uid        359400 non-null  uint64\n",
      "dtypes: int64(1), object(3), uint64(1)\n",
      "memory usage: 71.1 MB\n"
     ]
    }
   ],
   "source": [
    "visits.info(memory_usage='deep')"
   ]
  },
  {
   "cell_type": "markdown",
   "metadata": {},
   "source": [
    "<i> Podemos observar que no existen valores nulos. </i>"
   ]
  },
  {
   "cell_type": "code",
   "execution_count": 28,
   "metadata": {},
   "outputs": [],
   "source": [
    "visits.columns = visits.columns.str.lower() #Cambiamos a minúsculas todas los caracteres de los nombres de las columnas\n",
    "visits.columns = visits.columns.str.replace(' ', '_')#Implementamos el formato snake_case para los nombres de las columnas"
   ]
  },
  {
   "cell_type": "code",
   "execution_count": 29,
   "metadata": {},
   "outputs": [
    {
     "data": {
      "text/plain": [
       "device\n",
       "desktop    262567\n",
       "touch       96833\n",
       "Name: count, dtype: int64"
      ]
     },
     "execution_count": 29,
     "metadata": {},
     "output_type": "execute_result"
    }
   ],
   "source": [
    "visits['device'].value_counts()"
   ]
  },
  {
   "cell_type": "code",
   "execution_count": 30,
   "metadata": {},
   "outputs": [],
   "source": [
    "visits['device'] = visits['device'].astype('category') #Podemos cambiar el tipo de datos a 'category' para optimizar los datos"
   ]
  },
  {
   "cell_type": "code",
   "execution_count": 31,
   "metadata": {},
   "outputs": [
    {
     "name": "stdout",
     "output_type": "stream",
     "text": [
      "    device               end_ts  source_id             start_ts  \\\n",
      "0    touch  2017-12-20 17:38:00          4  2017-12-20 17:20:00   \n",
      "1  desktop  2018-02-19 17:21:00          2  2018-02-19 16:53:00   \n",
      "2    touch  2017-07-01 01:54:00          5  2017-07-01 01:54:00   \n",
      "3  desktop  2018-05-20 11:23:00          9  2018-05-20 10:59:00   \n",
      "4  desktop  2017-12-27 14:06:00          3  2017-12-27 14:06:00   \n",
      "\n",
      "                    uid  \n",
      "0  16879256277535980062  \n",
      "1    104060357244891740  \n",
      "2   7459035603376831527  \n",
      "3  16174680259334210214  \n",
      "4   9969694820036681168  \n"
     ]
    }
   ],
   "source": [
    "print(visits.head()) #Imprimimos las primeras filas para revisar el formato de las columnas start_ts y end_ts"
   ]
  },
  {
   "cell_type": "code",
   "execution_count": 32,
   "metadata": {},
   "outputs": [
    {
     "name": "stdout",
     "output_type": "stream",
     "text": [
      "<class 'pandas.core.frame.DataFrame'>\n",
      "RangeIndex: 359400 entries, 0 to 359399\n",
      "Data columns (total 5 columns):\n",
      " #   Column     Non-Null Count   Dtype         \n",
      "---  ------     --------------   -----         \n",
      " 0   device     359400 non-null  category      \n",
      " 1   end_ts     359400 non-null  datetime64[ns]\n",
      " 2   source_id  359400 non-null  int64         \n",
      " 3   start_ts   359400 non-null  datetime64[ns]\n",
      " 4   uid        359400 non-null  uint64        \n",
      "dtypes: category(1), datetime64[ns](2), int64(1), uint64(1)\n",
      "memory usage: 11.3 MB\n",
      "None\n"
     ]
    }
   ],
   "source": [
    "visits['end_ts'] = pd.to_datetime(visits['end_ts'], format=\"%Y-%m-%d %H:%M:%S\") #Cambiamos el dtype 'object' para optimizar los datos\n",
    "visits['start_ts'] = pd.to_datetime(visits['start_ts'], format=\"%Y-%m-%d %H:%M:%S\")\n",
    "print(visits.info(memory_usage='deep')) #Comprobamos el espacio que ocupa nuestro conjunto de datos después de las modificaciones"
   ]
  },
  {
   "cell_type": "code",
   "execution_count": 33,
   "metadata": {},
   "outputs": [
    {
     "name": "stdout",
     "output_type": "stream",
     "text": [
      "0\n"
     ]
    }
   ],
   "source": [
    "print(visits.duplicated().sum()) #Nos aseguramos de no pasar por alto valores duplicados"
   ]
  },
  {
   "cell_type": "code",
   "execution_count": 34,
   "metadata": {},
   "outputs": [
    {
     "name": "stdout",
     "output_type": "stream",
     "text": [
      "<class 'pandas.core.frame.DataFrame'>\n",
      "RangeIndex: 50415 entries, 0 to 50414\n",
      "Data columns (total 3 columns):\n",
      " #   Column   Non-Null Count  Dtype  \n",
      "---  ------   --------------  -----  \n",
      " 0   Buy Ts   50415 non-null  object \n",
      " 1   Revenue  50415 non-null  float64\n",
      " 2   Uid      50415 non-null  uint64 \n",
      "dtypes: float64(1), object(1), uint64(1)\n",
      "memory usage: 4.0 MB\n",
      "None\n"
     ]
    }
   ],
   "source": [
    "orders = pd.read_csv('/Users/Christian/Documents/Portfolio/behaviour_over_time/orders_log_us.csv')\n",
    "print(orders.info(memory_usage='deep'))"
   ]
  },
  {
   "cell_type": "markdown",
   "metadata": {},
   "source": [
    "<i> Nuevamente vemos que no existen valores nulos. </i>"
   ]
  },
  {
   "cell_type": "code",
   "execution_count": 35,
   "metadata": {},
   "outputs": [
    {
     "name": "stdout",
     "output_type": "stream",
     "text": [
      "<class 'pandas.core.frame.DataFrame'>\n",
      "RangeIndex: 50415 entries, 0 to 50414\n",
      "Data columns (total 3 columns):\n",
      " #   Column   Non-Null Count  Dtype         \n",
      "---  ------   --------------  -----         \n",
      " 0   buy_ts   50415 non-null  datetime64[ns]\n",
      " 1   revenue  50415 non-null  float64       \n",
      " 2   uid      50415 non-null  uint64        \n",
      "dtypes: datetime64[ns](1), float64(1), uint64(1)\n",
      "memory usage: 1.2 MB\n",
      "None\n"
     ]
    }
   ],
   "source": [
    "orders.columns = orders.columns.str.lower()\n",
    "orders.columns = orders.columns.str.replace(' ', '_')\n",
    "orders['buy_ts'] = pd.to_datetime(orders['buy_ts'], format=\"%Y-%m-%d %H:%M:%S\")\n",
    "print(orders.info(memory_usage='deep'))"
   ]
  },
  {
   "cell_type": "code",
   "execution_count": 36,
   "metadata": {},
   "outputs": [
    {
     "name": "stdout",
     "output_type": "stream",
     "text": [
      "0\n"
     ]
    }
   ],
   "source": [
    "print(orders.duplicated().sum())"
   ]
  },
  {
   "cell_type": "code",
   "execution_count": 37,
   "metadata": {},
   "outputs": [
    {
     "name": "stdout",
     "output_type": "stream",
     "text": [
      "<class 'pandas.core.frame.DataFrame'>\n",
      "RangeIndex: 2542 entries, 0 to 2541\n",
      "Data columns (total 3 columns):\n",
      " #   Column     Non-Null Count  Dtype  \n",
      "---  ------     --------------  -----  \n",
      " 0   source_id  2542 non-null   int64  \n",
      " 1   dt         2542 non-null   object \n",
      " 2   costs      2542 non-null   float64\n",
      "dtypes: float64(1), int64(1), object(1)\n",
      "memory usage: 186.3 KB\n",
      "None\n"
     ]
    }
   ],
   "source": [
    "costs = pd.read_csv('/Users/Christian/Documents/Portfolio/behaviour_over_time/costs_us.csv')\n",
    "print(costs.info(memory_usage='deep'))"
   ]
  },
  {
   "cell_type": "markdown",
   "metadata": {},
   "source": [
    "<i> No hay valores nulos. </i>"
   ]
  },
  {
   "cell_type": "code",
   "execution_count": 38,
   "metadata": {},
   "outputs": [
    {
     "name": "stdout",
     "output_type": "stream",
     "text": [
      "   source_id          dt  costs\n",
      "0          1  2017-06-01  75.20\n",
      "1          1  2017-06-02  62.25\n",
      "2          1  2017-06-03  36.53\n",
      "3          1  2017-06-04  55.00\n",
      "4          1  2017-06-05  57.08\n"
     ]
    }
   ],
   "source": [
    "print(costs.head())"
   ]
  },
  {
   "cell_type": "code",
   "execution_count": 39,
   "metadata": {
    "scrolled": true
   },
   "outputs": [
    {
     "name": "stdout",
     "output_type": "stream",
     "text": [
      "<class 'pandas.core.frame.DataFrame'>\n",
      "RangeIndex: 2542 entries, 0 to 2541\n",
      "Data columns (total 3 columns):\n",
      " #   Column     Non-Null Count  Dtype         \n",
      "---  ------     --------------  -----         \n",
      " 0   source_id  2542 non-null   int64         \n",
      " 1   dt         2542 non-null   datetime64[ns]\n",
      " 2   costs      2542 non-null   float64       \n",
      "dtypes: datetime64[ns](1), float64(1), int64(1)\n",
      "memory usage: 59.7 KB\n",
      "None\n"
     ]
    }
   ],
   "source": [
    "costs['dt'] = pd.to_datetime(costs['dt'])\n",
    "print(costs.info(memory_usage='deep'))"
   ]
  },
  {
   "cell_type": "code",
   "execution_count": 40,
   "metadata": {},
   "outputs": [
    {
     "name": "stdout",
     "output_type": "stream",
     "text": [
      "0\n"
     ]
    }
   ],
   "source": [
    "print(costs.duplicated().sum())"
   ]
  },
  {
   "cell_type": "markdown",
   "metadata": {},
   "source": [
    "# Visitas"
   ]
  },
  {
   "cell_type": "markdown",
   "metadata": {},
   "source": [
    "## Usuarios por día, semana y mes.\n"
   ]
  },
  {
   "cell_type": "code",
   "execution_count": 41,
   "metadata": {},
   "outputs": [
    {
     "name": "stdout",
     "output_type": "stream",
     "text": [
      "El número de usuarios diarios es: 907\n",
      "El número de usuarios semanales es: 21554\n",
      "El número de usuarios mensuales es: 23228\n"
     ]
    },
    {
     "name": "stderr",
     "output_type": "stream",
     "text": [
      "C:\\Users\\Christian\\AppData\\Local\\Temp\\ipykernel_9156\\2427015273.py:9: FutureWarning: Calling int on a single element Series is deprecated and will raise a TypeError in the future. Use int(ser.iloc[0]) instead\n",
      "  print('El número de usuarios diarios es:', int(dau_visits))\n",
      "C:\\Users\\Christian\\AppData\\Local\\Temp\\ipykernel_9156\\2427015273.py:10: FutureWarning: Calling int on a single element Series is deprecated and will raise a TypeError in the future. Use int(ser.iloc[0]) instead\n",
      "  print('El número de usuarios semanales es:',int(wau_visits))\n",
      "C:\\Users\\Christian\\AppData\\Local\\Temp\\ipykernel_9156\\2427015273.py:11: FutureWarning: Calling int on a single element Series is deprecated and will raise a TypeError in the future. Use int(ser.iloc[0]) instead\n",
      "  print('El número de usuarios mensuales es:', int(mau_visits))\n"
     ]
    }
   ],
   "source": [
    "visits_df = visits.copy()\n",
    "visits_df['session_year'] = visits_df['start_ts'].dt.year\n",
    "visits_df['session_month'] = visits_df['start_ts'].dt.month\n",
    "visits_df['session_week'] = visits_df['start_ts'].dt.weekday\n",
    "visits_df['session_date'] = visits_df['start_ts'].dt.date\n",
    "dau_visits = visits_df.groupby('session_date').agg({'uid':'nunique'}).mean()\n",
    "wau_visits = visits_df.groupby(['session_year','session_week']).agg({'uid':'nunique'}).mean()\n",
    "mau_visits = visits_df.groupby(['session_year','session_month']).agg({'uid':'nunique'}).mean()\n",
    "print('El número de usuarios diarios es:', int(dau_visits))\n",
    "print('El número de usuarios semanales es:',int(wau_visits))\n",
    "print('El número de usuarios mensuales es:', int(mau_visits))"
   ]
  },
  {
   "cell_type": "markdown",
   "metadata": {},
   "source": [
    "## Número de sesiones por día.\n"
   ]
  },
  {
   "cell_type": "code",
   "execution_count": 42,
   "metadata": {},
   "outputs": [
    {
     "name": "stdout",
     "output_type": "stream",
     "text": [
      "El promedio de sesiones por día es de: 987\n"
     ]
    },
    {
     "name": "stderr",
     "output_type": "stream",
     "text": [
      "C:\\Users\\Christian\\AppData\\Local\\Temp\\ipykernel_9156\\1091000832.py:2: FutureWarning: Calling int on a single element Series is deprecated and will raise a TypeError in the future. Use int(ser.iloc[0]) instead\n",
      "  print('El promedio de sesiones por día es de:', int(sessions_per_day))\n"
     ]
    }
   ],
   "source": [
    "sessions_per_day = visits_df.groupby('session_date').agg({'uid':'count'}).mean()\n",
    "print('El promedio de sesiones por día es de:', int(sessions_per_day))"
   ]
  },
  {
   "cell_type": "markdown",
   "metadata": {},
   "source": [
    "## Duración promedio de cada sesión.\n"
   ]
  },
  {
   "cell_type": "code",
   "execution_count": 43,
   "metadata": {},
   "outputs": [
    {
     "name": "stdout",
     "output_type": "stream",
     "text": [
      "La duración promedio de las sesiones es de: 10 minutos\n"
     ]
    }
   ],
   "source": [
    "visits_df['session_length'] = visits_df['end_ts'] - visits_df['start_ts']\n",
    "avg_length_seconds = visits_df['session_length'].mean().total_seconds() / 60\n",
    "print('La duración promedio de las sesiones es de:', int(avg_length_seconds), 'minutos')"
   ]
  },
  {
   "cell_type": "markdown",
   "metadata": {},
   "source": [
    "## Frecuencia con que los usuarios y las usuarias regresan."
   ]
  },
  {
   "cell_type": "code",
   "execution_count": 52,
   "metadata": {},
   "outputs": [
    {
     "name": "stdout",
     "output_type": "stream",
     "text": [
      "               uid         first_login\n",
      "0   11863502262781 2018-03-01 17:27:00\n",
      "1   49537067089222 2018-02-06 15:55:00\n",
      "2  297729379853735 2017-06-07 18:47:00\n",
      "3  313578113262317 2017-09-18 22:49:00\n",
      "4  325320750514679 2017-09-30 14:29:00\n"
     ]
    }
   ],
   "source": [
    "# Creamos cohortes con la primer fecha de inicio de sesión y el primer mes de inicio de sesión\n",
    "first_login_date = visits_df.groupby('uid')['start_ts'].min().reset_index()\n",
    "first_login_date.rename(columns={'start_ts':'first_login'}, inplace=True)\n",
    "print(first_login_date.head())"
   ]
  },
  {
   "cell_type": "code",
   "execution_count": 54,
   "metadata": {},
   "outputs": [
    {
     "name": "stdout",
     "output_type": "stream",
     "text": [
      "   first_month  cohort_lifetime    uid\n",
      "0      2017-06                0  13259\n",
      "1      2017-06                1   1043\n",
      "2      2017-06                2    713\n",
      "3      2017-06                3    814\n",
      "4      2017-06                4    909\n",
      "..         ...              ...    ...\n",
      "73     2018-03                1    861\n",
      "74     2018-03                2    557\n",
      "75     2018-04                0  15709\n",
      "76     2018-04                1    760\n",
      "77     2018-05                0  15273\n",
      "\n",
      "[78 rows x 3 columns]\n"
     ]
    }
   ],
   "source": [
    "# Combinamos nuestras tablas para poder calcular la edad de las cohortes\n",
    "visits_cohorts = pd.merge(visits_df, first_login_date, on='uid')\n",
    "visits_cohorts['cohort_lifetime'] = (\n",
    "    (visits_cohorts['start_ts'].dt.year - visits_cohorts['first_login'].dt.year) * 12 +\n",
    "    (visits_cohorts['start_ts'].dt.month - visits_cohorts['first_login'].dt.month)\n",
    ")\n",
    "visits_cohorts['first_month'] = visits_cohorts['first_login'].dt.strftime('%Y-%m')\n",
    "visits_cohorts = (\n",
    "    visits_cohorts.groupby(['first_month', 'cohort_lifetime'])\n",
    "    .agg({'uid': 'nunique'})\n",
    "    .reset_index())\n",
    "print(visits_cohorts)"
   ]
  },
  {
   "cell_type": "code",
   "execution_count": 55,
   "metadata": {},
   "outputs": [
    {
     "name": "stdout",
     "output_type": "stream",
     "text": [
      "   first_month  cohort_lifetime    uid  cohort_users  retention\n",
      "0      2017-06                0  13259         13259   1.000000\n",
      "1      2017-06                1   1043         13259   0.078664\n",
      "2      2017-06                2    713         13259   0.053775\n",
      "3      2017-06                3    814         13259   0.061392\n",
      "4      2017-06                4    909         13259   0.068557\n",
      "..         ...              ...    ...           ...        ...\n",
      "73     2018-03                1    861         20589   0.041818\n",
      "74     2018-03                2    557         20589   0.027053\n",
      "75     2018-04                0  15709         15709   1.000000\n",
      "76     2018-04                1    760         15709   0.048380\n",
      "77     2018-05                0  15273         15273   1.000000\n",
      "\n",
      "[78 rows x 5 columns]\n"
     ]
    }
   ],
   "source": [
    "# Calcular el número inicial de usuarios de cada cohorte nos ayudará a calcular la retención de los mismos.\n",
    "initial_users_count = visits_cohorts[visits_cohorts['cohort_lifetime'] == 0][['first_month', 'uid']]\n",
    "initial_users_count = initial_users_count.rename(columns={'uid':'cohort_users'})\n",
    "visits_cohorts = visits_cohorts.merge(initial_users_count, on='first_month')\n",
    "visits_cohorts['retention'] = visits_cohorts['uid'] / visits_cohorts['cohort_users']\n",
    "print(visits_cohorts)"
   ]
  },
  {
   "cell_type": "code",
   "execution_count": null,
   "metadata": {},
   "outputs": [],
   "source": [
    "# Creamos una tabla con pivot_table para poder presentar nuestros resultados.\n",
    "visits_retention = visits_cohorts.pivot_table(\n",
    "    index=\"first_month\",\n",
    "    columns=\"cohort_lifetime\",\n",
    "    values=\"retention\",\n",
    "    aggfunc=\"sum\"\n",
    ")"
   ]
  },
  {
   "cell_type": "code",
   "execution_count": null,
   "metadata": {},
   "outputs": [
    {
     "data": {
      "image/png": "[encoded data removed]",
      "text/plain": [
       "<Figure size 1200x500 with 2 Axes>"
      ]
     },
     "metadata": {},
     "output_type": "display_data"
    }
   ],
   "source": [
    "# Un mapa de calor nos da una mejor idea de las cifras.\n",
    "sns.set(style='darkgrid')\n",
    "plt.figure(figsize=(12, 5))\n",
    "plt.title('Retención de usuarios/as')\n",
    "sns.heatmap(visits_retention, annot=True, fmt='.1%', linewidths=1, linecolor='white', vmax=.10, cmap='viridis')\n",
    "plt.show()"
   ]
  },
  {
   "cell_type": "markdown",
   "metadata": {},
   "source": [
    "Observamos que para casi todas las cohortes existe un descenso en la tasa de retención a partir de la segunda semana. El caso de la cohorte de junio de 2017 es peculiar, ya que registra un repunte para las semanas 3, 4 y 5, y después vuelve a disminuir. Esto significa que el comportamiento de los usuarios y usuarias cambia con cada nueva cohorte. Puede que se hayan escogido mal las fuentes de tráfico o que exista un problema con el sitio web. Podríamos realizar un análisis de embudo con los datos de actividad de los usuarios para determinar en qué punto de la navegación los usuarios están experimentando mayores problemas y quizás esto nos ayude a determinar qué debemos mejorar en nuestro sitio para aumentar la conversión y la retención."
   ]
  },
  {
   "cell_type": "markdown",
   "metadata": {},
   "source": [
    "# Pedidos\n"
   ]
  },
  {
   "cell_type": "markdown",
   "metadata": {},
   "source": [
    "##  ¿Cuándo la gente empieza a comprar?\n"
   ]
  },
  {
   "cell_type": "code",
   "execution_count": null,
   "metadata": {},
   "outputs": [],
   "source": [
    "orders_df = orders.copy()\n",
    "orders_df['order_month'] = orders_df['buy_ts'].astype('datetime64[M]')\n",
    "orders_df['order_week'] = orders_df['buy_ts'].astype('datetime64[W]')\n",
    "orders_df['order_day'] = orders_df['buy_ts'].astype('datetime64[D]')"
   ]
  },
  {
   "cell_type": "code",
   "execution_count": null,
   "metadata": {},
   "outputs": [
    {
     "name": "stdout",
     "output_type": "stream",
     "text": [
      "                uid    first_order_date first_order_month\n",
      "0   313578113262317 2018-01-03 21:51:00        2018-01-01\n",
      "1  1575281904278712 2017-06-03 10:13:00        2017-06-01\n",
      "2  2429014661409475 2017-10-11 18:33:00        2017-10-01\n",
      "3  2464366381792757 2018-01-28 15:54:00        2018-01-01\n",
      "4  2551852515556206 2017-11-24 10:14:00        2017-11-01\n"
     ]
    }
   ],
   "source": [
    "first_order_date = orders_df.groupby('uid')[['buy_ts','order_month']].min().reset_index()\n",
    "first_order_date.rename(columns={'buy_ts':'first_order_date', 'order_month':'first_order_month'}, inplace=True)\n",
    "print(first_order_date.head())"
   ]
  },
  {
   "cell_type": "code",
   "execution_count": null,
   "metadata": {},
   "outputs": [
    {
     "name": "stdout",
     "output_type": "stream",
     "text": [
      "               uid  source_id         first_login first_month\n",
      "0   11863502262781          3 2018-03-01 17:27:00  2018-03-01\n",
      "1   49537067089222          2 2018-02-06 15:55:00  2018-02-01\n",
      "2  297729379853735          3 2017-06-07 18:47:00  2017-06-01\n",
      "3  313578113262317          2 2017-09-18 22:49:00  2017-09-01\n",
      "4  325320750514679          5 2017-09-30 14:29:00  2017-09-01\n"
     ]
    }
   ],
   "source": [
    "first_login_month = visits_df.groupby(['uid','source_id'])[['start_ts','session_month']].min().reset_index()\n",
    "first_login_month.rename(columns={'start_ts':'first_login','session_month':'first_month'},inplace=True)\n",
    "print(first_login_month.head())"
   ]
  },
  {
   "cell_type": "code",
   "execution_count": null,
   "metadata": {},
   "outputs": [
    {
     "name": "stdout",
     "output_type": "stream",
     "text": [
      "                uid    first_order_date first_order_month  source_id  \\\n",
      "0   313578113262317 2018-01-03 21:51:00        2018-01-01          2   \n",
      "1  1575281904278712 2017-06-03 10:13:00        2017-06-01         10   \n",
      "2  2429014661409475 2017-10-11 18:33:00        2017-10-01          3   \n",
      "3  2464366381792757 2018-01-28 15:54:00        2018-01-01          5   \n",
      "4  2551852515556206 2017-11-24 10:14:00        2017-11-01          5   \n",
      "\n",
      "          first_login first_month  \n",
      "0 2017-09-18 22:49:00  2017-09-01  \n",
      "1 2017-06-03 10:13:00  2017-06-01  \n",
      "2 2017-10-11 17:14:00  2017-10-01  \n",
      "3 2018-01-27 20:10:00  2018-01-01  \n",
      "4 2017-11-24 10:14:00  2017-11-01  \n"
     ]
    }
   ],
   "source": [
    "conversion_rate = pd.merge(\n",
    "    first_order_date[[\"uid\", \"first_order_date\", \"first_order_month\"]],\n",
    "    first_login_month,on='uid')\n",
    "print(conversion_rate.head())"
   ]
  },
  {
   "cell_type": "code",
   "execution_count": null,
   "metadata": {},
   "outputs": [],
   "source": [
    "conversion_rate['time_to_order'] = conversion_rate['first_order_date'] - conversion_rate['first_login']\n",
    "conversion_rate['time_to_order'] /= np.timedelta64(1,'D')"
   ]
  },
  {
   "cell_type": "code",
   "execution_count": null,
   "metadata": {},
   "outputs": [
    {
     "name": "stdout",
     "output_type": "stream",
     "text": [
      "\n",
      "Conversion 0 días: 76.39%\n",
      "Conversion 1 semana: 83.1%\n",
      "Conversion 1 mes: 88.61%\n",
      "Conversion 1 año: 100.0%\n"
     ]
    }
   ],
   "source": [
    "buyers = len(conversion_rate)\n",
    "print(f\"\"\"\n",
    "Conversion 0 días: {round((sum(conversion_rate['time_to_order'] < 1) / buyers)*100,2)}%\n",
    "Conversion 1 semana: {round((sum(conversion_rate['time_to_order'] <= 7) / buyers)*100,2)}%\n",
    "Conversion 1 mes: {round((sum(conversion_rate['time_to_order'] <= 30) / buyers)*100,2)}%\n",
    "Conversion 1 año: {round((sum(conversion_rate['time_to_order'] <= 365) / buyers)*100,2)}%\"\"\")"
   ]
  },
  {
   "cell_type": "markdown",
   "metadata": {},
   "source": [
    "##  ¿Cuántos pedidos hacen durante un período de tiempo dado?\n"
   ]
  },
  {
   "cell_type": "code",
   "execution_count": null,
   "metadata": {},
   "outputs": [
    {
     "name": "stdout",
     "output_type": "stream",
     "text": [
      "\n",
      "El número promedio de pedidos por día es de 138.5\n",
      "El número promedio de pedidos por semana es de 951.23\n",
      "El número promedio de pedidos por mes es de 3878.08\n",
      "\n"
     ]
    }
   ],
   "source": [
    "count_ord_d = orders_df.groupby('order_day')['uid'].count().reset_index()\n",
    "count_ord_w = orders_df.groupby('order_week')['uid'].count().reset_index()\n",
    "count_ord_m = orders_df.groupby('order_month')['uid'].count().reset_index()\n",
    "\n",
    "print(f\"\"\"\n",
    "El número promedio de pedidos por día es de {round(count_ord_d['uid'].mean(),2)}\n",
    "El número promedio de pedidos por semana es de {round(count_ord_w['uid'].mean(),2)}\n",
    "El número promedio de pedidos por mes es de {round(count_ord_m['uid'].mean(),2)}\n",
    "\"\"\")"
   ]
  },
  {
   "cell_type": "markdown",
   "metadata": {},
   "source": [
    "##  ¿Cuál es el tamaño promedio de compra?"
   ]
  },
  {
   "cell_type": "code",
   "execution_count": null,
   "metadata": {
    "scrolled": true
   },
   "outputs": [
    {
     "name": "stdout",
     "output_type": "stream",
     "text": [
      "\n",
      "El tamaño promedio de compra diaria es de 692.46 dólares\n",
      "El tamaño promedio de compra semanal es de 4755.8 dólares\n",
      "El tamaño promedio de compra mensual es de 19389.02 dólares\n",
      "\n"
     ]
    }
   ],
   "source": [
    "rev_per_d = orders_df.groupby('order_day').agg({'revenue':'sum'}).reset_index()\n",
    "rev_per_w = orders_df.groupby('order_week').agg({'revenue':'sum'}).reset_index()\n",
    "rev_per_m = orders_df.groupby('order_month').agg({'revenue':'sum'}).reset_index()\n",
    "\n",
    "print(f\"\"\"\n",
    "El tamaño promedio de compra diaria es de {round(rev_per_d['revenue'].mean(),2)} dólares\n",
    "El tamaño promedio de compra semanal es de {round(rev_per_w['revenue'].mean(),2)} dólares\n",
    "El tamaño promedio de compra mensual es de {round(rev_per_m['revenue'].mean(),2)} dólares\n",
    "\"\"\")"
   ]
  },
  {
   "cell_type": "markdown",
   "metadata": {},
   "source": [
    "##  ¿Cuánto dinero trae cada usuario? (LTV)"
   ]
  },
  {
   "cell_type": "code",
   "execution_count": null,
   "metadata": {},
   "outputs": [
    {
     "name": "stdout",
     "output_type": "stream",
     "text": [
      "  first_order_month  new_buyers\n",
      "0        2017-06-01        2023\n",
      "1        2017-07-01        1923\n",
      "2        2017-08-01        1370\n",
      "3        2017-09-01        2581\n",
      "4        2017-10-01        4340\n"
     ]
    }
   ],
   "source": [
    "#Calculamos el número de clientes nuevos por mes\n",
    "ord_sizes = first_order_date.groupby('first_order_month').agg({'uid':'nunique'}).reset_index()\n",
    "ord_sizes.columns = ['first_order_month', 'new_buyers']\n",
    "print(ord_sizes.head())"
   ]
  },
  {
   "cell_type": "code",
   "execution_count": null,
   "metadata": {},
   "outputs": [
    {
     "name": "stdout",
     "output_type": "stream",
     "text": [
      "  first_order_month order_month  revenue\n",
      "0        2017-06-01  2017-06-01  9557.49\n",
      "1        2017-06-01  2017-07-01   981.82\n",
      "2        2017-06-01  2017-08-01   885.34\n",
      "3        2017-06-01  2017-09-01  1931.30\n",
      "4        2017-06-01  2017-10-01  2068.58\n"
     ]
    }
   ],
   "source": [
    "#Creamos cohortes agregando el primer mes de compra a nuestra tabla de pedidos.\n",
    "orders_new_b = pd.merge(orders_df[['uid','order_month','revenue']], first_order_date, on='uid')\n",
    "#Agrupamos por mes de compra y mes de primera compra, totalizando los ingresos.\n",
    "order_cohorts = orders_new_b.groupby(['first_order_month','order_month']).agg({'revenue':'sum'}).reset_index()\n",
    "print(order_cohorts.head())"
   ]
  },
  {
   "cell_type": "code",
   "execution_count": null,
   "metadata": {},
   "outputs": [
    {
     "name": "stdout",
     "output_type": "stream",
     "text": [
      "  first_order_month  new_buyers order_month  revenue\n",
      "0        2017-06-01        2023  2017-06-01  9557.49\n",
      "1        2017-06-01        2023  2017-07-01   981.82\n",
      "2        2017-06-01        2023  2017-08-01   885.34\n",
      "3        2017-06-01        2023  2017-09-01  1931.30\n",
      "4        2017-06-01        2023  2017-10-01  2068.58\n"
     ]
    }
   ],
   "source": [
    "#Agregamos datos sobre cuántos usuarios realizaron sus primeras compras en cada mes.\n",
    "orders_per_month = pd.merge(ord_sizes, order_cohorts, on='first_order_month')\n",
    "print(orders_per_month.head())"
   ]
  },
  {
   "cell_type": "code",
   "execution_count": null,
   "metadata": {},
   "outputs": [
    {
     "name": "stdout",
     "output_type": "stream",
     "text": [
      "  first_order_month  new_buyers order_month  revenue  age       ltv\n",
      "0           2017-06        2023  2017-06-01  9557.49    0  4.724414\n",
      "1           2017-06        2023  2017-07-01   981.82    1  0.485329\n",
      "2           2017-06        2023  2017-08-01   885.34    2  0.437637\n",
      "3           2017-06        2023  2017-09-01  1931.30    3  0.954671\n",
      "4           2017-06        2023  2017-10-01  2068.58    4  1.022531\n"
     ]
    }
   ],
   "source": [
    "#Calculamos la edad de cada cohorte.\n",
    "orders_per_month['age'] = orders_per_month['order_month'] - orders_per_month['first_order_month']\n",
    "orders_per_month['age'] = (orders_per_month['age'] /np.timedelta64(1,'M')).round().astype(int)\n",
    "#Calculamos el beneficio por cohorte (LTV)\n",
    "orders_per_month['ltv'] = orders_per_month['revenue'] / orders_per_month['new_buyers'] \n",
    "orders_per_month['first_order_month'] = orders_per_month['first_order_month'].dt.strftime('%Y-%m')\n",
    "print(orders_per_month.head())"
   ]
  },
  {
   "cell_type": "code",
   "execution_count": null,
   "metadata": {},
   "outputs": [],
   "source": [
    "#Creamos una tabla dinámica\n",
    "orders_ltv = orders_per_month.pivot_table(\n",
    "    index='first_order_month', columns='age', values='ltv', aggfunc='mean'\n",
    ").cumsum(axis=1).round(2)"
   ]
  },
  {
   "cell_type": "code",
   "execution_count": null,
   "metadata": {},
   "outputs": [
    {
     "data": {
      "image/png": "[encoded data removed]",
      "text/plain": [
       "<Figure size 1100x500 with 2 Axes>"
      ]
     },
     "metadata": {},
     "output_type": "display_data"
    }
   ],
   "source": [
    "sns.set(style='white')\n",
    "plt.figure(figsize=(11, 5))\n",
    "plt.title('LTV')\n",
    "sns.heatmap(\n",
    "    orders_ltv, annot=True, fmt='.2f', linewidths=1, linecolor='gray', cmap='viridis'\n",
    ")\n",
    "plt.show()"
   ]
  },
  {
   "cell_type": "markdown",
   "metadata": {},
   "source": [
    "En general, el LTV de todas las cohortes aumenta pero no al mismo ritmo. Por ejemplo, la cohorte de septiembre de 2017 incrementó sustancialmente su LTV promedio a partir del 4° mes, mientras que las cohortes de junio, julio y agosto de ese mismo año se mantuvieron con una tasa de crecimiento mucho menor. ¿A qué podría deberse el aumento tan marcado en dicha cohorte? ¿Por qué únicamente esa cohorte se vió afectada durante esos meses?"
   ]
  },
  {
   "cell_type": "code",
   "execution_count": null,
   "metadata": {
    "scrolled": true
   },
   "outputs": [
    {
     "data": {
      "image/png": "[encoded data removed]",
      "text/plain": [
       "<Figure size 500x300 with 1 Axes>"
      ]
     },
     "metadata": {},
     "output_type": "display_data"
    }
   ],
   "source": [
    "ord_source = pd.merge(orders_df[['uid','order_month','revenue']], first_order_date, on='uid').merge(first_login_month[['uid','source_id']], on='uid')\n",
    "ord_cohort = ord_source.groupby(['first_order_month','order_month','source_id']).agg({'revenue':'sum'}).reset_index()\n",
    "source_ords = pd.merge(ord_sizes, ord_cohort, on='first_order_month')\n",
    "source_ords['age'] = source_ords['order_month'] - source_ords['first_order_month']\n",
    "source_ords['age'] = (source_ords['age'] /np.timedelta64(1,'M')).round().astype(int)\n",
    "#Calculamos el beneficio por cohorte (LTV)\n",
    "source_ords['ltv'] = source_ords['revenue'] / source_ords['new_buyers'] \n",
    "source_ords = source_ords.groupby('source_id')['ltv'].mean().reset_index()\n",
    "source_ords.plot(kind='bar', x='source_id', title='LTV por fuente de adquisición', figsize=(5,3))\n",
    "plt.show()"
   ]
  },
  {
   "cell_type": "markdown",
   "metadata": {},
   "source": [
    "La gráfica anterior nos muestra el LTV promedio con relación a la fuente de adquisición. Queda claro que hay problemas con el canal 7. Las fuentes 9 y 10 tampoco están dando muy buenos resultados. Analizar la estrategia de marketing en dichos canales debería darnos respuestas respecto al comportamiento de los usuarios y determinar si es pertinente conservar la inversión en ellos o no."
   ]
  },
  {
   "cell_type": "markdown",
   "metadata": {},
   "source": [
    "# Marketing"
   ]
  },
  {
   "cell_type": "markdown",
   "metadata": {},
   "source": [
    "##  ¿Cuánto dinero se gastó? (Total/por fuente de adquisición/a lo largo del tiempo)"
   ]
  },
  {
   "cell_type": "code",
   "execution_count": null,
   "metadata": {},
   "outputs": [],
   "source": [
    "costs['day'] = costs['dt'].astype('datetime64[D]')\n",
    "costs['week'] = costs['dt'].astype('datetime64[W]')\n",
    "costs['month'] = costs['dt'].astype('datetime64[M]')"
   ]
  },
  {
   "cell_type": "code",
   "execution_count": null,
   "metadata": {},
   "outputs": [
    {
     "data": {
      "text/html": [
       "<div>\n",
       "<style scoped>\n",
       "    .dataframe tbody tr th:only-of-type {\n",
       "        vertical-align: middle;\n",
       "    }\n",
       "\n",
       "    .dataframe tbody tr th {\n",
       "        vertical-align: top;\n",
       "    }\n",
       "\n",
       "    .dataframe thead th {\n",
       "        text-align: right;\n",
       "    }\n",
       "</style>\n",
       "<table border=\"1\" class=\"dataframe\">\n",
       "  <thead>\n",
       "    <tr style=\"text-align: right;\">\n",
       "      <th></th>\n",
       "      <th>source_id</th>\n",
       "      <th>dt</th>\n",
       "      <th>costs</th>\n",
       "      <th>day</th>\n",
       "      <th>week</th>\n",
       "      <th>month</th>\n",
       "    </tr>\n",
       "  </thead>\n",
       "  <tbody>\n",
       "    <tr>\n",
       "      <th>0</th>\n",
       "      <td>1</td>\n",
       "      <td>2017-06-01</td>\n",
       "      <td>75.20</td>\n",
       "      <td>2017-06-01</td>\n",
       "      <td>2017-06-01</td>\n",
       "      <td>2017-06-01</td>\n",
       "    </tr>\n",
       "    <tr>\n",
       "      <th>1</th>\n",
       "      <td>1</td>\n",
       "      <td>2017-06-02</td>\n",
       "      <td>62.25</td>\n",
       "      <td>2017-06-02</td>\n",
       "      <td>2017-06-01</td>\n",
       "      <td>2017-06-01</td>\n",
       "    </tr>\n",
       "    <tr>\n",
       "      <th>2</th>\n",
       "      <td>1</td>\n",
       "      <td>2017-06-03</td>\n",
       "      <td>36.53</td>\n",
       "      <td>2017-06-03</td>\n",
       "      <td>2017-06-01</td>\n",
       "      <td>2017-06-01</td>\n",
       "    </tr>\n",
       "    <tr>\n",
       "      <th>3</th>\n",
       "      <td>1</td>\n",
       "      <td>2017-06-04</td>\n",
       "      <td>55.00</td>\n",
       "      <td>2017-06-04</td>\n",
       "      <td>2017-06-01</td>\n",
       "      <td>2017-06-01</td>\n",
       "    </tr>\n",
       "    <tr>\n",
       "      <th>4</th>\n",
       "      <td>1</td>\n",
       "      <td>2017-06-05</td>\n",
       "      <td>57.08</td>\n",
       "      <td>2017-06-05</td>\n",
       "      <td>2017-06-01</td>\n",
       "      <td>2017-06-01</td>\n",
       "    </tr>\n",
       "  </tbody>\n",
       "</table>\n",
       "</div>"
      ],
      "text/plain": [
       "   source_id         dt  costs        day       week      month\n",
       "0          1 2017-06-01  75.20 2017-06-01 2017-06-01 2017-06-01\n",
       "1          1 2017-06-02  62.25 2017-06-02 2017-06-01 2017-06-01\n",
       "2          1 2017-06-03  36.53 2017-06-03 2017-06-01 2017-06-01\n",
       "3          1 2017-06-04  55.00 2017-06-04 2017-06-01 2017-06-01\n",
       "4          1 2017-06-05  57.08 2017-06-05 2017-06-01 2017-06-01"
      ]
     },
     "execution_count": 40,
     "metadata": {},
     "output_type": "execute_result"
    }
   ],
   "source": [
    "costs.head()"
   ]
  },
  {
   "cell_type": "code",
   "execution_count": null,
   "metadata": {},
   "outputs": [
    {
     "name": "stdout",
     "output_type": "stream",
     "text": [
      "                        costs\n",
      "month      source_id         \n",
      "2017-06-01 1          1125.61\n",
      "           2          2427.38\n",
      "           3          7731.65\n",
      "           4          3514.80\n",
      "           5          2616.12\n",
      "...                       ...\n",
      "2018-05-01 3          9411.42\n",
      "           4          4214.21\n",
      "           5          3669.56\n",
      "           9           362.17\n",
      "           10          409.86\n",
      "\n",
      "[84 rows x 1 columns]\n"
     ]
    }
   ],
   "source": [
    "monthly_costs = costs.groupby(['month','source_id']).sum()\n",
    "print(monthly_costs)"
   ]
  },
  {
   "cell_type": "code",
   "execution_count": null,
   "metadata": {},
   "outputs": [
    {
     "name": "stdout",
     "output_type": "stream",
     "text": [
      "               uid  source_id first_visit\n",
      "0   11863502262781          3  2018-03-01\n",
      "1   49537067089222          2  2018-02-01\n",
      "2  297729379853735          3  2017-06-01\n",
      "3  313578113262317          2  2017-09-01\n",
      "4  325320750514679          5  2017-09-01\n",
      "                uid  revenue      month\n",
      "0   313578113262317     0.55 2018-01-01\n",
      "1  1575281904278712     1.22 2017-06-01\n",
      "2  1575281904278712     1.83 2017-06-01\n",
      "3  2429014661409475    73.33 2017-10-01\n",
      "4  2464366381792757     2.44 2018-01-01\n"
     ]
    }
   ],
   "source": [
    "first_visits = visits_df.groupby(['uid','source_id'])['session_month'].min().reset_index()\n",
    "first_visits.rename(columns={'session_month':'first_visit'}, inplace=True)\n",
    "print(first_visits.head())\n",
    "first_orders = orders_df.groupby(['uid','revenue'])['order_month'].min().reset_index()\n",
    "first_orders.rename(columns={'order_month':'month'}, inplace=True)\n",
    "print(first_orders.head())"
   ]
  },
  {
   "cell_type": "code",
   "execution_count": null,
   "metadata": {},
   "outputs": [
    {
     "name": "stdout",
     "output_type": "stream",
     "text": [
      "                uid  revenue      month  source_id\n",
      "0   313578113262317     0.55 2018-01-01          2\n",
      "1  1575281904278712     1.22 2017-06-01         10\n",
      "2  1575281904278712     1.83 2017-06-01         10\n",
      "3  2429014661409475    73.33 2017-10-01          3\n",
      "4  2464366381792757     2.44 2018-01-01          5\n"
     ]
    }
   ],
   "source": [
    "visit_ord = pd.merge(first_orders, first_visits[['uid','source_id']], on='uid')\n",
    "\n",
    "print(visit_ord.head())"
   ]
  },
  {
   "cell_type": "code",
   "execution_count": null,
   "metadata": {},
   "outputs": [
    {
     "name": "stdout",
     "output_type": "stream",
     "text": [
      "    source_id      month  new_users\n",
      "0           1 2017-06-01        401\n",
      "1           1 2017-07-01        434\n",
      "2           1 2017-08-01        337\n",
      "3           1 2017-09-01        609\n",
      "4           1 2017-10-01        967\n",
      "..        ...        ...        ...\n",
      "81         10 2018-01-01        142\n",
      "82         10 2018-02-01        206\n",
      "83         10 2018-03-01        282\n",
      "84         10 2018-04-01        170\n",
      "85         10 2018-05-01        199\n",
      "\n",
      "[86 rows x 3 columns]\n"
     ]
    }
   ],
   "source": [
    "new_users = visit_ord.groupby(['source_id', 'month'])['uid'].nunique().reset_index()\n",
    "new_users.rename(columns={'uid':'new_users'}, inplace=True)\n",
    "print(new_users)"
   ]
  },
  {
   "cell_type": "code",
   "execution_count": null,
   "metadata": {},
   "outputs": [
    {
     "data": {
      "image/png": "[encoded data removed]",
      "text/plain": [
       "<Figure size 640x480 with 1 Axes>"
      ]
     },
     "metadata": {},
     "output_type": "display_data"
    }
   ],
   "source": [
    "costs_cac = pd.merge(monthly_costs, new_users, on=['month','source_id'])\n",
    "costs_cac['cac'] = costs_cac['costs'] / costs_cac['new_users']\n",
    "costs_plot = costs_cac.groupby('source_id')['cac'].mean().reset_index()\n",
    "costs_plot.plot(kind='bar', x='source_id', y='cac', xlabel='Fuente de adquisición', ylabel='Costo de adquisición')\n",
    "plt.show()"
   ]
  },
  {
   "cell_type": "markdown",
   "metadata": {},
   "source": [
    "La gráfica nos muestra en qué fuentes de adquisición existe una inversión más fuerte. Parece que la fuente 3 supera por mucho el costo de adquisición respecto a los demas canales. Recordando nuestra gráfica de LTV podemos observar que es la fuente 4 la que tiene el LTV más alto, misma que tiene un CAC menor a la mitad del CAC de la fuente 3. Esto indica que la fuente 3 tiene un problema de rentabilidad."
   ]
  },
  {
   "cell_type": "code",
   "execution_count": null,
   "metadata": {},
   "outputs": [],
   "source": [
    "source_ords.rename(columns={'order_month':'month'}, inplace=True)\n",
    "costs_romi = pd.merge(source_ords, costs_cac, on=['source_id', 'month'])\n",
    "costs_romi['romi'] = costs_romi['ltv'] / costs_romi['cac']\n",
    "costs_romi['first_order_month'] = costs_romi['first_order_month'].dt.strftime('%Y-%m')\n",
    "romi_pivot = costs_romi.pivot_table(index='first_order_month', columns='age', values='romi', aggfunc='mean').cumsum(axis=1).round(2)\n"
   ]
  },
  {
   "cell_type": "code",
   "execution_count": null,
   "metadata": {},
   "outputs": [
    {
     "data": {
      "image/png": "[encoded data removed]",
      "text/plain": [
       "<Figure size 1100x500 with 2 Axes>"
      ]
     },
     "metadata": {},
     "output_type": "display_data"
    }
   ],
   "source": [
    "sns.set(style='darkgrid')\n",
    "plt.figure(figsize=(11, 5))\n",
    "plt.title('ROMI')\n",
    "sns.heatmap(\n",
    "    romi_pivot, annot=True, fmt='.2f', linewidths=1, linecolor='white', cmap='viridis'\n",
    ")\n",
    "plt.show()"
   ]
  },
  {
   "cell_type": "code",
   "execution_count": null,
   "metadata": {},
   "outputs": [
    {
     "name": "stdout",
     "output_type": "stream",
     "text": [
      "age\n",
      "0     0.321570\n",
      "1     0.385620\n",
      "2     0.440946\n",
      "3     0.574593\n",
      "4     0.663833\n",
      "5     0.761802\n",
      "6     0.862145\n",
      "7     0.960095\n",
      "8     1.123869\n",
      "9     0.988637\n",
      "10    1.115627\n",
      "11    1.553241\n",
      "dtype: float64\n"
     ]
    }
   ],
   "source": [
    "romi_cohorts = costs_romi.pivot_table(index='first_order_month', columns='age', values='romi', aggfunc='mean')\n",
    "print(romi_cohorts.cumsum(axis=1).mean(axis=0))"
   ]
  },
  {
   "cell_type": "markdown",
   "metadata": {},
   "source": [
    "La gráfica y el cálculo nos muestran que a cada cohorte le toma entre 8 y 11 meses volverse rentables. Si bien existe rentabilidad, el ROMI podría no estar alineado con las expectativas de la empresa. Analizar cuáles son las metas de la empresa en el corto y largo y plazo nos daría una mejor idea de qué tanto vamos por buen camino."
   ]
  },
  {
   "cell_type": "code",
   "execution_count": null,
   "metadata": {},
   "outputs": [
    {
     "name": "stdout",
     "output_type": "stream",
     "text": [
      "                ltv       cac      romi\n",
      "source_id                              \n",
      "1          0.488535  2.276608  0.215030\n",
      "2          0.525975  4.442844  0.117841\n",
      "3          0.563057  8.615864  0.064761\n",
      "4          0.565234  3.636005  0.154158\n",
      "5          0.516270  4.258356  0.120705\n",
      "9          0.089557  1.661998  0.059563\n",
      "10         0.039354  2.905466  0.014577\n"
     ]
    }
   ],
   "source": [
    "print(costs_romi.groupby('source_id')[['ltv','cac','romi']].mean())\n"
   ]
  },
  {
   "cell_type": "markdown",
   "metadata": {},
   "source": [
    "Nuestro calculo anterior nos permite confirmar que efectivamente, la fuente de adquisición 3 tiene un ROMI bajo y un CAC muy alto, por lo que se debería contemplar la posibilidad de invertir mucho menos en dicho canal. También podemos observar un ROMI muy sólido del canal 1 y un ROMI estable para los canales 2, 4 y 5. En el caso de los canales 9 y 10 también se encuentran en una situación similar al canal 3. Con esta información podemos deducir qué fuentes de adquisición son más confiables y a las que potencialmente debemos destinar más fondos, así com también detectar cuáles fuentes podrían considerarse en \"pérdida\"."
   ]
  }
 ],
 "metadata": {
  "ExecuteTimeLog": [
   {
    "duration": 794,
    "start_time": "2024-08-14T23:10:08.696Z"
   },
   {
    "duration": 618,
    "start_time": "2024-08-14T23:10:26.195Z"
   },
   {
    "duration": 23,
    "start_time": "2024-08-14T23:11:04.175Z"
   },
   {
    "duration": 3721,
    "start_time": "2024-08-14T23:12:03.789Z"
   },
   {
    "duration": 684,
    "start_time": "2024-08-14T23:14:49.935Z"
   },
   {
    "duration": 715,
    "start_time": "2024-08-14T23:15:00.729Z"
   },
   {
    "duration": 53,
    "start_time": "2024-08-14T23:15:22.839Z"
   },
   {
    "duration": 590,
    "start_time": "2024-08-14T23:15:35.822Z"
   },
   {
    "duration": 55,
    "start_time": "2024-08-14T23:15:53.549Z"
   },
   {
    "duration": 178,
    "start_time": "2024-08-14T23:17:47.147Z"
   },
   {
    "duration": 40,
    "start_time": "2024-08-14T23:19:35.457Z"
   },
   {
    "duration": 47,
    "start_time": "2024-08-14T23:21:19.695Z"
   },
   {
    "duration": 3,
    "start_time": "2024-08-14T23:31:00.995Z"
   },
   {
    "duration": 5,
    "start_time": "2024-08-14T23:33:05.994Z"
   },
   {
    "duration": 11,
    "start_time": "2024-08-14T23:33:10.046Z"
   },
   {
    "duration": 7,
    "start_time": "2024-08-14T23:34:52.576Z"
   },
   {
    "duration": 3,
    "start_time": "2024-08-14T23:40:58.373Z"
   },
   {
    "duration": 9,
    "start_time": "2024-08-14T23:40:58.383Z"
   },
   {
    "duration": 0,
    "start_time": "2024-08-14T23:40:58.395Z"
   },
   {
    "duration": 0,
    "start_time": "2024-08-14T23:40:58.397Z"
   },
   {
    "duration": 11,
    "start_time": "2024-08-14T23:40:58.401Z"
   },
   {
    "duration": 5,
    "start_time": "2024-08-14T23:40:58.414Z"
   },
   {
    "duration": 8,
    "start_time": "2024-08-14T23:40:58.423Z"
   },
   {
    "duration": 58,
    "start_time": "2024-08-14T23:40:58.434Z"
   },
   {
    "duration": 0,
    "start_time": "2024-08-14T23:40:58.495Z"
   },
   {
    "duration": 0,
    "start_time": "2024-08-14T23:40:58.498Z"
   },
   {
    "duration": 4,
    "start_time": "2024-08-14T23:41:38.012Z"
   },
   {
    "duration": 743,
    "start_time": "2024-08-14T23:41:38.023Z"
   },
   {
    "duration": 29,
    "start_time": "2024-08-14T23:41:38.770Z"
   },
   {
    "duration": 5,
    "start_time": "2024-08-14T23:41:38.803Z"
   },
   {
    "duration": 14,
    "start_time": "2024-08-14T23:41:38.811Z"
   },
   {
    "duration": 5,
    "start_time": "2024-08-14T23:41:38.832Z"
   },
   {
    "duration": 9,
    "start_time": "2024-08-14T23:41:38.840Z"
   },
   {
    "duration": 6,
    "start_time": "2024-08-14T23:41:38.892Z"
   },
   {
    "duration": 0,
    "start_time": "2024-08-14T23:41:38.901Z"
   },
   {
    "duration": 0,
    "start_time": "2024-08-14T23:41:38.904Z"
   },
   {
    "duration": 3,
    "start_time": "2024-08-14T23:42:32.726Z"
   },
   {
    "duration": 563,
    "start_time": "2024-08-14T23:42:32.734Z"
   },
   {
    "duration": 201,
    "start_time": "2024-08-14T23:42:33.301Z"
   },
   {
    "duration": 5,
    "start_time": "2024-08-14T23:42:33.505Z"
   },
   {
    "duration": 40,
    "start_time": "2024-08-14T23:42:33.514Z"
   },
   {
    "duration": 74,
    "start_time": "2024-08-14T23:42:33.558Z"
   },
   {
    "duration": 8,
    "start_time": "2024-08-14T23:42:33.636Z"
   },
   {
    "duration": 6,
    "start_time": "2024-08-14T23:42:33.647Z"
   },
   {
    "duration": 0,
    "start_time": "2024-08-14T23:42:33.656Z"
   },
   {
    "duration": 0,
    "start_time": "2024-08-14T23:42:33.690Z"
   },
   {
    "duration": 210,
    "start_time": "2024-08-14T23:43:09.280Z"
   },
   {
    "duration": 38,
    "start_time": "2024-08-14T23:44:45.533Z"
   },
   {
    "duration": 63,
    "start_time": "2024-08-14T23:45:32.178Z"
   },
   {
    "duration": 27,
    "start_time": "2024-08-14T23:47:45.510Z"
   },
   {
    "duration": 17,
    "start_time": "2024-08-14T23:48:15.732Z"
   },
   {
    "duration": 7,
    "start_time": "2024-08-14T23:48:32.077Z"
   },
   {
    "duration": 14,
    "start_time": "2024-08-14T23:49:27.277Z"
   },
   {
    "duration": 101,
    "start_time": "2024-08-14T23:51:50.808Z"
   },
   {
    "duration": 13,
    "start_time": "2024-08-14T23:52:29.000Z"
   },
   {
    "duration": 6,
    "start_time": "2024-08-14T23:52:45.019Z"
   },
   {
    "duration": 4803,
    "start_time": "2024-08-15T19:48:03.670Z"
   },
   {
    "duration": 650,
    "start_time": "2024-08-15T19:48:08.476Z"
   },
   {
    "duration": 199,
    "start_time": "2024-08-15T19:48:09.129Z"
   },
   {
    "duration": 6,
    "start_time": "2024-08-15T19:48:09.332Z"
   },
   {
    "duration": 60,
    "start_time": "2024-08-15T19:48:09.344Z"
   },
   {
    "duration": 50,
    "start_time": "2024-08-15T19:48:09.425Z"
   },
   {
    "duration": 11,
    "start_time": "2024-08-15T19:48:09.478Z"
   },
   {
    "duration": 250,
    "start_time": "2024-08-15T19:48:09.492Z"
   },
   {
    "duration": 131,
    "start_time": "2024-08-15T19:48:09.745Z"
   },
   {
    "duration": 91,
    "start_time": "2024-08-15T19:48:09.882Z"
   },
   {
    "duration": 28,
    "start_time": "2024-08-15T19:48:09.976Z"
   },
   {
    "duration": 31,
    "start_time": "2024-08-15T19:48:10.007Z"
   },
   {
    "duration": 24,
    "start_time": "2024-08-15T19:48:10.044Z"
   },
   {
    "duration": 7,
    "start_time": "2024-08-15T19:48:10.072Z"
   },
   {
    "duration": 48,
    "start_time": "2024-08-15T19:48:10.083Z"
   },
   {
    "duration": 6,
    "start_time": "2024-08-15T19:48:10.134Z"
   },
   {
    "duration": 237,
    "start_time": "2024-08-15T20:23:15.025Z"
   },
   {
    "duration": 411,
    "start_time": "2024-08-15T20:30:00.539Z"
   },
   {
    "duration": 340,
    "start_time": "2024-08-15T20:32:20.494Z"
   },
   {
    "duration": 9,
    "start_time": "2024-08-15T20:32:50.726Z"
   },
   {
    "duration": 340,
    "start_time": "2024-08-15T20:32:56.744Z"
   },
   {
    "duration": 9,
    "start_time": "2024-08-15T20:37:40.145Z"
   },
   {
    "duration": 8,
    "start_time": "2024-08-15T20:38:17.803Z"
   },
   {
    "duration": 7,
    "start_time": "2024-08-15T20:38:36.890Z"
   },
   {
    "duration": 499,
    "start_time": "2024-08-15T20:39:02.405Z"
   },
   {
    "duration": 502,
    "start_time": "2024-08-15T20:39:14.955Z"
   },
   {
    "duration": 514,
    "start_time": "2024-08-15T20:40:37.632Z"
   },
   {
    "duration": 1313,
    "start_time": "2024-08-15T20:46:40.204Z"
   },
   {
    "duration": 564,
    "start_time": "2024-08-15T20:47:03.886Z"
   },
   {
    "duration": 147,
    "start_time": "2024-08-15T20:52:35.273Z"
   },
   {
    "duration": 157,
    "start_time": "2024-08-15T20:52:47.885Z"
   },
   {
    "duration": 133,
    "start_time": "2024-08-15T20:53:08.336Z"
   },
   {
    "duration": 137,
    "start_time": "2024-08-15T20:53:45.254Z"
   },
   {
    "duration": 81,
    "start_time": "2024-08-15T20:54:54.049Z"
   },
   {
    "duration": 5,
    "start_time": "2024-08-15T20:56:14.049Z"
   },
   {
    "duration": 40,
    "start_time": "2024-08-15T20:56:27.118Z"
   },
   {
    "duration": 39,
    "start_time": "2024-08-15T20:57:21.894Z"
   },
   {
    "duration": 64,
    "start_time": "2024-08-15T21:35:46.424Z"
   },
   {
    "duration": 366,
    "start_time": "2024-08-15T21:46:16.549Z"
   },
   {
    "duration": 132,
    "start_time": "2024-08-15T21:46:31.218Z"
   },
   {
    "duration": 122,
    "start_time": "2024-08-15T21:47:08.932Z"
   },
   {
    "duration": 35,
    "start_time": "2024-08-15T21:51:22.142Z"
   },
   {
    "duration": 34,
    "start_time": "2024-08-15T21:51:33.341Z"
   },
   {
    "duration": 14,
    "start_time": "2024-08-15T21:52:22.167Z"
   },
   {
    "duration": 14,
    "start_time": "2024-08-15T21:53:10.298Z"
   },
   {
    "duration": 15,
    "start_time": "2024-08-15T21:53:53.418Z"
   },
   {
    "duration": 34,
    "start_time": "2024-08-15T21:54:27.914Z"
   },
   {
    "duration": 16,
    "start_time": "2024-08-15T21:55:14.989Z"
   },
   {
    "duration": 16,
    "start_time": "2024-08-15T21:55:35.121Z"
   },
   {
    "duration": 17,
    "start_time": "2024-08-15T21:55:51.054Z"
   },
   {
    "duration": 36,
    "start_time": "2024-08-15T21:56:22.863Z"
   },
   {
    "duration": 49,
    "start_time": "2024-08-15T21:56:29.868Z"
   },
   {
    "duration": 33,
    "start_time": "2024-08-15T21:56:35.706Z"
   },
   {
    "duration": 16,
    "start_time": "2024-08-15T21:56:56.333Z"
   },
   {
    "duration": 4792,
    "start_time": "2024-08-16T01:53:39.644Z"
   },
   {
    "duration": 653,
    "start_time": "2024-08-16T01:53:44.440Z"
   },
   {
    "duration": 194,
    "start_time": "2024-08-16T01:53:45.096Z"
   },
   {
    "duration": 5,
    "start_time": "2024-08-16T01:53:45.294Z"
   },
   {
    "duration": 40,
    "start_time": "2024-08-16T01:53:45.302Z"
   },
   {
    "duration": 54,
    "start_time": "2024-08-16T01:53:45.371Z"
   },
   {
    "duration": 10,
    "start_time": "2024-08-16T01:53:45.429Z"
   },
   {
    "duration": 253,
    "start_time": "2024-08-16T01:53:45.470Z"
   },
   {
    "duration": 141,
    "start_time": "2024-08-16T01:53:45.726Z"
   },
   {
    "duration": 94,
    "start_time": "2024-08-16T01:53:45.873Z"
   },
   {
    "duration": 29,
    "start_time": "2024-08-16T01:53:45.971Z"
   },
   {
    "duration": 13,
    "start_time": "2024-08-16T01:53:46.007Z"
   },
   {
    "duration": 18,
    "start_time": "2024-08-16T01:53:46.023Z"
   },
   {
    "duration": 8,
    "start_time": "2024-08-16T01:53:46.068Z"
   },
   {
    "duration": 17,
    "start_time": "2024-08-16T01:53:46.080Z"
   },
   {
    "duration": 7,
    "start_time": "2024-08-16T01:53:46.100Z"
   },
   {
    "duration": 662,
    "start_time": "2024-08-16T01:53:46.110Z"
   },
   {
    "duration": 47,
    "start_time": "2024-08-16T01:53:46.776Z"
   },
   {
    "duration": 42,
    "start_time": "2024-08-16T01:53:46.826Z"
   },
   {
    "duration": 4896,
    "start_time": "2024-08-16T05:10:38.990Z"
   },
   {
    "duration": 634,
    "start_time": "2024-08-16T05:10:43.889Z"
   },
   {
    "duration": 206,
    "start_time": "2024-08-16T05:10:44.525Z"
   },
   {
    "duration": 5,
    "start_time": "2024-08-16T05:10:44.736Z"
   },
   {
    "duration": 40,
    "start_time": "2024-08-16T05:10:44.745Z"
   },
   {
    "duration": 75,
    "start_time": "2024-08-16T05:10:44.788Z"
   },
   {
    "duration": 10,
    "start_time": "2024-08-16T05:10:44.866Z"
   },
   {
    "duration": 242,
    "start_time": "2024-08-16T05:10:44.879Z"
   },
   {
    "duration": 114,
    "start_time": "2024-08-16T05:10:45.131Z"
   },
   {
    "duration": 94,
    "start_time": "2024-08-16T05:10:45.250Z"
   },
   {
    "duration": 27,
    "start_time": "2024-08-16T05:10:45.346Z"
   },
   {
    "duration": 13,
    "start_time": "2024-08-16T05:10:45.376Z"
   },
   {
    "duration": 46,
    "start_time": "2024-08-16T05:10:45.392Z"
   },
   {
    "duration": 8,
    "start_time": "2024-08-16T05:10:45.441Z"
   },
   {
    "duration": 14,
    "start_time": "2024-08-16T05:10:45.452Z"
   },
   {
    "duration": 7,
    "start_time": "2024-08-16T05:10:45.468Z"
   },
   {
    "duration": 623,
    "start_time": "2024-08-16T05:10:45.478Z"
   },
   {
    "duration": 47,
    "start_time": "2024-08-16T05:10:46.104Z"
   },
   {
    "duration": 15,
    "start_time": "2024-08-16T05:10:46.155Z"
   },
   {
    "duration": 1473,
    "start_time": "2024-08-16T05:10:46.173Z"
   },
   {
    "duration": 0,
    "start_time": "2024-08-16T05:10:47.650Z"
   },
   {
    "duration": 1224,
    "start_time": "2024-08-16T05:15:33.863Z"
   },
   {
    "duration": 196,
    "start_time": "2024-08-16T05:17:07.443Z"
   },
   {
    "duration": 308,
    "start_time": "2024-08-16T05:18:03.469Z"
   },
   {
    "duration": 699,
    "start_time": "2024-08-16T05:25:30.238Z"
   },
   {
    "duration": 1047,
    "start_time": "2024-08-16T05:28:30.096Z"
   },
   {
    "duration": 1007,
    "start_time": "2024-08-16T05:29:31.847Z"
   },
   {
    "duration": 247,
    "start_time": "2024-08-16T05:48:40.325Z"
   },
   {
    "duration": 360,
    "start_time": "2024-08-16T05:49:34.217Z"
   },
   {
    "duration": 1714,
    "start_time": "2024-08-16T05:53:09.225Z"
   },
   {
    "duration": 245,
    "start_time": "2024-08-16T06:00:46.096Z"
   },
   {
    "duration": 485,
    "start_time": "2024-08-16T06:01:19.078Z"
   },
   {
    "duration": 217,
    "start_time": "2024-08-16T06:02:21.465Z"
   },
   {
    "duration": 238,
    "start_time": "2024-08-16T06:03:13.628Z"
   },
   {
    "duration": 4,
    "start_time": "2024-08-16T06:05:04.356Z"
   },
   {
    "duration": 555,
    "start_time": "2024-08-16T06:05:04.364Z"
   },
   {
    "duration": 194,
    "start_time": "2024-08-16T06:05:04.923Z"
   },
   {
    "duration": 11,
    "start_time": "2024-08-16T06:05:05.120Z"
   },
   {
    "duration": 42,
    "start_time": "2024-08-16T06:05:05.136Z"
   },
   {
    "duration": 73,
    "start_time": "2024-08-16T06:05:05.182Z"
   },
   {
    "duration": 8,
    "start_time": "2024-08-16T06:05:05.258Z"
   },
   {
    "duration": 233,
    "start_time": "2024-08-16T06:05:05.270Z"
   },
   {
    "duration": 116,
    "start_time": "2024-08-16T06:05:05.506Z"
   },
   {
    "duration": 73,
    "start_time": "2024-08-16T06:05:05.631Z"
   },
   {
    "duration": 35,
    "start_time": "2024-08-16T06:05:05.709Z"
   },
   {
    "duration": 14,
    "start_time": "2024-08-16T06:05:05.748Z"
   },
   {
    "duration": 16,
    "start_time": "2024-08-16T06:05:05.765Z"
   },
   {
    "duration": 7,
    "start_time": "2024-08-16T06:05:05.784Z"
   },
   {
    "duration": 15,
    "start_time": "2024-08-16T06:05:05.832Z"
   },
   {
    "duration": 7,
    "start_time": "2024-08-16T06:05:05.851Z"
   },
   {
    "duration": 630,
    "start_time": "2024-08-16T06:05:05.862Z"
   },
   {
    "duration": 46,
    "start_time": "2024-08-16T06:05:06.495Z"
   },
   {
    "duration": 13,
    "start_time": "2024-08-16T06:05:06.544Z"
   },
   {
    "duration": 269,
    "start_time": "2024-08-16T06:05:06.561Z"
   },
   {
    "duration": 234,
    "start_time": "2024-08-16T06:06:16.409Z"
   },
   {
    "duration": 3,
    "start_time": "2024-08-16T06:06:27.657Z"
   },
   {
    "duration": 576,
    "start_time": "2024-08-16T06:06:27.666Z"
   },
   {
    "duration": 196,
    "start_time": "2024-08-16T06:06:28.246Z"
   },
   {
    "duration": 5,
    "start_time": "2024-08-16T06:06:28.446Z"
   },
   {
    "duration": 39,
    "start_time": "2024-08-16T06:06:28.456Z"
   },
   {
    "duration": 73,
    "start_time": "2024-08-16T06:06:28.498Z"
   },
   {
    "duration": 8,
    "start_time": "2024-08-16T06:06:28.574Z"
   },
   {
    "duration": 235,
    "start_time": "2024-08-16T06:06:28.585Z"
   },
   {
    "duration": 108,
    "start_time": "2024-08-16T06:06:28.822Z"
   },
   {
    "duration": 58,
    "start_time": "2024-08-16T06:06:28.933Z"
   },
   {
    "duration": 43,
    "start_time": "2024-08-16T06:06:28.996Z"
   },
   {
    "duration": 13,
    "start_time": "2024-08-16T06:06:29.041Z"
   },
   {
    "duration": 16,
    "start_time": "2024-08-16T06:06:29.059Z"
   },
   {
    "duration": 9,
    "start_time": "2024-08-16T06:06:29.081Z"
   },
   {
    "duration": 13,
    "start_time": "2024-08-16T06:06:29.131Z"
   },
   {
    "duration": 7,
    "start_time": "2024-08-16T06:06:29.147Z"
   },
   {
    "duration": 604,
    "start_time": "2024-08-16T06:06:29.157Z"
   },
   {
    "duration": 42,
    "start_time": "2024-08-16T06:06:29.764Z"
   },
   {
    "duration": 33,
    "start_time": "2024-08-16T06:06:29.808Z"
   },
   {
    "duration": 244,
    "start_time": "2024-08-16T06:06:29.846Z"
   },
   {
    "duration": 591,
    "start_time": "2024-08-16T06:08:57.239Z"
   },
   {
    "duration": 77,
    "start_time": "2024-08-16T06:13:59.700Z"
   },
   {
    "duration": 87,
    "start_time": "2024-08-16T06:14:19.605Z"
   },
   {
    "duration": 34,
    "start_time": "2024-08-16T06:16:08.878Z"
   },
   {
    "duration": 564,
    "start_time": "2024-08-16T06:25:53.053Z"
   },
   {
    "duration": 6,
    "start_time": "2024-08-16T06:26:02.562Z"
   },
   {
    "duration": 556,
    "start_time": "2024-08-16T06:26:02.571Z"
   },
   {
    "duration": 191,
    "start_time": "2024-08-16T06:26:03.131Z"
   },
   {
    "duration": 5,
    "start_time": "2024-08-16T06:26:03.330Z"
   },
   {
    "duration": 39,
    "start_time": "2024-08-16T06:26:03.339Z"
   },
   {
    "duration": 75,
    "start_time": "2024-08-16T06:26:03.381Z"
   },
   {
    "duration": 8,
    "start_time": "2024-08-16T06:26:03.459Z"
   },
   {
    "duration": 227,
    "start_time": "2024-08-16T06:26:03.470Z"
   },
   {
    "duration": 111,
    "start_time": "2024-08-16T06:26:03.702Z"
   },
   {
    "duration": 62,
    "start_time": "2024-08-16T06:26:03.819Z"
   },
   {
    "duration": 28,
    "start_time": "2024-08-16T06:26:03.883Z"
   },
   {
    "duration": 13,
    "start_time": "2024-08-16T06:26:03.931Z"
   },
   {
    "duration": 17,
    "start_time": "2024-08-16T06:26:03.948Z"
   },
   {
    "duration": 8,
    "start_time": "2024-08-16T06:26:03.967Z"
   },
   {
    "duration": 13,
    "start_time": "2024-08-16T06:26:03.978Z"
   },
   {
    "duration": 7,
    "start_time": "2024-08-16T06:26:04.032Z"
   },
   {
    "duration": 570,
    "start_time": "2024-08-16T06:26:04.042Z"
   },
   {
    "duration": 50,
    "start_time": "2024-08-16T06:26:04.614Z"
   },
   {
    "duration": 14,
    "start_time": "2024-08-16T06:26:04.667Z"
   },
   {
    "duration": 190,
    "start_time": "2024-08-16T06:26:04.684Z"
   },
   {
    "duration": 37,
    "start_time": "2024-08-16T06:26:04.877Z"
   },
   {
    "duration": 1215,
    "start_time": "2024-08-16T06:26:47.002Z"
   },
   {
    "duration": 580,
    "start_time": "2024-08-16T06:26:48.220Z"
   },
   {
    "duration": 193,
    "start_time": "2024-08-16T06:26:48.803Z"
   },
   {
    "duration": 5,
    "start_time": "2024-08-16T06:26:49.001Z"
   },
   {
    "duration": 53,
    "start_time": "2024-08-16T06:26:49.010Z"
   },
   {
    "duration": 69,
    "start_time": "2024-08-16T06:26:49.066Z"
   },
   {
    "duration": 11,
    "start_time": "2024-08-16T06:26:49.137Z"
   },
   {
    "duration": 245,
    "start_time": "2024-08-16T06:26:49.151Z"
   },
   {
    "duration": 123,
    "start_time": "2024-08-16T06:26:49.398Z"
   },
   {
    "duration": 56,
    "start_time": "2024-08-16T06:26:49.532Z"
   },
   {
    "duration": 39,
    "start_time": "2024-08-16T06:26:49.593Z"
   },
   {
    "duration": 14,
    "start_time": "2024-08-16T06:26:49.635Z"
   },
   {
    "duration": 16,
    "start_time": "2024-08-16T06:26:49.652Z"
   },
   {
    "duration": 8,
    "start_time": "2024-08-16T06:26:49.670Z"
   },
   {
    "duration": 55,
    "start_time": "2024-08-16T06:26:49.680Z"
   },
   {
    "duration": 6,
    "start_time": "2024-08-16T06:26:49.738Z"
   },
   {
    "duration": 587,
    "start_time": "2024-08-16T06:26:49.747Z"
   },
   {
    "duration": 43,
    "start_time": "2024-08-16T06:26:50.337Z"
   },
   {
    "duration": 14,
    "start_time": "2024-08-16T06:26:50.383Z"
   },
   {
    "duration": 189,
    "start_time": "2024-08-16T06:26:50.430Z"
   },
   {
    "duration": 38,
    "start_time": "2024-08-16T06:26:50.621Z"
   },
   {
    "duration": 560,
    "start_time": "2024-08-16T06:27:36.488Z"
   },
   {
    "duration": 32,
    "start_time": "2024-08-16T06:27:43.507Z"
   },
   {
    "duration": 3,
    "start_time": "2024-08-16T06:27:48.855Z"
   },
   {
    "duration": 554,
    "start_time": "2024-08-16T06:27:48.862Z"
   },
   {
    "duration": 190,
    "start_time": "2024-08-16T06:27:49.419Z"
   },
   {
    "duration": 5,
    "start_time": "2024-08-16T06:27:49.612Z"
   },
   {
    "duration": 41,
    "start_time": "2024-08-16T06:27:49.632Z"
   },
   {
    "duration": 65,
    "start_time": "2024-08-16T06:27:49.678Z"
   },
   {
    "duration": 8,
    "start_time": "2024-08-16T06:27:49.746Z"
   },
   {
    "duration": 245,
    "start_time": "2024-08-16T06:27:49.757Z"
   },
   {
    "duration": 113,
    "start_time": "2024-08-16T06:27:50.005Z"
   },
   {
    "duration": 64,
    "start_time": "2024-08-16T06:27:50.120Z"
   },
   {
    "duration": 43,
    "start_time": "2024-08-16T06:27:50.190Z"
   },
   {
    "duration": 13,
    "start_time": "2024-08-16T06:27:50.236Z"
   },
   {
    "duration": 17,
    "start_time": "2024-08-16T06:27:50.252Z"
   },
   {
    "duration": 7,
    "start_time": "2024-08-16T06:27:50.272Z"
   },
   {
    "duration": 54,
    "start_time": "2024-08-16T06:27:50.282Z"
   },
   {
    "duration": 7,
    "start_time": "2024-08-16T06:27:50.339Z"
   },
   {
    "duration": 575,
    "start_time": "2024-08-16T06:27:50.349Z"
   },
   {
    "duration": 41,
    "start_time": "2024-08-16T06:27:50.931Z"
   },
   {
    "duration": 15,
    "start_time": "2024-08-16T06:27:50.976Z"
   },
   {
    "duration": 196,
    "start_time": "2024-08-16T06:27:51.030Z"
   },
   {
    "duration": 102,
    "start_time": "2024-08-16T06:27:51.231Z"
   },
   {
    "duration": 308,
    "start_time": "2024-08-16T16:20:25.196Z"
   },
   {
    "duration": 5076,
    "start_time": "2024-08-16T16:20:32.535Z"
   },
   {
    "duration": 701,
    "start_time": "2024-08-16T16:20:37.616Z"
   },
   {
    "duration": 198,
    "start_time": "2024-08-16T16:20:38.319Z"
   },
   {
    "duration": 6,
    "start_time": "2024-08-16T16:20:38.520Z"
   },
   {
    "duration": 61,
    "start_time": "2024-08-16T16:20:38.534Z"
   },
   {
    "duration": 54,
    "start_time": "2024-08-16T16:20:38.598Z"
   },
   {
    "duration": 36,
    "start_time": "2024-08-16T16:20:38.655Z"
   },
   {
    "duration": 247,
    "start_time": "2024-08-16T16:20:38.695Z"
   },
   {
    "duration": 149,
    "start_time": "2024-08-16T16:20:38.946Z"
   },
   {
    "duration": 90,
    "start_time": "2024-08-16T16:20:39.098Z"
   },
   {
    "duration": 27,
    "start_time": "2024-08-16T16:20:39.191Z"
   },
   {
    "duration": 14,
    "start_time": "2024-08-16T16:20:39.221Z"
   },
   {
    "duration": 18,
    "start_time": "2024-08-16T16:20:39.238Z"
   },
   {
    "duration": 7,
    "start_time": "2024-08-16T16:20:39.290Z"
   },
   {
    "duration": 15,
    "start_time": "2024-08-16T16:20:39.300Z"
   },
   {
    "duration": 7,
    "start_time": "2024-08-16T16:20:39.318Z"
   },
   {
    "duration": 642,
    "start_time": "2024-08-16T16:20:39.327Z"
   },
   {
    "duration": 51,
    "start_time": "2024-08-16T16:20:39.972Z"
   },
   {
    "duration": 16,
    "start_time": "2024-08-16T16:20:40.027Z"
   },
   {
    "duration": 244,
    "start_time": "2024-08-16T16:20:40.049Z"
   },
   {
    "duration": 31,
    "start_time": "2024-08-16T16:20:40.296Z"
   },
   {
    "duration": 1002,
    "start_time": "2024-08-16T16:21:44.148Z"
   },
   {
    "duration": 4,
    "start_time": "2024-08-16T16:22:02.524Z"
   },
   {
    "duration": 611,
    "start_time": "2024-08-16T16:22:02.532Z"
   },
   {
    "duration": 201,
    "start_time": "2024-08-16T16:22:03.147Z"
   },
   {
    "duration": 5,
    "start_time": "2024-08-16T16:22:03.351Z"
   },
   {
    "duration": 58,
    "start_time": "2024-08-16T16:22:03.362Z"
   },
   {
    "duration": 68,
    "start_time": "2024-08-16T16:22:03.423Z"
   },
   {
    "duration": 11,
    "start_time": "2024-08-16T16:22:03.494Z"
   },
   {
    "duration": 246,
    "start_time": "2024-08-16T16:22:03.508Z"
   },
   {
    "duration": 121,
    "start_time": "2024-08-16T16:22:03.757Z"
   },
   {
    "duration": 69,
    "start_time": "2024-08-16T16:22:03.881Z"
   },
   {
    "duration": 44,
    "start_time": "2024-08-16T16:22:03.956Z"
   },
   {
    "duration": 13,
    "start_time": "2024-08-16T16:22:04.003Z"
   },
   {
    "duration": 17,
    "start_time": "2024-08-16T16:22:04.018Z"
   },
   {
    "duration": 7,
    "start_time": "2024-08-16T16:22:04.038Z"
   },
   {
    "duration": 55,
    "start_time": "2024-08-16T16:22:04.048Z"
   },
   {
    "duration": 7,
    "start_time": "2024-08-16T16:22:04.106Z"
   },
   {
    "duration": 571,
    "start_time": "2024-08-16T16:22:04.115Z"
   },
   {
    "duration": 53,
    "start_time": "2024-08-16T16:22:04.690Z"
   },
   {
    "duration": 18,
    "start_time": "2024-08-16T16:22:04.745Z"
   },
   {
    "duration": 29,
    "start_time": "2024-08-16T16:22:04.790Z"
   },
   {
    "duration": 209,
    "start_time": "2024-08-16T16:22:04.823Z"
   },
   {
    "duration": 3,
    "start_time": "2024-08-16T16:22:27.993Z"
   },
   {
    "duration": 561,
    "start_time": "2024-08-16T16:22:28.002Z"
   },
   {
    "duration": 190,
    "start_time": "2024-08-16T16:22:28.567Z"
   },
   {
    "duration": 5,
    "start_time": "2024-08-16T16:22:28.760Z"
   },
   {
    "duration": 55,
    "start_time": "2024-08-16T16:22:28.771Z"
   },
   {
    "duration": 68,
    "start_time": "2024-08-16T16:22:28.829Z"
   },
   {
    "duration": 9,
    "start_time": "2024-08-16T16:22:28.900Z"
   },
   {
    "duration": 242,
    "start_time": "2024-08-16T16:22:28.912Z"
   },
   {
    "duration": 113,
    "start_time": "2024-08-16T16:22:29.158Z"
   },
   {
    "duration": 65,
    "start_time": "2024-08-16T16:22:29.274Z"
   },
   {
    "duration": 28,
    "start_time": "2024-08-16T16:22:29.344Z"
   },
   {
    "duration": 13,
    "start_time": "2024-08-16T16:22:29.391Z"
   },
   {
    "duration": 16,
    "start_time": "2024-08-16T16:22:29.407Z"
   },
   {
    "duration": 8,
    "start_time": "2024-08-16T16:22:29.426Z"
   },
   {
    "duration": 14,
    "start_time": "2024-08-16T16:22:29.437Z"
   },
   {
    "duration": 7,
    "start_time": "2024-08-16T16:22:29.493Z"
   },
   {
    "duration": 558,
    "start_time": "2024-08-16T16:22:29.502Z"
   },
   {
    "duration": 42,
    "start_time": "2024-08-16T16:22:30.063Z"
   },
   {
    "duration": 14,
    "start_time": "2024-08-16T16:22:30.108Z"
   },
   {
    "duration": 1100,
    "start_time": "2024-08-16T16:22:30.124Z"
   },
   {
    "duration": 0,
    "start_time": "2024-08-16T16:22:31.226Z"
   },
   {
    "duration": 5,
    "start_time": "2024-08-16T16:22:56.689Z"
   },
   {
    "duration": 609,
    "start_time": "2024-08-16T16:22:56.698Z"
   },
   {
    "duration": 189,
    "start_time": "2024-08-16T16:22:57.310Z"
   },
   {
    "duration": 5,
    "start_time": "2024-08-16T16:22:57.502Z"
   },
   {
    "duration": 39,
    "start_time": "2024-08-16T16:22:57.512Z"
   },
   {
    "duration": 74,
    "start_time": "2024-08-16T16:22:57.555Z"
   },
   {
    "duration": 9,
    "start_time": "2024-08-16T16:22:57.632Z"
   },
   {
    "duration": 246,
    "start_time": "2024-08-16T16:22:57.644Z"
   },
   {
    "duration": 104,
    "start_time": "2024-08-16T16:22:57.893Z"
   },
   {
    "duration": 59,
    "start_time": "2024-08-16T16:22:58.000Z"
   },
   {
    "duration": 44,
    "start_time": "2024-08-16T16:22:58.064Z"
   },
   {
    "duration": 12,
    "start_time": "2024-08-16T16:22:58.111Z"
   },
   {
    "duration": 16,
    "start_time": "2024-08-16T16:22:58.126Z"
   },
   {
    "duration": 7,
    "start_time": "2024-08-16T16:22:58.145Z"
   },
   {
    "duration": 14,
    "start_time": "2024-08-16T16:22:58.192Z"
   },
   {
    "duration": 6,
    "start_time": "2024-08-16T16:22:58.209Z"
   },
   {
    "duration": 562,
    "start_time": "2024-08-16T16:22:58.218Z"
   },
   {
    "duration": 43,
    "start_time": "2024-08-16T16:22:58.783Z"
   },
   {
    "duration": 14,
    "start_time": "2024-08-16T16:22:58.829Z"
   },
   {
    "duration": 55,
    "start_time": "2024-08-16T16:22:58.846Z"
   },
   {
    "duration": 174,
    "start_time": "2024-08-16T16:22:58.904Z"
   },
   {
    "duration": 32,
    "start_time": "2024-08-16T16:22:59.080Z"
   },
   {
    "duration": 9,
    "start_time": "2024-08-16T16:23:11.515Z"
   },
   {
    "duration": 19,
    "start_time": "2024-08-16T16:25:23.618Z"
   },
   {
    "duration": 17,
    "start_time": "2024-08-16T16:26:28.965Z"
   },
   {
    "duration": 8,
    "start_time": "2024-08-16T16:29:16.277Z"
   },
   {
    "duration": 79,
    "start_time": "2024-08-16T16:29:19.259Z"
   },
   {
    "duration": 9,
    "start_time": "2024-08-16T16:29:21.974Z"
   },
   {
    "duration": 22,
    "start_time": "2024-08-16T16:40:12.839Z"
   },
   {
    "duration": 165,
    "start_time": "2024-08-16T16:40:22.384Z"
   },
   {
    "duration": 6,
    "start_time": "2024-08-16T16:40:25.121Z"
   },
   {
    "duration": 23,
    "start_time": "2024-08-16T16:56:10.627Z"
   },
   {
    "duration": 103,
    "start_time": "2024-08-16T16:56:15.275Z"
   },
   {
    "duration": 216,
    "start_time": "2024-08-16T16:56:28.091Z"
   },
   {
    "duration": 18,
    "start_time": "2024-08-16T16:56:31.003Z"
   },
   {
    "duration": 16,
    "start_time": "2024-08-16T17:16:56.195Z"
   },
   {
    "duration": 9,
    "start_time": "2024-08-16T17:16:58.753Z"
   },
   {
    "duration": 87,
    "start_time": "2024-08-16T17:22:38.246Z"
   },
   {
    "duration": 10,
    "start_time": "2024-08-16T17:22:41.504Z"
   },
   {
    "duration": 167,
    "start_time": "2024-08-16T17:29:31.358Z"
   },
   {
    "duration": 24,
    "start_time": "2024-08-16T17:29:34.576Z"
   },
   {
    "duration": 7,
    "start_time": "2024-08-16T17:29:41.423Z"
   },
   {
    "duration": 11,
    "start_time": "2024-08-16T17:29:59.774Z"
   },
   {
    "duration": 190,
    "start_time": "2024-08-16T17:46:10.125Z"
   },
   {
    "duration": 207,
    "start_time": "2024-08-16T17:46:22.693Z"
   },
   {
    "duration": 171,
    "start_time": "2024-08-16T17:46:32.262Z"
   },
   {
    "duration": 11,
    "start_time": "2024-08-16T17:46:36.617Z"
   },
   {
    "duration": 19,
    "start_time": "2024-08-16T17:49:36.501Z"
   },
   {
    "duration": 14,
    "start_time": "2024-08-16T17:49:40.615Z"
   },
   {
    "duration": 19,
    "start_time": "2024-08-16T17:50:06.760Z"
   },
   {
    "duration": 179,
    "start_time": "2024-08-16T18:00:25.441Z"
   },
   {
    "duration": 9,
    "start_time": "2024-08-16T18:01:59.980Z"
   },
   {
    "duration": 10,
    "start_time": "2024-08-16T18:03:34.758Z"
   },
   {
    "duration": 24,
    "start_time": "2024-08-16T18:14:34.817Z"
   },
   {
    "duration": 1187,
    "start_time": "2024-08-16T18:15:21.268Z"
   },
   {
    "duration": 1106,
    "start_time": "2024-08-16T18:16:01.021Z"
   },
   {
    "duration": 198,
    "start_time": "2024-08-16T18:19:26.733Z"
   },
   {
    "duration": 3,
    "start_time": "2024-08-16T18:19:50.230Z"
   },
   {
    "duration": 610,
    "start_time": "2024-08-16T18:19:50.237Z"
   },
   {
    "duration": 193,
    "start_time": "2024-08-16T18:19:50.850Z"
   },
   {
    "duration": 5,
    "start_time": "2024-08-16T18:19:51.047Z"
   },
   {
    "duration": 52,
    "start_time": "2024-08-16T18:19:51.055Z"
   },
   {
    "duration": 50,
    "start_time": "2024-08-16T18:19:51.110Z"
   },
   {
    "duration": 29,
    "start_time": "2024-08-16T18:19:51.163Z"
   },
   {
    "duration": 237,
    "start_time": "2024-08-16T18:19:51.195Z"
   },
   {
    "duration": 108,
    "start_time": "2024-08-16T18:19:51.435Z"
   },
   {
    "duration": 65,
    "start_time": "2024-08-16T18:19:51.549Z"
   },
   {
    "duration": 29,
    "start_time": "2024-08-16T18:19:51.617Z"
   },
   {
    "duration": 17,
    "start_time": "2024-08-16T18:19:51.649Z"
   },
   {
    "duration": 16,
    "start_time": "2024-08-16T18:19:51.691Z"
   },
   {
    "duration": 8,
    "start_time": "2024-08-16T18:19:51.711Z"
   },
   {
    "duration": 15,
    "start_time": "2024-08-16T18:19:51.723Z"
   },
   {
    "duration": 50,
    "start_time": "2024-08-16T18:19:51.741Z"
   },
   {
    "duration": 545,
    "start_time": "2024-08-16T18:19:51.794Z"
   },
   {
    "duration": 49,
    "start_time": "2024-08-16T18:19:52.342Z"
   },
   {
    "duration": 13,
    "start_time": "2024-08-16T18:19:52.395Z"
   },
   {
    "duration": 24,
    "start_time": "2024-08-16T18:19:52.411Z"
   },
   {
    "duration": 209,
    "start_time": "2024-08-16T18:19:52.438Z"
   },
   {
    "duration": 216,
    "start_time": "2024-08-16T18:19:52.650Z"
   },
   {
    "duration": 22,
    "start_time": "2024-08-16T18:19:52.868Z"
   },
   {
    "duration": 16,
    "start_time": "2024-08-16T18:19:52.893Z"
   },
   {
    "duration": 1194,
    "start_time": "2024-08-16T18:19:52.912Z"
   },
   {
    "duration": 315,
    "start_time": "2024-08-20T17:40:15.406Z"
   },
   {
    "duration": 4952,
    "start_time": "2024-08-20T17:40:37.553Z"
   },
   {
    "duration": 648,
    "start_time": "2024-08-20T17:40:42.510Z"
   },
   {
    "duration": 198,
    "start_time": "2024-08-20T17:40:43.161Z"
   },
   {
    "duration": 5,
    "start_time": "2024-08-20T17:40:43.362Z"
   },
   {
    "duration": 53,
    "start_time": "2024-08-20T17:40:43.372Z"
   },
   {
    "duration": 53,
    "start_time": "2024-08-20T17:40:43.428Z"
   },
   {
    "duration": 31,
    "start_time": "2024-08-20T17:40:43.484Z"
   },
   {
    "duration": 237,
    "start_time": "2024-08-20T17:40:43.517Z"
   },
   {
    "duration": 125,
    "start_time": "2024-08-20T17:40:43.757Z"
   },
   {
    "duration": 89,
    "start_time": "2024-08-20T17:40:43.885Z"
   },
   {
    "duration": 27,
    "start_time": "2024-08-20T17:40:43.977Z"
   },
   {
    "duration": 13,
    "start_time": "2024-08-20T17:40:44.007Z"
   },
   {
    "duration": 19,
    "start_time": "2024-08-20T17:40:44.023Z"
   },
   {
    "duration": 8,
    "start_time": "2024-08-20T17:40:44.047Z"
   },
   {
    "duration": 47,
    "start_time": "2024-08-20T17:40:44.058Z"
   },
   {
    "duration": 6,
    "start_time": "2024-08-20T17:40:44.108Z"
   },
   {
    "duration": 618,
    "start_time": "2024-08-20T17:40:44.117Z"
   },
   {
    "duration": 43,
    "start_time": "2024-08-20T17:40:44.738Z"
   },
   {
    "duration": 35,
    "start_time": "2024-08-20T17:40:44.783Z"
   },
   {
    "duration": 24,
    "start_time": "2024-08-20T17:40:44.821Z"
   },
   {
    "duration": 196,
    "start_time": "2024-08-20T17:40:44.848Z"
   },
   {
    "duration": 212,
    "start_time": "2024-08-20T17:40:45.046Z"
   },
   {
    "duration": 11,
    "start_time": "2024-08-20T17:40:45.261Z"
   },
   {
    "duration": 41,
    "start_time": "2024-08-20T17:40:45.275Z"
   },
   {
    "duration": 1224,
    "start_time": "2024-08-20T17:40:45.319Z"
   },
   {
    "duration": 9,
    "start_time": "2024-08-20T17:40:46.546Z"
   },
   {
    "duration": 12,
    "start_time": "2024-08-20T17:41:06.931Z"
   },
   {
    "duration": 309,
    "start_time": "2024-08-20T18:31:06.400Z"
   },
   {
    "duration": 4876,
    "start_time": "2024-08-20T18:31:14.240Z"
   },
   {
    "duration": 643,
    "start_time": "2024-08-20T18:31:19.122Z"
   },
   {
    "duration": 205,
    "start_time": "2024-08-20T18:31:19.768Z"
   },
   {
    "duration": 5,
    "start_time": "2024-08-20T18:31:19.977Z"
   },
   {
    "duration": 60,
    "start_time": "2024-08-20T18:31:19.986Z"
   },
   {
    "duration": 52,
    "start_time": "2024-08-20T18:31:20.049Z"
   },
   {
    "duration": 11,
    "start_time": "2024-08-20T18:31:20.124Z"
   },
   {
    "duration": 245,
    "start_time": "2024-08-20T18:31:20.138Z"
   },
   {
    "duration": 124,
    "start_time": "2024-08-20T18:31:20.386Z"
   },
   {
    "duration": 93,
    "start_time": "2024-08-20T18:31:20.523Z"
   },
   {
    "duration": 29,
    "start_time": "2024-08-20T18:31:20.619Z"
   },
   {
    "duration": 14,
    "start_time": "2024-08-20T18:31:20.651Z"
   },
   {
    "duration": 18,
    "start_time": "2024-08-20T18:31:20.668Z"
   },
   {
    "duration": 37,
    "start_time": "2024-08-20T18:31:20.689Z"
   },
   {
    "duration": 15,
    "start_time": "2024-08-20T18:31:20.730Z"
   },
   {
    "duration": 7,
    "start_time": "2024-08-20T18:31:20.748Z"
   },
   {
    "duration": 624,
    "start_time": "2024-08-20T18:31:20.759Z"
   },
   {
    "duration": 49,
    "start_time": "2024-08-20T18:31:21.387Z"
   },
   {
    "duration": 16,
    "start_time": "2024-08-20T18:31:21.440Z"
   },
   {
    "duration": 25,
    "start_time": "2024-08-20T18:31:21.459Z"
   },
   {
    "duration": 214,
    "start_time": "2024-08-20T18:31:21.487Z"
   },
   {
    "duration": 771,
    "start_time": "2024-08-20T18:31:21.704Z"
   },
   {
    "duration": 0,
    "start_time": "2024-08-20T18:31:22.479Z"
   },
   {
    "duration": 0,
    "start_time": "2024-08-20T18:31:22.481Z"
   },
   {
    "duration": 0,
    "start_time": "2024-08-20T18:31:22.483Z"
   },
   {
    "duration": 866,
    "start_time": "2024-08-20T18:38:53.486Z"
   },
   {
    "duration": 171,
    "start_time": "2024-08-20T18:39:33.489Z"
   },
   {
    "duration": 36,
    "start_time": "2024-08-20T18:39:47.566Z"
   },
   {
    "duration": 19,
    "start_time": "2024-08-20T18:43:44.856Z"
   },
   {
    "duration": 4,
    "start_time": "2024-08-20T18:46:15.741Z"
   },
   {
    "duration": 550,
    "start_time": "2024-08-20T18:46:15.751Z"
   },
   {
    "duration": 201,
    "start_time": "2024-08-20T18:46:16.305Z"
   },
   {
    "duration": 14,
    "start_time": "2024-08-20T18:46:16.509Z"
   },
   {
    "duration": 40,
    "start_time": "2024-08-20T18:46:16.525Z"
   },
   {
    "duration": 83,
    "start_time": "2024-08-20T18:46:16.570Z"
   },
   {
    "duration": 12,
    "start_time": "2024-08-20T18:46:16.656Z"
   },
   {
    "duration": 235,
    "start_time": "2024-08-20T18:46:16.671Z"
   },
   {
    "duration": 113,
    "start_time": "2024-08-20T18:46:16.909Z"
   },
   {
    "duration": 56,
    "start_time": "2024-08-20T18:46:17.025Z"
   },
   {
    "duration": 43,
    "start_time": "2024-08-20T18:46:17.087Z"
   },
   {
    "duration": 14,
    "start_time": "2024-08-20T18:46:17.133Z"
   },
   {
    "duration": 17,
    "start_time": "2024-08-20T18:46:17.150Z"
   },
   {
    "duration": 7,
    "start_time": "2024-08-20T18:46:17.170Z"
   },
   {
    "duration": 49,
    "start_time": "2024-08-20T18:46:17.183Z"
   },
   {
    "duration": 6,
    "start_time": "2024-08-20T18:46:17.236Z"
   },
   {
    "duration": 601,
    "start_time": "2024-08-20T18:46:17.245Z"
   },
   {
    "duration": 42,
    "start_time": "2024-08-20T18:46:17.848Z"
   },
   {
    "duration": 37,
    "start_time": "2024-08-20T18:46:17.893Z"
   },
   {
    "duration": 181,
    "start_time": "2024-08-20T18:46:17.933Z"
   },
   {
    "duration": 87,
    "start_time": "2024-08-20T18:46:18.116Z"
   },
   {
    "duration": 0,
    "start_time": "2024-08-20T18:46:18.206Z"
   },
   {
    "duration": 0,
    "start_time": "2024-08-20T18:46:18.208Z"
   },
   {
    "duration": 0,
    "start_time": "2024-08-20T18:46:18.223Z"
   },
   {
    "duration": 96,
    "start_time": "2024-08-20T18:47:41.597Z"
   },
   {
    "duration": 499,
    "start_time": "2024-08-20T18:49:40.823Z"
   },
   {
    "duration": 4,
    "start_time": "2024-08-20T18:50:09.572Z"
   },
   {
    "duration": 593,
    "start_time": "2024-08-20T18:50:09.583Z"
   },
   {
    "duration": 199,
    "start_time": "2024-08-20T18:50:10.179Z"
   },
   {
    "duration": 5,
    "start_time": "2024-08-20T18:50:10.381Z"
   },
   {
    "duration": 56,
    "start_time": "2024-08-20T18:50:10.389Z"
   },
   {
    "duration": 46,
    "start_time": "2024-08-20T18:50:10.449Z"
   },
   {
    "duration": 30,
    "start_time": "2024-08-20T18:50:10.498Z"
   },
   {
    "duration": 236,
    "start_time": "2024-08-20T18:50:10.532Z"
   },
   {
    "duration": 111,
    "start_time": "2024-08-20T18:50:10.771Z"
   },
   {
    "duration": 64,
    "start_time": "2024-08-20T18:50:10.885Z"
   },
   {
    "duration": 29,
    "start_time": "2024-08-20T18:50:10.952Z"
   },
   {
    "duration": 13,
    "start_time": "2024-08-20T18:50:10.983Z"
   },
   {
    "duration": 19,
    "start_time": "2024-08-20T18:50:11.024Z"
   },
   {
    "duration": 7,
    "start_time": "2024-08-20T18:50:11.046Z"
   },
   {
    "duration": 14,
    "start_time": "2024-08-20T18:50:11.059Z"
   },
   {
    "duration": 50,
    "start_time": "2024-08-20T18:50:11.076Z"
   },
   {
    "duration": 597,
    "start_time": "2024-08-20T18:50:11.129Z"
   },
   {
    "duration": 42,
    "start_time": "2024-08-20T18:50:11.730Z"
   },
   {
    "duration": 14,
    "start_time": "2024-08-20T18:50:11.775Z"
   },
   {
    "duration": 219,
    "start_time": "2024-08-20T18:50:11.793Z"
   },
   {
    "duration": 97,
    "start_time": "2024-08-20T18:50:12.014Z"
   },
   {
    "duration": 0,
    "start_time": "2024-08-20T18:50:12.122Z"
   },
   {
    "duration": 1,
    "start_time": "2024-08-20T18:50:12.123Z"
   },
   {
    "duration": 0,
    "start_time": "2024-08-20T18:50:12.125Z"
   },
   {
    "duration": 97,
    "start_time": "2024-08-20T18:53:30.949Z"
   },
   {
    "duration": 232,
    "start_time": "2024-08-20T18:54:22.541Z"
   },
   {
    "duration": 4,
    "start_time": "2024-08-20T18:54:27.883Z"
   },
   {
    "duration": 556,
    "start_time": "2024-08-20T18:54:27.894Z"
   },
   {
    "duration": 187,
    "start_time": "2024-08-20T18:54:28.453Z"
   },
   {
    "duration": 5,
    "start_time": "2024-08-20T18:54:28.643Z"
   },
   {
    "duration": 40,
    "start_time": "2024-08-20T18:54:28.652Z"
   },
   {
    "duration": 46,
    "start_time": "2024-08-20T18:54:28.722Z"
   },
   {
    "duration": 8,
    "start_time": "2024-08-20T18:54:28.771Z"
   },
   {
    "duration": 259,
    "start_time": "2024-08-20T18:54:28.782Z"
   },
   {
    "duration": 110,
    "start_time": "2024-08-20T18:54:29.044Z"
   },
   {
    "duration": 66,
    "start_time": "2024-08-20T18:54:29.157Z"
   },
   {
    "duration": 27,
    "start_time": "2024-08-20T18:54:29.226Z"
   },
   {
    "duration": 14,
    "start_time": "2024-08-20T18:54:29.256Z"
   },
   {
    "duration": 50,
    "start_time": "2024-08-20T18:54:29.273Z"
   },
   {
    "duration": 8,
    "start_time": "2024-08-20T18:54:29.327Z"
   },
   {
    "duration": 15,
    "start_time": "2024-08-20T18:54:29.343Z"
   },
   {
    "duration": 7,
    "start_time": "2024-08-20T18:54:29.361Z"
   },
   {
    "duration": 675,
    "start_time": "2024-08-20T18:54:29.371Z"
   },
   {
    "duration": 43,
    "start_time": "2024-08-20T18:54:30.049Z"
   },
   {
    "duration": 36,
    "start_time": "2024-08-20T18:54:30.094Z"
   },
   {
    "duration": 203,
    "start_time": "2024-08-20T18:54:30.136Z"
   },
   {
    "duration": 94,
    "start_time": "2024-08-20T18:54:30.343Z"
   },
   {
    "duration": 0,
    "start_time": "2024-08-20T18:54:30.440Z"
   },
   {
    "duration": 0,
    "start_time": "2024-08-20T18:54:30.442Z"
   },
   {
    "duration": 0,
    "start_time": "2024-08-20T18:54:30.444Z"
   },
   {
    "duration": 117,
    "start_time": "2024-08-20T18:56:20.224Z"
   },
   {
    "duration": 3,
    "start_time": "2024-08-20T18:56:38.106Z"
   },
   {
    "duration": 567,
    "start_time": "2024-08-20T18:56:38.113Z"
   },
   {
    "duration": 191,
    "start_time": "2024-08-20T18:56:38.684Z"
   },
   {
    "duration": 5,
    "start_time": "2024-08-20T18:56:38.878Z"
   },
   {
    "duration": 53,
    "start_time": "2024-08-20T18:56:38.888Z"
   },
   {
    "duration": 46,
    "start_time": "2024-08-20T18:56:38.945Z"
   },
   {
    "duration": 33,
    "start_time": "2024-08-20T18:56:38.994Z"
   },
   {
    "duration": 225,
    "start_time": "2024-08-20T18:56:39.031Z"
   },
   {
    "duration": 110,
    "start_time": "2024-08-20T18:56:39.262Z"
   },
   {
    "duration": 70,
    "start_time": "2024-08-20T18:56:39.375Z"
   },
   {
    "duration": 29,
    "start_time": "2024-08-20T18:56:39.451Z"
   },
   {
    "duration": 39,
    "start_time": "2024-08-20T18:56:39.484Z"
   },
   {
    "duration": 15,
    "start_time": "2024-08-20T18:56:39.526Z"
   },
   {
    "duration": 7,
    "start_time": "2024-08-20T18:56:39.544Z"
   },
   {
    "duration": 16,
    "start_time": "2024-08-20T18:56:39.555Z"
   },
   {
    "duration": 49,
    "start_time": "2024-08-20T18:56:39.574Z"
   },
   {
    "duration": 590,
    "start_time": "2024-08-20T18:56:39.626Z"
   },
   {
    "duration": 44,
    "start_time": "2024-08-20T18:56:40.223Z"
   },
   {
    "duration": 14,
    "start_time": "2024-08-20T18:56:40.270Z"
   },
   {
    "duration": 222,
    "start_time": "2024-08-20T18:56:40.287Z"
   },
   {
    "duration": 140,
    "start_time": "2024-08-20T18:56:40.512Z"
   },
   {
    "duration": 0,
    "start_time": "2024-08-20T18:56:40.655Z"
   },
   {
    "duration": 0,
    "start_time": "2024-08-20T18:56:40.656Z"
   },
   {
    "duration": 0,
    "start_time": "2024-08-20T18:56:40.658Z"
   },
   {
    "duration": 4,
    "start_time": "2024-08-20T18:57:15.092Z"
   },
   {
    "duration": 562,
    "start_time": "2024-08-20T18:57:15.099Z"
   },
   {
    "duration": 192,
    "start_time": "2024-08-20T18:57:15.664Z"
   },
   {
    "duration": 5,
    "start_time": "2024-08-20T18:57:15.860Z"
   },
   {
    "duration": 57,
    "start_time": "2024-08-20T18:57:15.870Z"
   },
   {
    "duration": 47,
    "start_time": "2024-08-20T18:57:15.929Z"
   },
   {
    "duration": 8,
    "start_time": "2024-08-20T18:57:15.978Z"
   },
   {
    "duration": 240,
    "start_time": "2024-08-20T18:57:15.989Z"
   },
   {
    "duration": 119,
    "start_time": "2024-08-20T18:57:16.233Z"
   },
   {
    "duration": 57,
    "start_time": "2024-08-20T18:57:16.356Z"
   },
   {
    "duration": 28,
    "start_time": "2024-08-20T18:57:16.424Z"
   },
   {
    "duration": 13,
    "start_time": "2024-08-20T18:57:16.455Z"
   },
   {
    "duration": 15,
    "start_time": "2024-08-20T18:57:16.471Z"
   },
   {
    "duration": 6,
    "start_time": "2024-08-20T18:57:16.526Z"
   },
   {
    "duration": 15,
    "start_time": "2024-08-20T18:57:16.536Z"
   },
   {
    "duration": 9,
    "start_time": "2024-08-20T18:57:16.554Z"
   },
   {
    "duration": 592,
    "start_time": "2024-08-20T18:57:16.566Z"
   },
   {
    "duration": 40,
    "start_time": "2024-08-20T18:57:17.160Z"
   },
   {
    "duration": 31,
    "start_time": "2024-08-20T18:57:17.203Z"
   },
   {
    "duration": 222,
    "start_time": "2024-08-20T18:57:17.237Z"
   },
   {
    "duration": 118,
    "start_time": "2024-08-20T18:57:17.462Z"
   },
   {
    "duration": 0,
    "start_time": "2024-08-20T18:57:17.582Z"
   },
   {
    "duration": 0,
    "start_time": "2024-08-20T18:57:17.584Z"
   },
   {
    "duration": 0,
    "start_time": "2024-08-20T18:57:17.586Z"
   },
   {
    "duration": 37,
    "start_time": "2024-08-20T18:58:14.721Z"
   },
   {
    "duration": 116,
    "start_time": "2024-08-20T18:58:51.198Z"
   },
   {
    "duration": 267,
    "start_time": "2024-08-20T19:02:40.584Z"
   },
   {
    "duration": 4,
    "start_time": "2024-08-20T19:02:49.901Z"
   },
   {
    "duration": 582,
    "start_time": "2024-08-20T19:02:49.917Z"
   },
   {
    "duration": 201,
    "start_time": "2024-08-20T19:02:50.502Z"
   },
   {
    "duration": 5,
    "start_time": "2024-08-20T19:02:50.706Z"
   },
   {
    "duration": 46,
    "start_time": "2024-08-20T19:02:50.725Z"
   },
   {
    "duration": 70,
    "start_time": "2024-08-20T19:02:50.773Z"
   },
   {
    "duration": 8,
    "start_time": "2024-08-20T19:02:50.846Z"
   },
   {
    "duration": 228,
    "start_time": "2024-08-20T19:02:50.858Z"
   },
   {
    "duration": 134,
    "start_time": "2024-08-20T19:02:51.089Z"
   },
   {
    "duration": 59,
    "start_time": "2024-08-20T19:02:51.225Z"
   },
   {
    "duration": 42,
    "start_time": "2024-08-20T19:02:51.290Z"
   },
   {
    "duration": 12,
    "start_time": "2024-08-20T19:02:51.335Z"
   },
   {
    "duration": 16,
    "start_time": "2024-08-20T19:02:51.350Z"
   },
   {
    "duration": 7,
    "start_time": "2024-08-20T19:02:51.369Z"
   },
   {
    "duration": 54,
    "start_time": "2024-08-20T19:02:51.379Z"
   },
   {
    "duration": 7,
    "start_time": "2024-08-20T19:02:51.436Z"
   },
   {
    "duration": 577,
    "start_time": "2024-08-20T19:02:51.446Z"
   },
   {
    "duration": 40,
    "start_time": "2024-08-20T19:02:52.027Z"
   },
   {
    "duration": 14,
    "start_time": "2024-08-20T19:02:52.070Z"
   },
   {
    "duration": 303,
    "start_time": "2024-08-20T19:02:52.086Z"
   },
   {
    "duration": 0,
    "start_time": "2024-08-20T19:02:52.392Z"
   },
   {
    "duration": 0,
    "start_time": "2024-08-20T19:02:52.394Z"
   },
   {
    "duration": 0,
    "start_time": "2024-08-20T19:02:52.397Z"
   },
   {
    "duration": 0,
    "start_time": "2024-08-20T19:02:52.399Z"
   },
   {
    "duration": 115,
    "start_time": "2024-08-20T19:03:49.610Z"
   },
   {
    "duration": 101,
    "start_time": "2024-08-20T19:04:35.502Z"
   },
   {
    "duration": 261,
    "start_time": "2024-08-20T19:05:48.776Z"
   },
   {
    "duration": 274,
    "start_time": "2024-08-20T19:06:12.259Z"
   },
   {
    "duration": 290,
    "start_time": "2024-08-20T19:06:59.486Z"
   },
   {
    "duration": 105,
    "start_time": "2024-08-20T19:07:28.927Z"
   },
   {
    "duration": 118,
    "start_time": "2024-08-20T19:07:47.189Z"
   },
   {
    "duration": 119,
    "start_time": "2024-08-20T19:08:26.262Z"
   },
   {
    "duration": 131,
    "start_time": "2024-08-20T19:09:04.783Z"
   },
   {
    "duration": 116,
    "start_time": "2024-08-20T19:09:19.826Z"
   },
   {
    "duration": 278,
    "start_time": "2024-08-20T19:10:20.275Z"
   },
   {
    "duration": 1243,
    "start_time": "2024-08-20T19:10:41.053Z"
   },
   {
    "duration": 577,
    "start_time": "2024-08-20T19:10:42.300Z"
   },
   {
    "duration": 189,
    "start_time": "2024-08-20T19:10:42.880Z"
   },
   {
    "duration": 5,
    "start_time": "2024-08-20T19:10:43.074Z"
   },
   {
    "duration": 61,
    "start_time": "2024-08-20T19:10:43.082Z"
   },
   {
    "duration": 51,
    "start_time": "2024-08-20T19:10:43.146Z"
   },
   {
    "duration": 30,
    "start_time": "2024-08-20T19:10:43.200Z"
   },
   {
    "duration": 232,
    "start_time": "2024-08-20T19:10:43.233Z"
   },
   {
    "duration": 120,
    "start_time": "2024-08-20T19:10:43.468Z"
   },
   {
    "duration": 71,
    "start_time": "2024-08-20T19:10:43.594Z"
   },
   {
    "duration": 27,
    "start_time": "2024-08-20T19:10:43.668Z"
   },
   {
    "duration": 32,
    "start_time": "2024-08-20T19:10:43.698Z"
   },
   {
    "duration": 16,
    "start_time": "2024-08-20T19:10:43.733Z"
   },
   {
    "duration": 7,
    "start_time": "2024-08-20T19:10:43.752Z"
   },
   {
    "duration": 15,
    "start_time": "2024-08-20T19:10:43.762Z"
   },
   {
    "duration": 48,
    "start_time": "2024-08-20T19:10:43.780Z"
   },
   {
    "duration": 603,
    "start_time": "2024-08-20T19:10:43.831Z"
   },
   {
    "duration": 41,
    "start_time": "2024-08-20T19:10:44.438Z"
   },
   {
    "duration": 41,
    "start_time": "2024-08-20T19:10:44.482Z"
   },
   {
    "duration": 1334,
    "start_time": "2024-08-20T19:10:44.525Z"
   },
   {
    "duration": 0,
    "start_time": "2024-08-20T19:10:45.862Z"
   },
   {
    "duration": 0,
    "start_time": "2024-08-20T19:10:45.864Z"
   },
   {
    "duration": 0,
    "start_time": "2024-08-20T19:10:45.866Z"
   },
   {
    "duration": 0,
    "start_time": "2024-08-20T19:10:45.868Z"
   },
   {
    "duration": 274,
    "start_time": "2024-08-20T19:13:49.078Z"
   },
   {
    "duration": 122,
    "start_time": "2024-08-20T19:14:08.918Z"
   },
   {
    "duration": 281,
    "start_time": "2024-08-20T19:14:52.718Z"
   },
   {
    "duration": 267,
    "start_time": "2024-08-20T19:19:23.425Z"
   },
   {
    "duration": 525,
    "start_time": "2024-08-20T19:20:24.570Z"
   },
   {
    "duration": 276,
    "start_time": "2024-08-20T19:22:55.669Z"
   },
   {
    "duration": 117,
    "start_time": "2024-08-20T19:24:28.954Z"
   },
   {
    "duration": 102,
    "start_time": "2024-08-20T19:25:49.463Z"
   },
   {
    "duration": 11,
    "start_time": "2024-08-20T19:26:27.475Z"
   },
   {
    "duration": 3,
    "start_time": "2024-08-20T19:26:39.488Z"
   },
   {
    "duration": 559,
    "start_time": "2024-08-20T19:26:39.496Z"
   },
   {
    "duration": 203,
    "start_time": "2024-08-20T19:26:40.059Z"
   },
   {
    "duration": 8,
    "start_time": "2024-08-20T19:26:40.266Z"
   },
   {
    "duration": 58,
    "start_time": "2024-08-20T19:26:40.279Z"
   },
   {
    "duration": 45,
    "start_time": "2024-08-20T19:26:40.340Z"
   },
   {
    "duration": 9,
    "start_time": "2024-08-20T19:26:40.387Z"
   },
   {
    "duration": 218,
    "start_time": "2024-08-20T19:26:40.422Z"
   },
   {
    "duration": 102,
    "start_time": "2024-08-20T19:26:40.644Z"
   },
   {
    "duration": 57,
    "start_time": "2024-08-20T19:26:40.749Z"
   },
   {
    "duration": 37,
    "start_time": "2024-08-20T19:26:40.824Z"
   },
   {
    "duration": 13,
    "start_time": "2024-08-20T19:26:40.865Z"
   },
   {
    "duration": 44,
    "start_time": "2024-08-20T19:26:40.880Z"
   },
   {
    "duration": 7,
    "start_time": "2024-08-20T19:26:40.927Z"
   },
   {
    "duration": 13,
    "start_time": "2024-08-20T19:26:40.938Z"
   },
   {
    "duration": 7,
    "start_time": "2024-08-20T19:26:40.954Z"
   },
   {
    "duration": 595,
    "start_time": "2024-08-20T19:26:40.963Z"
   },
   {
    "duration": 39,
    "start_time": "2024-08-20T19:26:41.561Z"
   },
   {
    "duration": 30,
    "start_time": "2024-08-20T19:26:41.603Z"
   },
   {
    "duration": 136,
    "start_time": "2024-08-20T19:26:41.636Z"
   },
   {
    "duration": 10,
    "start_time": "2024-08-20T19:26:41.775Z"
   },
   {
    "duration": 101,
    "start_time": "2024-08-20T19:26:41.788Z"
   },
   {
    "duration": 0,
    "start_time": "2024-08-20T19:26:41.896Z"
   },
   {
    "duration": 0,
    "start_time": "2024-08-20T19:26:41.897Z"
   },
   {
    "duration": 0,
    "start_time": "2024-08-20T19:26:41.899Z"
   },
   {
    "duration": 153,
    "start_time": "2024-08-20T19:29:51.581Z"
   },
   {
    "duration": 13,
    "start_time": "2024-08-20T19:33:12.434Z"
   },
   {
    "duration": 289,
    "start_time": "2024-08-20T19:38:00.390Z"
   },
   {
    "duration": 40,
    "start_time": "2024-08-20T19:38:14.202Z"
   },
   {
    "duration": 16,
    "start_time": "2024-08-20T19:40:40.359Z"
   },
   {
    "duration": 98,
    "start_time": "2024-08-20T19:43:02.745Z"
   },
   {
    "duration": 95,
    "start_time": "2024-08-20T19:44:27.783Z"
   },
   {
    "duration": 72,
    "start_time": "2024-08-20T19:48:58.702Z"
   },
   {
    "duration": 162,
    "start_time": "2024-08-20T19:56:36.670Z"
   },
   {
    "duration": 85,
    "start_time": "2024-08-20T19:56:53.441Z"
   },
   {
    "duration": 84,
    "start_time": "2024-08-20T19:57:33.389Z"
   },
   {
    "duration": 1252,
    "start_time": "2024-08-20T19:57:44.749Z"
   },
   {
    "duration": 567,
    "start_time": "2024-08-20T19:57:46.005Z"
   },
   {
    "duration": 213,
    "start_time": "2024-08-20T19:57:46.575Z"
   },
   {
    "duration": 7,
    "start_time": "2024-08-20T19:57:46.792Z"
   },
   {
    "duration": 59,
    "start_time": "2024-08-20T19:57:46.802Z"
   },
   {
    "duration": 70,
    "start_time": "2024-08-20T19:57:46.865Z"
   },
   {
    "duration": 10,
    "start_time": "2024-08-20T19:57:46.938Z"
   },
   {
    "duration": 245,
    "start_time": "2024-08-20T19:57:46.951Z"
   },
   {
    "duration": 143,
    "start_time": "2024-08-20T19:57:47.200Z"
   },
   {
    "duration": 74,
    "start_time": "2024-08-20T19:57:47.349Z"
   },
   {
    "duration": 28,
    "start_time": "2024-08-20T19:57:47.426Z"
   },
   {
    "duration": 13,
    "start_time": "2024-08-20T19:57:47.457Z"
   },
   {
    "duration": 17,
    "start_time": "2024-08-20T19:57:47.473Z"
   },
   {
    "duration": 8,
    "start_time": "2024-08-20T19:57:47.523Z"
   },
   {
    "duration": 15,
    "start_time": "2024-08-20T19:57:47.535Z"
   },
   {
    "duration": 7,
    "start_time": "2024-08-20T19:57:47.554Z"
   },
   {
    "duration": 622,
    "start_time": "2024-08-20T19:57:47.564Z"
   },
   {
    "duration": 50,
    "start_time": "2024-08-20T19:57:48.189Z"
   },
   {
    "duration": 15,
    "start_time": "2024-08-20T19:57:48.242Z"
   },
   {
    "duration": 151,
    "start_time": "2024-08-20T19:57:48.260Z"
   },
   {
    "duration": 188,
    "start_time": "2024-08-20T19:57:48.414Z"
   },
   {
    "duration": 564,
    "start_time": "2024-08-20T19:57:48.604Z"
   },
   {
    "duration": 0,
    "start_time": "2024-08-20T19:57:49.170Z"
   },
   {
    "duration": 0,
    "start_time": "2024-08-20T19:57:49.173Z"
   },
   {
    "duration": 871,
    "start_time": "2024-08-20T19:58:12.921Z"
   },
   {
    "duration": 1285,
    "start_time": "2024-08-20T19:58:47.025Z"
   },
   {
    "duration": 568,
    "start_time": "2024-08-20T19:58:48.314Z"
   },
   {
    "duration": 187,
    "start_time": "2024-08-20T19:58:48.885Z"
   },
   {
    "duration": 5,
    "start_time": "2024-08-20T19:58:49.075Z"
   },
   {
    "duration": 53,
    "start_time": "2024-08-20T19:58:49.085Z"
   },
   {
    "duration": 51,
    "start_time": "2024-08-20T19:58:49.141Z"
   },
   {
    "duration": 34,
    "start_time": "2024-08-20T19:58:49.194Z"
   },
   {
    "duration": 240,
    "start_time": "2024-08-20T19:58:49.231Z"
   },
   {
    "duration": 119,
    "start_time": "2024-08-20T19:58:49.473Z"
   },
   {
    "duration": 72,
    "start_time": "2024-08-20T19:58:49.595Z"
   },
   {
    "duration": 39,
    "start_time": "2024-08-20T19:58:49.670Z"
   },
   {
    "duration": 25,
    "start_time": "2024-08-20T19:58:49.712Z"
   },
   {
    "duration": 21,
    "start_time": "2024-08-20T19:58:49.741Z"
   },
   {
    "duration": 8,
    "start_time": "2024-08-20T19:58:49.767Z"
   },
   {
    "duration": 45,
    "start_time": "2024-08-20T19:58:49.778Z"
   },
   {
    "duration": 9,
    "start_time": "2024-08-20T19:58:49.827Z"
   },
   {
    "duration": 632,
    "start_time": "2024-08-20T19:58:49.840Z"
   },
   {
    "duration": 55,
    "start_time": "2024-08-20T19:58:50.475Z"
   },
   {
    "duration": 15,
    "start_time": "2024-08-20T19:58:50.533Z"
   },
   {
    "duration": 148,
    "start_time": "2024-08-20T19:58:50.551Z"
   },
   {
    "duration": 186,
    "start_time": "2024-08-20T19:58:50.702Z"
   },
   {
    "duration": 98,
    "start_time": "2024-08-20T19:58:50.890Z"
   },
   {
    "duration": 47,
    "start_time": "2024-08-20T19:58:50.991Z"
   },
   {
    "duration": 1350,
    "start_time": "2024-08-20T19:58:51.042Z"
   },
   {
    "duration": 29,
    "start_time": "2024-08-20T20:00:06.921Z"
   },
   {
    "duration": 29,
    "start_time": "2024-08-20T20:00:15.804Z"
   },
   {
    "duration": 22,
    "start_time": "2024-08-20T20:01:18.791Z"
   },
   {
    "duration": 514,
    "start_time": "2024-08-20T20:01:36.920Z"
   },
   {
    "duration": 19,
    "start_time": "2024-08-20T20:02:32.099Z"
   },
   {
    "duration": 1176,
    "start_time": "2024-08-20T20:02:34.756Z"
   },
   {
    "duration": 1008,
    "start_time": "2024-08-20T20:03:04.764Z"
   },
   {
    "duration": 552,
    "start_time": "2024-08-20T20:06:32.492Z"
   },
   {
    "duration": 3,
    "start_time": "2024-08-20T20:06:49.971Z"
   },
   {
    "duration": 579,
    "start_time": "2024-08-20T20:06:49.981Z"
   },
   {
    "duration": 201,
    "start_time": "2024-08-20T20:06:50.563Z"
   },
   {
    "duration": 5,
    "start_time": "2024-08-20T20:06:50.767Z"
   },
   {
    "duration": 64,
    "start_time": "2024-08-20T20:06:50.777Z"
   },
   {
    "duration": 51,
    "start_time": "2024-08-20T20:06:50.844Z"
   },
   {
    "duration": 26,
    "start_time": "2024-08-20T20:06:50.898Z"
   },
   {
    "duration": 235,
    "start_time": "2024-08-20T20:06:50.928Z"
   },
   {
    "duration": 98,
    "start_time": "2024-08-20T20:06:51.166Z"
   },
   {
    "duration": 64,
    "start_time": "2024-08-20T20:06:51.267Z"
   },
   {
    "duration": 29,
    "start_time": "2024-08-20T20:06:51.336Z"
   },
   {
    "duration": 13,
    "start_time": "2024-08-20T20:06:51.368Z"
   },
   {
    "duration": 48,
    "start_time": "2024-08-20T20:06:51.384Z"
   },
   {
    "duration": 7,
    "start_time": "2024-08-20T20:06:51.435Z"
   },
   {
    "duration": 15,
    "start_time": "2024-08-20T20:06:51.445Z"
   },
   {
    "duration": 7,
    "start_time": "2024-08-20T20:06:51.462Z"
   },
   {
    "duration": 609,
    "start_time": "2024-08-20T20:06:51.473Z"
   },
   {
    "duration": 43,
    "start_time": "2024-08-20T20:06:52.087Z"
   },
   {
    "duration": 14,
    "start_time": "2024-08-20T20:06:52.133Z"
   },
   {
    "duration": 145,
    "start_time": "2024-08-20T20:06:52.150Z"
   },
   {
    "duration": 164,
    "start_time": "2024-08-20T20:06:52.298Z"
   },
   {
    "duration": 90,
    "start_time": "2024-08-20T20:06:52.464Z"
   },
   {
    "duration": 78,
    "start_time": "2024-08-20T20:06:52.557Z"
   },
   {
    "duration": 0,
    "start_time": "2024-08-20T20:06:52.638Z"
   },
   {
    "duration": 17,
    "start_time": "2024-08-20T20:07:33.769Z"
   },
   {
    "duration": 17,
    "start_time": "2024-08-20T20:08:57.978Z"
   },
   {
    "duration": 1020,
    "start_time": "2024-08-20T20:09:02.959Z"
   },
   {
    "duration": 1010,
    "start_time": "2024-08-20T20:10:06.537Z"
   },
   {
    "duration": 80,
    "start_time": "2024-08-20T20:17:33.278Z"
   },
   {
    "duration": 21,
    "start_time": "2024-08-20T20:17:52.551Z"
   },
   {
    "duration": 20,
    "start_time": "2024-08-20T20:19:02.646Z"
   },
   {
    "duration": 26,
    "start_time": "2024-08-20T21:02:27.387Z"
   },
   {
    "duration": 27,
    "start_time": "2024-08-20T21:08:10.196Z"
   },
   {
    "duration": 261,
    "start_time": "2024-08-20T21:10:12.600Z"
   },
   {
    "duration": 57,
    "start_time": "2024-08-20T21:23:53.811Z"
   },
   {
    "duration": 7,
    "start_time": "2024-08-20T21:24:10.201Z"
   },
   {
    "duration": 12,
    "start_time": "2024-08-20T21:27:06.191Z"
   },
   {
    "duration": 11,
    "start_time": "2024-08-20T21:28:16.395Z"
   },
   {
    "duration": 10,
    "start_time": "2024-08-20T21:29:16.688Z"
   },
   {
    "duration": 14,
    "start_time": "2024-08-20T21:32:12.058Z"
   },
   {
    "duration": 17,
    "start_time": "2024-08-20T21:36:40.782Z"
   },
   {
    "duration": 18,
    "start_time": "2024-08-20T21:36:53.848Z"
   },
   {
    "duration": 18,
    "start_time": "2024-08-20T21:49:44.050Z"
   },
   {
    "duration": 26,
    "start_time": "2024-08-20T21:49:56.611Z"
   },
   {
    "duration": 21,
    "start_time": "2024-08-20T21:50:07.557Z"
   },
   {
    "duration": 32,
    "start_time": "2024-08-20T21:54:54.710Z"
   },
   {
    "duration": 30,
    "start_time": "2024-08-20T21:55:25.531Z"
   },
   {
    "duration": 20,
    "start_time": "2024-08-20T21:55:48.510Z"
   },
   {
    "duration": 21,
    "start_time": "2024-08-20T21:56:37.104Z"
   },
   {
    "duration": 21,
    "start_time": "2024-08-20T21:57:34.479Z"
   },
   {
    "duration": 33,
    "start_time": "2024-08-20T21:57:59.343Z"
   },
   {
    "duration": 32,
    "start_time": "2024-08-20T21:58:17.193Z"
   },
   {
    "duration": 33,
    "start_time": "2024-08-20T21:58:32.384Z"
   },
   {
    "duration": 31,
    "start_time": "2024-08-20T21:58:42.243Z"
   },
   {
    "duration": 29,
    "start_time": "2024-08-20T21:58:52.179Z"
   },
   {
    "duration": 34,
    "start_time": "2024-08-20T22:01:39.454Z"
   },
   {
    "duration": 29,
    "start_time": "2024-08-20T22:01:58.974Z"
   },
   {
    "duration": 21,
    "start_time": "2024-08-20T22:03:41.048Z"
   },
   {
    "duration": 21,
    "start_time": "2024-08-20T22:05:37.048Z"
   },
   {
    "duration": 24,
    "start_time": "2024-08-20T22:07:34.296Z"
   },
   {
    "duration": 28,
    "start_time": "2024-08-20T22:07:41.134Z"
   },
   {
    "duration": 37,
    "start_time": "2024-08-20T22:13:35.724Z"
   },
   {
    "duration": 14,
    "start_time": "2024-08-20T22:32:03.444Z"
   },
   {
    "duration": 16,
    "start_time": "2024-08-20T22:33:36.839Z"
   },
   {
    "duration": 30,
    "start_time": "2024-08-20T22:36:36.424Z"
   },
   {
    "duration": 7,
    "start_time": "2024-08-20T22:37:08.011Z"
   },
   {
    "duration": 6,
    "start_time": "2024-08-20T22:38:12.969Z"
   },
   {
    "duration": 8,
    "start_time": "2024-08-20T22:51:46.507Z"
   },
   {
    "duration": 7,
    "start_time": "2024-08-20T22:51:52.480Z"
   },
   {
    "duration": 8,
    "start_time": "2024-08-20T22:53:57.904Z"
   },
   {
    "duration": 13,
    "start_time": "2024-08-20T22:54:33.394Z"
   },
   {
    "duration": 8,
    "start_time": "2024-08-20T22:54:59.558Z"
   },
   {
    "duration": 9,
    "start_time": "2024-08-20T22:56:54.300Z"
   },
   {
    "duration": 11,
    "start_time": "2024-08-20T22:57:09.162Z"
   },
   {
    "duration": 10,
    "start_time": "2024-08-20T22:58:03.957Z"
   },
   {
    "duration": 8,
    "start_time": "2024-08-20T22:58:50.492Z"
   },
   {
    "duration": 8,
    "start_time": "2024-08-20T22:59:04.425Z"
   },
   {
    "duration": 40,
    "start_time": "2024-08-20T23:04:50.931Z"
   },
   {
    "duration": 25,
    "start_time": "2024-08-20T23:05:06.709Z"
   },
   {
    "duration": 19,
    "start_time": "2024-08-20T23:06:42.925Z"
   },
   {
    "duration": 18,
    "start_time": "2024-08-20T23:07:02.860Z"
   },
   {
    "duration": 18,
    "start_time": "2024-08-20T23:07:17.983Z"
   },
   {
    "duration": 17,
    "start_time": "2024-08-20T23:07:24.092Z"
   },
   {
    "duration": 17,
    "start_time": "2024-08-20T23:07:30.589Z"
   },
   {
    "duration": 17,
    "start_time": "2024-08-20T23:07:37.549Z"
   },
   {
    "duration": 8,
    "start_time": "2024-08-20T23:08:21.102Z"
   },
   {
    "duration": 7,
    "start_time": "2024-08-20T23:09:03.713Z"
   },
   {
    "duration": 5,
    "start_time": "2024-08-20T23:09:27.117Z"
   },
   {
    "duration": 5,
    "start_time": "2024-08-20T23:09:58.456Z"
   },
   {
    "duration": 6,
    "start_time": "2024-08-20T23:10:46.930Z"
   },
   {
    "duration": 5,
    "start_time": "2024-08-20T23:11:05.205Z"
   },
   {
    "duration": 5,
    "start_time": "2024-08-20T23:11:12.068Z"
   },
   {
    "duration": 5,
    "start_time": "2024-08-20T23:16:42.734Z"
   },
   {
    "duration": 4,
    "start_time": "2024-08-20T23:17:01.565Z"
   },
   {
    "duration": 5,
    "start_time": "2024-08-20T23:17:20.419Z"
   },
   {
    "duration": 5,
    "start_time": "2024-08-20T23:17:34.269Z"
   },
   {
    "duration": 18,
    "start_time": "2024-08-20T23:18:19.474Z"
   },
   {
    "duration": 18,
    "start_time": "2024-08-20T23:20:52.673Z"
   },
   {
    "duration": 17,
    "start_time": "2024-08-20T23:21:14.402Z"
   },
   {
    "duration": 17,
    "start_time": "2024-08-20T23:21:32.928Z"
   },
   {
    "duration": 17,
    "start_time": "2024-08-20T23:30:53.631Z"
   },
   {
    "duration": 17,
    "start_time": "2024-08-20T23:30:58.588Z"
   },
   {
    "duration": 40,
    "start_time": "2024-08-20T23:32:49.768Z"
   },
   {
    "duration": 21,
    "start_time": "2024-08-20T23:33:02.975Z"
   },
   {
    "duration": 22,
    "start_time": "2024-08-20T23:34:36.764Z"
   },
   {
    "duration": 25,
    "start_time": "2024-08-20T23:37:18.832Z"
   },
   {
    "duration": 23,
    "start_time": "2024-08-20T23:38:04.304Z"
   },
   {
    "duration": 5,
    "start_time": "2024-08-20T23:44:56.342Z"
   },
   {
    "duration": 6,
    "start_time": "2024-08-20T23:45:51.042Z"
   },
   {
    "duration": 5,
    "start_time": "2024-08-20T23:46:16.780Z"
   },
   {
    "duration": 7,
    "start_time": "2024-08-20T23:47:36.317Z"
   },
   {
    "duration": 23,
    "start_time": "2024-08-20T23:49:02.115Z"
   },
   {
    "duration": 14,
    "start_time": "2024-08-20T23:55:27.587Z"
   },
   {
    "duration": 14,
    "start_time": "2024-08-20T23:57:00.537Z"
   },
   {
    "duration": 26,
    "start_time": "2024-08-20T23:58:40.286Z"
   },
   {
    "duration": 27,
    "start_time": "2024-08-20T23:58:59.786Z"
   },
   {
    "duration": 26,
    "start_time": "2024-08-20T23:59:33.941Z"
   },
   {
    "duration": 28,
    "start_time": "2024-08-20T23:59:38.747Z"
   },
   {
    "duration": 26,
    "start_time": "2024-08-20T23:59:42.740Z"
   },
   {
    "duration": 1559,
    "start_time": "2024-08-21T00:07:16.795Z"
   },
   {
    "duration": 8,
    "start_time": "2024-08-21T00:11:18.548Z"
   },
   {
    "duration": 1609,
    "start_time": "2024-08-21T00:11:36.605Z"
   },
   {
    "duration": 1268,
    "start_time": "2024-08-21T00:12:20.157Z"
   },
   {
    "duration": 578,
    "start_time": "2024-08-21T00:12:21.428Z"
   },
   {
    "duration": 193,
    "start_time": "2024-08-21T00:12:22.009Z"
   },
   {
    "duration": 5,
    "start_time": "2024-08-21T00:12:22.206Z"
   },
   {
    "duration": 41,
    "start_time": "2024-08-21T00:12:22.222Z"
   },
   {
    "duration": 71,
    "start_time": "2024-08-21T00:12:22.266Z"
   },
   {
    "duration": 9,
    "start_time": "2024-08-21T00:12:22.340Z"
   },
   {
    "duration": 244,
    "start_time": "2024-08-21T00:12:22.352Z"
   },
   {
    "duration": 122,
    "start_time": "2024-08-21T00:12:22.598Z"
   },
   {
    "duration": 58,
    "start_time": "2024-08-21T00:12:22.728Z"
   },
   {
    "duration": 43,
    "start_time": "2024-08-21T00:12:22.789Z"
   },
   {
    "duration": 16,
    "start_time": "2024-08-21T00:12:22.835Z"
   },
   {
    "duration": 17,
    "start_time": "2024-08-21T00:12:22.853Z"
   },
   {
    "duration": 8,
    "start_time": "2024-08-21T00:12:22.873Z"
   },
   {
    "duration": 50,
    "start_time": "2024-08-21T00:12:22.885Z"
   },
   {
    "duration": 7,
    "start_time": "2024-08-21T00:12:22.938Z"
   },
   {
    "duration": 690,
    "start_time": "2024-08-21T00:12:22.948Z"
   },
   {
    "duration": 45,
    "start_time": "2024-08-21T00:12:23.640Z"
   },
   {
    "duration": 35,
    "start_time": "2024-08-21T00:12:23.688Z"
   },
   {
    "duration": 139,
    "start_time": "2024-08-21T00:12:23.726Z"
   },
   {
    "duration": 191,
    "start_time": "2024-08-21T00:12:23.868Z"
   },
   {
    "duration": 94,
    "start_time": "2024-08-21T00:12:24.062Z"
   },
   {
    "duration": 17,
    "start_time": "2024-08-21T00:12:24.158Z"
   },
   {
    "duration": 45,
    "start_time": "2024-08-21T00:12:24.178Z"
   },
   {
    "duration": 1046,
    "start_time": "2024-08-21T00:12:24.225Z"
   },
   {
    "duration": 38,
    "start_time": "2024-08-21T00:12:25.274Z"
   },
   {
    "duration": 26,
    "start_time": "2024-08-21T00:12:25.315Z"
   },
   {
    "duration": 79,
    "start_time": "2024-08-21T00:12:25.347Z"
   },
   {
    "duration": 8,
    "start_time": "2024-08-21T00:12:25.429Z"
   },
   {
    "duration": 21,
    "start_time": "2024-08-21T00:12:25.440Z"
   },
   {
    "duration": 24,
    "start_time": "2024-08-21T00:12:25.465Z"
   },
   {
    "duration": 87,
    "start_time": "2024-08-21T00:12:25.524Z"
   },
   {
    "duration": 1704,
    "start_time": "2024-08-21T00:12:25.623Z"
   },
   {
    "duration": 2762,
    "start_time": "2024-08-21T00:14:22.562Z"
   },
   {
    "duration": 1792,
    "start_time": "2024-08-21T00:14:47.172Z"
   },
   {
    "duration": 1787,
    "start_time": "2024-08-21T00:14:55.136Z"
   },
   {
    "duration": 1749,
    "start_time": "2024-08-21T00:16:27.917Z"
   },
   {
    "duration": 1710,
    "start_time": "2024-08-21T00:16:33.950Z"
   },
   {
    "duration": 111,
    "start_time": "2024-08-21T00:16:57.989Z"
   },
   {
    "duration": 195,
    "start_time": "2024-08-21T00:17:47.461Z"
   },
   {
    "duration": 13544,
    "start_time": "2024-08-21T00:18:15.116Z"
   },
   {
    "duration": 199,
    "start_time": "2024-08-21T00:18:58.524Z"
   },
   {
    "duration": 8,
    "start_time": "2024-08-21T00:19:55.091Z"
   },
   {
    "duration": 254,
    "start_time": "2024-08-21T00:20:01.581Z"
   },
   {
    "duration": 260,
    "start_time": "2024-08-21T00:21:35.641Z"
   },
   {
    "duration": 248,
    "start_time": "2024-08-21T00:22:06.612Z"
   },
   {
    "duration": 252,
    "start_time": "2024-08-21T00:22:23.376Z"
   },
   {
    "duration": 5,
    "start_time": "2024-08-21T02:05:17.112Z"
   },
   {
    "duration": 138,
    "start_time": "2024-08-21T02:13:39.979Z"
   },
   {
    "duration": 5,
    "start_time": "2024-08-21T02:23:12.932Z"
   },
   {
    "duration": 226,
    "start_time": "2024-08-21T02:25:21.869Z"
   },
   {
    "duration": 226,
    "start_time": "2024-08-21T02:25:45.185Z"
   },
   {
    "duration": 90,
    "start_time": "2024-08-21T02:27:30.852Z"
   },
   {
    "duration": 627,
    "start_time": "2024-08-21T02:28:04.346Z"
   },
   {
    "duration": 11,
    "start_time": "2024-08-21T02:28:31.068Z"
   },
   {
    "duration": 789,
    "start_time": "2024-08-21T02:28:31.082Z"
   },
   {
    "duration": 297,
    "start_time": "2024-08-21T02:28:31.875Z"
   },
   {
    "duration": 5,
    "start_time": "2024-08-21T02:28:32.177Z"
   },
   {
    "duration": 72,
    "start_time": "2024-08-21T02:28:32.191Z"
   },
   {
    "duration": 82,
    "start_time": "2024-08-21T02:28:32.268Z"
   },
   {
    "duration": 13,
    "start_time": "2024-08-21T02:28:32.353Z"
   },
   {
    "duration": 302,
    "start_time": "2024-08-21T02:28:32.370Z"
   },
   {
    "duration": 128,
    "start_time": "2024-08-21T02:28:32.678Z"
   },
   {
    "duration": 68,
    "start_time": "2024-08-21T02:28:32.810Z"
   },
   {
    "duration": 43,
    "start_time": "2024-08-21T02:28:32.882Z"
   },
   {
    "duration": 17,
    "start_time": "2024-08-21T02:28:32.929Z"
   },
   {
    "duration": 20,
    "start_time": "2024-08-21T02:28:32.949Z"
   },
   {
    "duration": 9,
    "start_time": "2024-08-21T02:28:32.975Z"
   },
   {
    "duration": 44,
    "start_time": "2024-08-21T02:28:32.987Z"
   },
   {
    "duration": 12,
    "start_time": "2024-08-21T02:28:33.036Z"
   },
   {
    "duration": 591,
    "start_time": "2024-08-21T02:28:33.055Z"
   },
   {
    "duration": 42,
    "start_time": "2024-08-21T02:28:33.650Z"
   },
   {
    "duration": 37,
    "start_time": "2024-08-21T02:28:33.696Z"
   },
   {
    "duration": 164,
    "start_time": "2024-08-21T02:28:33.736Z"
   },
   {
    "duration": 198,
    "start_time": "2024-08-21T02:28:33.910Z"
   },
   {
    "duration": 110,
    "start_time": "2024-08-21T02:28:34.112Z"
   },
   {
    "duration": 22,
    "start_time": "2024-08-21T02:28:34.225Z"
   },
   {
    "duration": 19,
    "start_time": "2024-08-21T02:28:34.255Z"
   },
   {
    "duration": 1321,
    "start_time": "2024-08-21T02:28:34.277Z"
   },
   {
    "duration": 65,
    "start_time": "2024-08-21T02:28:35.601Z"
   },
   {
    "duration": 33,
    "start_time": "2024-08-21T02:28:35.669Z"
   },
   {
    "duration": 93,
    "start_time": "2024-08-21T02:28:35.705Z"
   },
   {
    "duration": 9,
    "start_time": "2024-08-21T02:28:35.801Z"
   },
   {
    "duration": 30,
    "start_time": "2024-08-21T02:28:35.824Z"
   },
   {
    "duration": 33,
    "start_time": "2024-08-21T02:28:35.857Z"
   },
   {
    "duration": 55,
    "start_time": "2024-08-21T02:28:35.895Z"
   },
   {
    "duration": 285,
    "start_time": "2024-08-21T02:28:35.954Z"
   },
   {
    "duration": 99,
    "start_time": "2024-08-21T02:28:36.243Z"
   },
   {
    "duration": 119,
    "start_time": "2024-08-21T02:28:36.345Z"
   },
   {
    "duration": 17,
    "start_time": "2024-08-21T02:29:05.006Z"
   },
   {
    "duration": 112,
    "start_time": "2024-08-21T02:29:37.177Z"
   },
   {
    "duration": 109,
    "start_time": "2024-08-21T02:29:57.520Z"
   },
   {
    "duration": 4,
    "start_time": "2024-08-21T02:30:18.451Z"
   },
   {
    "duration": 779,
    "start_time": "2024-08-21T02:30:18.460Z"
   },
   {
    "duration": 289,
    "start_time": "2024-08-21T02:30:19.243Z"
   },
   {
    "duration": 6,
    "start_time": "2024-08-21T02:30:19.537Z"
   },
   {
    "duration": 86,
    "start_time": "2024-08-21T02:30:19.546Z"
   },
   {
    "duration": 60,
    "start_time": "2024-08-21T02:30:19.635Z"
   },
   {
    "duration": 37,
    "start_time": "2024-08-21T02:30:19.698Z"
   },
   {
    "duration": 319,
    "start_time": "2024-08-21T02:30:19.738Z"
   },
   {
    "duration": 143,
    "start_time": "2024-08-21T02:30:20.060Z"
   },
   {
    "duration": 84,
    "start_time": "2024-08-21T02:30:20.211Z"
   },
   {
    "duration": 44,
    "start_time": "2024-08-21T02:30:20.303Z"
   },
   {
    "duration": 16,
    "start_time": "2024-08-21T02:30:20.351Z"
   },
   {
    "duration": 20,
    "start_time": "2024-08-21T02:30:20.370Z"
   },
   {
    "duration": 11,
    "start_time": "2024-08-21T02:30:20.426Z"
   },
   {
    "duration": 16,
    "start_time": "2024-08-21T02:30:20.446Z"
   },
   {
    "duration": 8,
    "start_time": "2024-08-21T02:30:20.466Z"
   },
   {
    "duration": 785,
    "start_time": "2024-08-21T02:30:20.477Z"
   },
   {
    "duration": 67,
    "start_time": "2024-08-21T02:30:21.266Z"
   },
   {
    "duration": 19,
    "start_time": "2024-08-21T02:30:21.336Z"
   },
   {
    "duration": 170,
    "start_time": "2024-08-21T02:30:21.358Z"
   },
   {
    "duration": 213,
    "start_time": "2024-08-21T02:30:21.532Z"
   },
   {
    "duration": 113,
    "start_time": "2024-08-21T02:30:21.749Z"
   },
   {
    "duration": 22,
    "start_time": "2024-08-21T02:30:21.866Z"
   },
   {
    "duration": 43,
    "start_time": "2024-08-21T02:30:21.892Z"
   },
   {
    "duration": 1305,
    "start_time": "2024-08-21T02:30:21.938Z"
   },
   {
    "duration": 51,
    "start_time": "2024-08-21T02:30:23.246Z"
   },
   {
    "duration": 50,
    "start_time": "2024-08-21T02:30:23.302Z"
   },
   {
    "duration": 117,
    "start_time": "2024-08-21T02:30:23.360Z"
   },
   {
    "duration": 7,
    "start_time": "2024-08-21T02:30:23.480Z"
   },
   {
    "duration": 32,
    "start_time": "2024-08-21T02:30:23.490Z"
   },
   {
    "duration": 30,
    "start_time": "2024-08-21T02:30:23.525Z"
   },
   {
    "duration": 72,
    "start_time": "2024-08-21T02:30:23.559Z"
   },
   {
    "duration": 426,
    "start_time": "2024-08-21T02:30:23.635Z"
   },
   {
    "duration": 101,
    "start_time": "2024-08-21T02:30:24.064Z"
   },
   {
    "duration": 31,
    "start_time": "2024-08-21T02:30:24.168Z"
   },
   {
    "duration": 350,
    "start_time": "2024-08-21T02:32:35.813Z"
   },
   {
    "duration": 86,
    "start_time": "2024-08-21T02:33:18.264Z"
   },
   {
    "duration": 88,
    "start_time": "2024-08-21T02:33:36.333Z"
   },
   {
    "duration": 5,
    "start_time": "2024-08-21T02:33:41.736Z"
   },
   {
    "duration": 797,
    "start_time": "2024-08-21T02:33:41.751Z"
   },
   {
    "duration": 304,
    "start_time": "2024-08-21T02:33:42.551Z"
   },
   {
    "duration": 12,
    "start_time": "2024-08-21T02:33:42.862Z"
   },
   {
    "duration": 77,
    "start_time": "2024-08-21T02:33:42.877Z"
   },
   {
    "duration": 62,
    "start_time": "2024-08-21T02:33:42.965Z"
   },
   {
    "duration": 16,
    "start_time": "2024-08-21T02:33:43.037Z"
   },
   {
    "duration": 314,
    "start_time": "2024-08-21T02:33:43.064Z"
   },
   {
    "duration": 199,
    "start_time": "2024-08-21T02:33:43.392Z"
   },
   {
    "duration": 97,
    "start_time": "2024-08-21T02:33:43.601Z"
   },
   {
    "duration": 49,
    "start_time": "2024-08-21T02:33:43.709Z"
   },
   {
    "duration": 31,
    "start_time": "2024-08-21T02:33:43.761Z"
   },
   {
    "duration": 40,
    "start_time": "2024-08-21T02:33:43.796Z"
   },
   {
    "duration": 21,
    "start_time": "2024-08-21T02:33:43.844Z"
   },
   {
    "duration": 32,
    "start_time": "2024-08-21T02:33:43.872Z"
   },
   {
    "duration": 11,
    "start_time": "2024-08-21T02:33:43.910Z"
   },
   {
    "duration": 741,
    "start_time": "2024-08-21T02:33:43.925Z"
   },
   {
    "duration": 67,
    "start_time": "2024-08-21T02:33:44.669Z"
   },
   {
    "duration": 21,
    "start_time": "2024-08-21T02:33:44.739Z"
   },
   {
    "duration": 169,
    "start_time": "2024-08-21T02:33:44.763Z"
   },
   {
    "duration": 205,
    "start_time": "2024-08-21T02:33:44.935Z"
   },
   {
    "duration": 108,
    "start_time": "2024-08-21T02:33:45.144Z"
   },
   {
    "duration": 21,
    "start_time": "2024-08-21T02:33:45.256Z"
   },
   {
    "duration": 47,
    "start_time": "2024-08-21T02:33:45.285Z"
   },
   {
    "duration": 1330,
    "start_time": "2024-08-21T02:33:45.335Z"
   },
   {
    "duration": 61,
    "start_time": "2024-08-21T02:33:46.669Z"
   },
   {
    "duration": 32,
    "start_time": "2024-08-21T02:33:46.733Z"
   },
   {
    "duration": 88,
    "start_time": "2024-08-21T02:33:46.768Z"
   },
   {
    "duration": 8,
    "start_time": "2024-08-21T02:33:46.862Z"
   },
   {
    "duration": 27,
    "start_time": "2024-08-21T02:33:46.874Z"
   },
   {
    "duration": 30,
    "start_time": "2024-08-21T02:33:46.925Z"
   },
   {
    "duration": 36,
    "start_time": "2024-08-21T02:33:46.959Z"
   },
   {
    "duration": 286,
    "start_time": "2024-08-21T02:33:46.998Z"
   },
   {
    "duration": 112,
    "start_time": "2024-08-21T02:33:47.288Z"
   },
   {
    "duration": 42,
    "start_time": "2024-08-21T02:33:47.405Z"
   },
   {
    "duration": 94,
    "start_time": "2024-08-21T02:33:47.451Z"
   },
   {
    "duration": 313,
    "start_time": "2024-08-21T05:05:53.111Z"
   },
   {
    "duration": 4865,
    "start_time": "2024-08-21T05:06:09.048Z"
   },
   {
    "duration": 724,
    "start_time": "2024-08-21T05:06:13.917Z"
   },
   {
    "duration": 208,
    "start_time": "2024-08-21T05:06:14.643Z"
   },
   {
    "duration": 6,
    "start_time": "2024-08-21T05:06:14.853Z"
   },
   {
    "duration": 57,
    "start_time": "2024-08-21T05:06:14.865Z"
   },
   {
    "duration": 51,
    "start_time": "2024-08-21T05:06:14.925Z"
   },
   {
    "duration": 9,
    "start_time": "2024-08-21T05:06:15.001Z"
   },
   {
    "duration": 243,
    "start_time": "2024-08-21T05:06:15.014Z"
   },
   {
    "duration": 148,
    "start_time": "2024-08-21T05:06:15.259Z"
   },
   {
    "duration": 96,
    "start_time": "2024-08-21T05:06:15.414Z"
   },
   {
    "duration": 28,
    "start_time": "2024-08-21T05:06:15.513Z"
   },
   {
    "duration": 14,
    "start_time": "2024-08-21T05:06:15.544Z"
   },
   {
    "duration": 48,
    "start_time": "2024-08-21T05:06:15.562Z"
   },
   {
    "duration": 7,
    "start_time": "2024-08-21T05:06:15.616Z"
   },
   {
    "duration": 14,
    "start_time": "2024-08-21T05:06:15.627Z"
   },
   {
    "duration": 7,
    "start_time": "2024-08-21T05:06:15.644Z"
   },
   {
    "duration": 652,
    "start_time": "2024-08-21T05:06:15.655Z"
   },
   {
    "duration": 47,
    "start_time": "2024-08-21T05:06:16.310Z"
   },
   {
    "duration": 44,
    "start_time": "2024-08-21T05:06:16.360Z"
   },
   {
    "duration": 154,
    "start_time": "2024-08-21T05:06:16.407Z"
   },
   {
    "duration": 194,
    "start_time": "2024-08-21T05:06:16.564Z"
   },
   {
    "duration": 101,
    "start_time": "2024-08-21T05:06:16.762Z"
   },
   {
    "duration": 20,
    "start_time": "2024-08-21T05:06:16.866Z"
   },
   {
    "duration": 21,
    "start_time": "2024-08-21T05:06:16.904Z"
   },
   {
    "duration": 1117,
    "start_time": "2024-08-21T05:06:16.929Z"
   },
   {
    "duration": 40,
    "start_time": "2024-08-21T05:06:18.050Z"
   },
   {
    "duration": 30,
    "start_time": "2024-08-21T05:06:18.093Z"
   },
   {
    "duration": 97,
    "start_time": "2024-08-21T05:06:18.127Z"
   },
   {
    "duration": 8,
    "start_time": "2024-08-21T05:06:18.228Z"
   },
   {
    "duration": 24,
    "start_time": "2024-08-21T05:06:18.239Z"
   },
   {
    "duration": 45,
    "start_time": "2024-08-21T05:06:18.265Z"
   },
   {
    "duration": 28,
    "start_time": "2024-08-21T05:06:18.312Z"
   },
   {
    "duration": 261,
    "start_time": "2024-08-21T05:06:18.342Z"
   },
   {
    "duration": 75,
    "start_time": "2024-08-21T05:06:18.607Z"
   },
   {
    "duration": 24,
    "start_time": "2024-08-21T05:06:18.702Z"
   },
   {
    "duration": 19,
    "start_time": "2024-08-21T05:06:18.728Z"
   },
   {
    "duration": 7,
    "start_time": "2024-08-21T05:12:51.812Z"
   },
   {
    "duration": 10,
    "start_time": "2024-08-21T05:14:19.975Z"
   },
   {
    "duration": 7,
    "start_time": "2024-08-21T05:15:17.228Z"
   },
   {
    "duration": 15,
    "start_time": "2024-08-21T05:19:38.363Z"
   },
   {
    "duration": 26,
    "start_time": "2024-08-21T05:26:12.103Z"
   },
   {
    "duration": 26,
    "start_time": "2024-08-21T05:26:58.757Z"
   },
   {
    "duration": 31,
    "start_time": "2024-08-21T05:32:01.246Z"
   },
   {
    "duration": 12,
    "start_time": "2024-08-21T05:34:25.871Z"
   },
   {
    "duration": 27,
    "start_time": "2024-08-21T05:41:06.684Z"
   },
   {
    "duration": 8,
    "start_time": "2024-08-21T05:48:07.868Z"
   },
   {
    "duration": 16,
    "start_time": "2024-08-21T05:48:23.801Z"
   },
   {
    "duration": 9,
    "start_time": "2024-08-21T05:52:33.996Z"
   },
   {
    "duration": 11,
    "start_time": "2024-08-21T05:52:49.609Z"
   },
   {
    "duration": 956,
    "start_time": "2024-08-21T05:57:30.256Z"
   },
   {
    "duration": 34,
    "start_time": "2024-08-21T05:57:42.831Z"
   },
   {
    "duration": 34,
    "start_time": "2024-08-21T05:59:42.769Z"
   },
   {
    "duration": 34,
    "start_time": "2024-08-21T06:02:52.636Z"
   },
   {
    "duration": 45,
    "start_time": "2024-08-21T06:03:45.278Z"
   },
   {
    "duration": 38,
    "start_time": "2024-08-21T06:04:02.524Z"
   },
   {
    "duration": 30,
    "start_time": "2024-08-21T06:06:06.201Z"
   },
   {
    "duration": 463,
    "start_time": "2024-08-21T06:06:48.163Z"
   },
   {
    "duration": 334,
    "start_time": "2024-08-21T06:07:26.093Z"
   },
   {
    "duration": 308,
    "start_time": "2024-08-21T06:09:28.160Z"
   },
   {
    "duration": 35,
    "start_time": "2024-08-21T06:10:58.450Z"
   },
   {
    "duration": 88,
    "start_time": "2024-08-21T07:09:15.161Z"
   },
   {
    "duration": 79,
    "start_time": "2024-08-21T07:09:52.268Z"
   },
   {
    "duration": 82,
    "start_time": "2024-08-21T07:10:14.291Z"
   },
   {
    "duration": 1535,
    "start_time": "2024-08-21T07:10:24.861Z"
   },
   {
    "duration": 656,
    "start_time": "2024-08-21T07:10:26.399Z"
   },
   {
    "duration": 249,
    "start_time": "2024-08-21T07:10:27.058Z"
   },
   {
    "duration": 5,
    "start_time": "2024-08-21T07:10:27.311Z"
   },
   {
    "duration": 44,
    "start_time": "2024-08-21T07:10:27.320Z"
   },
   {
    "duration": 80,
    "start_time": "2024-08-21T07:10:27.367Z"
   },
   {
    "duration": 10,
    "start_time": "2024-08-21T07:10:27.451Z"
   },
   {
    "duration": 261,
    "start_time": "2024-08-21T07:10:27.464Z"
   },
   {
    "duration": 160,
    "start_time": "2024-08-21T07:10:27.728Z"
   },
   {
    "duration": 58,
    "start_time": "2024-08-21T07:10:27.894Z"
   },
   {
    "duration": 56,
    "start_time": "2024-08-21T07:10:27.956Z"
   },
   {
    "duration": 15,
    "start_time": "2024-08-21T07:10:28.015Z"
   },
   {
    "duration": 16,
    "start_time": "2024-08-21T07:10:28.033Z"
   },
   {
    "duration": 8,
    "start_time": "2024-08-21T07:10:28.052Z"
   },
   {
    "duration": 19,
    "start_time": "2024-08-21T07:10:28.105Z"
   },
   {
    "duration": 12,
    "start_time": "2024-08-21T07:10:28.129Z"
   },
   {
    "duration": 669,
    "start_time": "2024-08-21T07:10:28.145Z"
   },
   {
    "duration": 48,
    "start_time": "2024-08-21T07:10:28.817Z"
   },
   {
    "duration": 36,
    "start_time": "2024-08-21T07:10:28.870Z"
   },
   {
    "duration": 155,
    "start_time": "2024-08-21T07:10:28.909Z"
   },
   {
    "duration": 215,
    "start_time": "2024-08-21T07:10:29.067Z"
   },
   {
    "duration": 98,
    "start_time": "2024-08-21T07:10:29.285Z"
   },
   {
    "duration": 34,
    "start_time": "2024-08-21T07:10:29.387Z"
   },
   {
    "duration": 21,
    "start_time": "2024-08-21T07:10:29.425Z"
   },
   {
    "duration": 1133,
    "start_time": "2024-08-21T07:10:29.449Z"
   },
   {
    "duration": 39,
    "start_time": "2024-08-21T07:10:30.585Z"
   },
   {
    "duration": 25,
    "start_time": "2024-08-21T07:10:30.627Z"
   },
   {
    "duration": 93,
    "start_time": "2024-08-21T07:10:30.658Z"
   },
   {
    "duration": 8,
    "start_time": "2024-08-21T07:10:30.754Z"
   },
   {
    "duration": 43,
    "start_time": "2024-08-21T07:10:30.765Z"
   },
   {
    "duration": 23,
    "start_time": "2024-08-21T07:10:30.812Z"
   },
   {
    "duration": 110,
    "start_time": "2024-08-21T07:10:30.839Z"
   },
   {
    "duration": 14,
    "start_time": "2024-08-21T07:10:30.953Z"
   },
   {
    "duration": 55,
    "start_time": "2024-08-21T07:10:30.970Z"
   },
   {
    "duration": 13,
    "start_time": "2024-08-21T07:10:31.028Z"
   },
   {
    "duration": 67,
    "start_time": "2024-08-21T07:10:31.044Z"
   },
   {
    "duration": 1310,
    "start_time": "2024-08-21T07:18:12.873Z"
   },
   {
    "duration": 476,
    "start_time": "2024-08-21T07:19:13.368Z"
   },
   {
    "duration": 18,
    "start_time": "2024-08-21T07:19:58.291Z"
   },
   {
    "duration": 14,
    "start_time": "2024-08-21T07:20:21.706Z"
   },
   {
    "duration": 119,
    "start_time": "2024-08-21T07:20:49.936Z"
   },
   {
    "duration": 442,
    "start_time": "2024-08-21T07:24:51.478Z"
   },
   {
    "duration": 5,
    "start_time": "2024-08-21T07:24:58.431Z"
   },
   {
    "duration": 574,
    "start_time": "2024-08-21T07:24:58.440Z"
   },
   {
    "duration": 190,
    "start_time": "2024-08-21T07:24:59.016Z"
   },
   {
    "duration": 5,
    "start_time": "2024-08-21T07:24:59.209Z"
   },
   {
    "duration": 42,
    "start_time": "2024-08-21T07:24:59.218Z"
   },
   {
    "duration": 71,
    "start_time": "2024-08-21T07:24:59.266Z"
   },
   {
    "duration": 9,
    "start_time": "2024-08-21T07:24:59.340Z"
   },
   {
    "duration": 243,
    "start_time": "2024-08-21T07:24:59.352Z"
   },
   {
    "duration": 114,
    "start_time": "2024-08-21T07:24:59.604Z"
   },
   {
    "duration": 57,
    "start_time": "2024-08-21T07:24:59.721Z"
   },
   {
    "duration": 45,
    "start_time": "2024-08-21T07:24:59.781Z"
   },
   {
    "duration": 14,
    "start_time": "2024-08-21T07:24:59.828Z"
   },
   {
    "duration": 16,
    "start_time": "2024-08-21T07:24:59.845Z"
   },
   {
    "duration": 39,
    "start_time": "2024-08-21T07:24:59.865Z"
   },
   {
    "duration": 15,
    "start_time": "2024-08-21T07:24:59.907Z"
   },
   {
    "duration": 8,
    "start_time": "2024-08-21T07:24:59.925Z"
   },
   {
    "duration": 478,
    "start_time": "2024-08-21T07:24:59.936Z"
   },
   {
    "duration": 16,
    "start_time": "2024-08-21T07:25:00.417Z"
   },
   {
    "duration": 13,
    "start_time": "2024-08-21T07:25:00.436Z"
   },
   {
    "duration": 152,
    "start_time": "2024-08-21T07:25:00.453Z"
   },
   {
    "duration": 171,
    "start_time": "2024-08-21T07:25:00.607Z"
   },
   {
    "duration": 95,
    "start_time": "2024-08-21T07:25:00.780Z"
   },
   {
    "duration": 32,
    "start_time": "2024-08-21T07:25:00.878Z"
   },
   {
    "duration": 18,
    "start_time": "2024-08-21T07:25:00.916Z"
   },
   {
    "duration": 1682,
    "start_time": "2024-08-21T07:25:00.938Z"
   },
   {
    "duration": 38,
    "start_time": "2024-08-21T07:25:02.624Z"
   },
   {
    "duration": 49,
    "start_time": "2024-08-21T07:25:02.664Z"
   },
   {
    "duration": 58,
    "start_time": "2024-08-21T07:25:02.716Z"
   },
   {
    "duration": 25,
    "start_time": "2024-08-21T07:25:02.777Z"
   },
   {
    "duration": 22,
    "start_time": "2024-08-21T07:25:02.805Z"
   },
   {
    "duration": 23,
    "start_time": "2024-08-21T07:25:02.830Z"
   },
   {
    "duration": 61,
    "start_time": "2024-08-21T07:25:02.856Z"
   },
   {
    "duration": 15,
    "start_time": "2024-08-21T07:25:02.919Z"
   },
   {
    "duration": 29,
    "start_time": "2024-08-21T07:25:02.938Z"
   },
   {
    "duration": 11,
    "start_time": "2024-08-21T07:25:03.001Z"
   },
   {
    "duration": 36,
    "start_time": "2024-08-21T07:25:03.015Z"
   },
   {
    "duration": 84,
    "start_time": "2024-08-21T07:26:03.247Z"
   },
   {
    "duration": 5,
    "start_time": "2024-08-21T07:26:09.262Z"
   },
   {
    "duration": 557,
    "start_time": "2024-08-21T07:26:09.273Z"
   },
   {
    "duration": 206,
    "start_time": "2024-08-21T07:26:09.833Z"
   },
   {
    "duration": 6,
    "start_time": "2024-08-21T07:26:10.041Z"
   },
   {
    "duration": 57,
    "start_time": "2024-08-21T07:26:10.052Z"
   },
   {
    "duration": 48,
    "start_time": "2024-08-21T07:26:10.112Z"
   },
   {
    "duration": 39,
    "start_time": "2024-08-21T07:26:10.163Z"
   },
   {
    "duration": 238,
    "start_time": "2024-08-21T07:26:10.206Z"
   },
   {
    "duration": 124,
    "start_time": "2024-08-21T07:26:10.447Z"
   },
   {
    "duration": 76,
    "start_time": "2024-08-21T07:26:10.575Z"
   },
   {
    "duration": 45,
    "start_time": "2024-08-21T07:26:10.658Z"
   },
   {
    "duration": 14,
    "start_time": "2024-08-21T07:26:10.706Z"
   },
   {
    "duration": 17,
    "start_time": "2024-08-21T07:26:10.724Z"
   },
   {
    "duration": 9,
    "start_time": "2024-08-21T07:26:10.744Z"
   },
   {
    "duration": 56,
    "start_time": "2024-08-21T07:26:10.758Z"
   },
   {
    "duration": 8,
    "start_time": "2024-08-21T07:26:10.818Z"
   },
   {
    "duration": 475,
    "start_time": "2024-08-21T07:26:10.829Z"
   },
   {
    "duration": 14,
    "start_time": "2024-08-21T07:26:11.307Z"
   },
   {
    "duration": 14,
    "start_time": "2024-08-21T07:26:11.324Z"
   },
   {
    "duration": 159,
    "start_time": "2024-08-21T07:26:11.341Z"
   },
   {
    "duration": 177,
    "start_time": "2024-08-21T07:26:11.503Z"
   },
   {
    "duration": 92,
    "start_time": "2024-08-21T07:26:11.683Z"
   },
   {
    "duration": 20,
    "start_time": "2024-08-21T07:26:37.170Z"
   },
   {
    "duration": 17,
    "start_time": "2024-08-21T07:26:59.129Z"
   },
   {
    "duration": 1129,
    "start_time": "2024-08-21T07:27:03.940Z"
   },
   {
    "duration": 208,
    "start_time": "2024-08-21T07:29:25.496Z"
   },
   {
    "duration": 4,
    "start_time": "2024-08-21T07:29:37.771Z"
   },
   {
    "duration": 560,
    "start_time": "2024-08-21T07:29:37.779Z"
   },
   {
    "duration": 203,
    "start_time": "2024-08-21T07:29:38.343Z"
   },
   {
    "duration": 6,
    "start_time": "2024-08-21T07:29:38.548Z"
   },
   {
    "duration": 56,
    "start_time": "2024-08-21T07:29:38.559Z"
   },
   {
    "duration": 48,
    "start_time": "2024-08-21T07:29:38.619Z"
   },
   {
    "duration": 32,
    "start_time": "2024-08-21T07:29:38.670Z"
   },
   {
    "duration": 233,
    "start_time": "2024-08-21T07:29:38.705Z"
   },
   {
    "duration": 117,
    "start_time": "2024-08-21T07:29:38.941Z"
   },
   {
    "duration": 67,
    "start_time": "2024-08-21T07:29:39.061Z"
   },
   {
    "duration": 29,
    "start_time": "2024-08-21T07:29:39.134Z"
   },
   {
    "duration": 37,
    "start_time": "2024-08-21T07:29:39.167Z"
   },
   {
    "duration": 15,
    "start_time": "2024-08-21T07:29:39.208Z"
   },
   {
    "duration": 11,
    "start_time": "2024-08-21T07:29:39.226Z"
   },
   {
    "duration": 14,
    "start_time": "2024-08-21T07:29:39.240Z"
   },
   {
    "duration": 45,
    "start_time": "2024-08-21T07:29:39.257Z"
   },
   {
    "duration": 440,
    "start_time": "2024-08-21T07:29:39.305Z"
   },
   {
    "duration": 15,
    "start_time": "2024-08-21T07:29:39.748Z"
   },
   {
    "duration": 39,
    "start_time": "2024-08-21T07:29:39.766Z"
   },
   {
    "duration": 134,
    "start_time": "2024-08-21T07:29:39.808Z"
   },
   {
    "duration": 176,
    "start_time": "2024-08-21T07:29:39.945Z"
   },
   {
    "duration": 2517,
    "start_time": "2024-08-21T07:29:40.124Z"
   },
   {
    "duration": 5,
    "start_time": "2024-08-21T07:30:10.492Z"
   },
   {
    "duration": 633,
    "start_time": "2024-08-21T07:30:10.503Z"
   },
   {
    "duration": 205,
    "start_time": "2024-08-21T07:30:11.140Z"
   },
   {
    "duration": 6,
    "start_time": "2024-08-21T07:30:11.348Z"
   },
   {
    "duration": 52,
    "start_time": "2024-08-21T07:30:11.358Z"
   },
   {
    "duration": 48,
    "start_time": "2024-08-21T07:30:11.413Z"
   },
   {
    "duration": 8,
    "start_time": "2024-08-21T07:30:11.464Z"
   },
   {
    "duration": 254,
    "start_time": "2024-08-21T07:30:11.474Z"
   },
   {
    "duration": 107,
    "start_time": "2024-08-21T07:30:11.731Z"
   },
   {
    "duration": 66,
    "start_time": "2024-08-21T07:30:11.841Z"
   },
   {
    "duration": 28,
    "start_time": "2024-08-21T07:30:11.912Z"
   },
   {
    "duration": 13,
    "start_time": "2024-08-21T07:30:11.943Z"
   },
   {
    "duration": 53,
    "start_time": "2024-08-21T07:30:11.959Z"
   },
   {
    "duration": 7,
    "start_time": "2024-08-21T07:30:12.015Z"
   },
   {
    "duration": 13,
    "start_time": "2024-08-21T07:30:12.026Z"
   },
   {
    "duration": 8,
    "start_time": "2024-08-21T07:30:12.042Z"
   },
   {
    "duration": 473,
    "start_time": "2024-08-21T07:30:12.053Z"
   },
   {
    "duration": 14,
    "start_time": "2024-08-21T07:30:12.529Z"
   },
   {
    "duration": 14,
    "start_time": "2024-08-21T07:30:12.547Z"
   },
   {
    "duration": 155,
    "start_time": "2024-08-21T07:30:12.564Z"
   },
   {
    "duration": 173,
    "start_time": "2024-08-21T07:30:12.722Z"
   },
   {
    "duration": 2666,
    "start_time": "2024-08-21T07:30:26.989Z"
   },
   {
    "duration": 21,
    "start_time": "2024-08-21T07:30:36.501Z"
   },
   {
    "duration": 17,
    "start_time": "2024-08-21T07:30:44.474Z"
   },
   {
    "duration": 1047,
    "start_time": "2024-08-21T07:30:49.594Z"
   },
   {
    "duration": 83,
    "start_time": "2024-08-21T07:35:03.001Z"
   },
   {
    "duration": 4,
    "start_time": "2024-08-21T07:35:08.098Z"
   },
   {
    "duration": 589,
    "start_time": "2024-08-21T07:35:08.109Z"
   },
   {
    "duration": 191,
    "start_time": "2024-08-21T07:35:08.703Z"
   },
   {
    "duration": 5,
    "start_time": "2024-08-21T07:35:08.901Z"
   },
   {
    "duration": 40,
    "start_time": "2024-08-21T07:35:08.910Z"
   },
   {
    "duration": 73,
    "start_time": "2024-08-21T07:35:08.955Z"
   },
   {
    "duration": 9,
    "start_time": "2024-08-21T07:35:09.031Z"
   },
   {
    "duration": 240,
    "start_time": "2024-08-21T07:35:09.043Z"
   },
   {
    "duration": 100,
    "start_time": "2024-08-21T07:35:09.287Z"
   },
   {
    "duration": 66,
    "start_time": "2024-08-21T07:35:09.390Z"
   },
   {
    "duration": 46,
    "start_time": "2024-08-21T07:35:09.459Z"
   },
   {
    "duration": 13,
    "start_time": "2024-08-21T07:35:09.508Z"
   },
   {
    "duration": 15,
    "start_time": "2024-08-21T07:35:09.524Z"
   },
   {
    "duration": 8,
    "start_time": "2024-08-21T07:35:09.541Z"
   },
   {
    "duration": 58,
    "start_time": "2024-08-21T07:35:09.555Z"
   },
   {
    "duration": 7,
    "start_time": "2024-08-21T07:35:09.616Z"
   },
   {
    "duration": 443,
    "start_time": "2024-08-21T07:35:09.627Z"
   },
   {
    "duration": 29,
    "start_time": "2024-08-21T07:35:10.073Z"
   },
   {
    "duration": 15,
    "start_time": "2024-08-21T07:35:10.105Z"
   },
   {
    "duration": 151,
    "start_time": "2024-08-21T07:35:10.123Z"
   },
   {
    "duration": 183,
    "start_time": "2024-08-21T07:35:10.278Z"
   },
   {
    "duration": 2443,
    "start_time": "2024-08-21T07:35:10.463Z"
   },
   {
    "duration": 19,
    "start_time": "2024-08-21T07:35:23.607Z"
   },
   {
    "duration": 18,
    "start_time": "2024-08-21T07:35:33.121Z"
   },
   {
    "duration": 1083,
    "start_time": "2024-08-21T07:35:36.360Z"
   },
   {
    "duration": 18,
    "start_time": "2024-08-21T07:38:12.170Z"
   },
   {
    "duration": 23,
    "start_time": "2024-08-21T07:38:18.509Z"
   },
   {
    "duration": 60,
    "start_time": "2024-08-21T07:38:26.024Z"
   },
   {
    "duration": 8,
    "start_time": "2024-08-21T07:39:22.934Z"
   },
   {
    "duration": 21,
    "start_time": "2024-08-21T07:39:43.362Z"
   },
   {
    "duration": 99,
    "start_time": "2024-08-21T07:40:10.512Z"
   },
   {
    "duration": 15,
    "start_time": "2024-08-21T07:40:37.712Z"
   },
   {
    "duration": 99,
    "start_time": "2024-08-21T07:41:24.717Z"
   },
   {
    "duration": 102,
    "start_time": "2024-08-21T07:41:40.027Z"
   },
   {
    "duration": 19,
    "start_time": "2024-08-21T07:41:50.505Z"
   },
   {
    "duration": 15,
    "start_time": "2024-08-21T07:42:22.901Z"
   },
   {
    "duration": 32,
    "start_time": "2024-08-21T07:42:34.524Z"
   },
   {
    "duration": 305,
    "start_time": "2024-08-21T07:43:38.873Z"
   },
   {
    "duration": 35,
    "start_time": "2024-08-21T07:44:17.951Z"
   },
   {
    "duration": 12,
    "start_time": "2024-08-21T07:44:34.699Z"
   },
   {
    "duration": 61,
    "start_time": "2024-08-21T07:44:40.716Z"
   },
   {
    "duration": 71,
    "start_time": "2024-08-21T07:45:16.308Z"
   },
   {
    "duration": 38,
    "start_time": "2024-08-21T07:47:35.038Z"
   },
   {
    "duration": 878,
    "start_time": "2024-08-21T08:34:49.923Z"
   },
   {
    "duration": 80,
    "start_time": "2024-08-21T08:43:15.544Z"
   },
   {
    "duration": 82,
    "start_time": "2024-08-21T08:43:53.362Z"
   },
   {
    "duration": 85,
    "start_time": "2024-08-21T08:45:36.025Z"
   },
   {
    "duration": 83,
    "start_time": "2024-08-21T08:45:50.489Z"
   },
   {
    "duration": 7,
    "start_time": "2024-08-21T08:47:04.460Z"
   },
   {
    "duration": 8,
    "start_time": "2024-08-21T08:54:53.418Z"
   },
   {
    "duration": 10,
    "start_time": "2024-08-21T08:56:10.296Z"
   },
   {
    "duration": 469,
    "start_time": "2024-08-21T08:58:03.079Z"
   },
   {
    "duration": 114,
    "start_time": "2024-08-21T08:58:57.073Z"
   },
   {
    "duration": 113,
    "start_time": "2024-08-21T09:01:14.231Z"
   },
   {
    "duration": 11,
    "start_time": "2024-08-21T09:01:31.178Z"
   },
   {
    "duration": 38,
    "start_time": "2024-08-21T09:01:49.258Z"
   },
   {
    "duration": 39,
    "start_time": "2024-08-21T09:02:39.037Z"
   },
   {
    "duration": 25,
    "start_time": "2024-08-21T09:08:33.646Z"
   },
   {
    "duration": 82,
    "start_time": "2024-08-21T09:08:52.151Z"
   },
   {
    "duration": 91,
    "start_time": "2024-08-21T09:09:06.335Z"
   },
   {
    "duration": 6,
    "start_time": "2024-08-21T09:10:02.785Z"
   },
   {
    "duration": 120,
    "start_time": "2024-08-21T09:10:28.183Z"
   },
   {
    "duration": 117,
    "start_time": "2024-08-21T09:10:56.189Z"
   },
   {
    "duration": 83,
    "start_time": "2024-08-21T09:12:31.176Z"
   },
   {
    "duration": 40,
    "start_time": "2024-08-21T09:13:06.300Z"
   },
   {
    "duration": 106,
    "start_time": "2024-08-21T09:13:35.287Z"
   },
   {
    "duration": 37,
    "start_time": "2024-08-21T09:13:47.125Z"
   },
   {
    "duration": 5,
    "start_time": "2024-08-21T09:14:45.852Z"
   },
   {
    "duration": 310,
    "start_time": "2024-08-21T09:15:05.281Z"
   },
   {
    "duration": 114,
    "start_time": "2024-08-21T09:15:28.014Z"
   },
   {
    "duration": 117,
    "start_time": "2024-08-21T09:15:33.608Z"
   },
   {
    "duration": 11,
    "start_time": "2024-08-21T09:15:41.047Z"
   },
   {
    "duration": 10,
    "start_time": "2024-08-21T09:15:57.749Z"
   },
   {
    "duration": 8,
    "start_time": "2024-08-21T09:16:05.543Z"
   },
   {
    "duration": 8,
    "start_time": "2024-08-21T09:16:11.489Z"
   },
   {
    "duration": 11,
    "start_time": "2024-08-21T09:16:16.601Z"
   },
   {
    "duration": 10,
    "start_time": "2024-08-21T09:16:57.516Z"
   },
   {
    "duration": 9,
    "start_time": "2024-08-21T09:17:22.398Z"
   },
   {
    "duration": 9,
    "start_time": "2024-08-21T09:17:27.984Z"
   },
   {
    "duration": 8,
    "start_time": "2024-08-21T09:17:47.394Z"
   },
   {
    "duration": 10,
    "start_time": "2024-08-21T09:17:58.325Z"
   },
   {
    "duration": 10,
    "start_time": "2024-08-21T09:18:03.792Z"
   },
   {
    "duration": 8,
    "start_time": "2024-08-21T09:18:15.267Z"
   },
   {
    "duration": 7,
    "start_time": "2024-08-21T09:19:46.764Z"
   },
   {
    "duration": 100,
    "start_time": "2024-08-21T09:19:52.362Z"
   },
   {
    "duration": 39,
    "start_time": "2024-08-21T09:22:06.443Z"
   },
   {
    "duration": 107,
    "start_time": "2024-08-21T09:22:14.797Z"
   },
   {
    "duration": 52,
    "start_time": "2024-08-21T09:23:26.071Z"
   },
   {
    "duration": 99,
    "start_time": "2024-08-21T09:23:30.431Z"
   },
   {
    "duration": 4,
    "start_time": "2024-08-21T09:24:18.530Z"
   },
   {
    "duration": 564,
    "start_time": "2024-08-21T09:24:18.539Z"
   },
   {
    "duration": 197,
    "start_time": "2024-08-21T09:24:19.106Z"
   },
   {
    "duration": 6,
    "start_time": "2024-08-21T09:24:19.306Z"
   },
   {
    "duration": 40,
    "start_time": "2024-08-21T09:24:19.316Z"
   },
   {
    "duration": 80,
    "start_time": "2024-08-21T09:24:19.360Z"
   },
   {
    "duration": 8,
    "start_time": "2024-08-21T09:24:19.443Z"
   },
   {
    "duration": 239,
    "start_time": "2024-08-21T09:24:19.454Z"
   },
   {
    "duration": 110,
    "start_time": "2024-08-21T09:24:19.696Z"
   },
   {
    "duration": 61,
    "start_time": "2024-08-21T09:24:19.814Z"
   },
   {
    "duration": 36,
    "start_time": "2024-08-21T09:24:19.883Z"
   },
   {
    "duration": 14,
    "start_time": "2024-08-21T09:24:19.922Z"
   },
   {
    "duration": 16,
    "start_time": "2024-08-21T09:24:19.939Z"
   },
   {
    "duration": 43,
    "start_time": "2024-08-21T09:24:19.958Z"
   },
   {
    "duration": 15,
    "start_time": "2024-08-21T09:24:20.004Z"
   },
   {
    "duration": 7,
    "start_time": "2024-08-21T09:24:20.022Z"
   },
   {
    "duration": 455,
    "start_time": "2024-08-21T09:24:20.032Z"
   },
   {
    "duration": 24,
    "start_time": "2024-08-21T09:24:20.490Z"
   },
   {
    "duration": 16,
    "start_time": "2024-08-21T09:24:20.518Z"
   },
   {
    "duration": 155,
    "start_time": "2024-08-21T09:24:20.537Z"
   },
   {
    "duration": 180,
    "start_time": "2024-08-21T09:24:20.695Z"
   },
   {
    "duration": 2475,
    "start_time": "2024-08-21T09:24:20.878Z"
   },
   {
    "duration": 19,
    "start_time": "2024-08-21T09:24:23.356Z"
   },
   {
    "duration": 38,
    "start_time": "2024-08-21T09:24:23.379Z"
   },
   {
    "duration": 1234,
    "start_time": "2024-08-21T09:24:23.420Z"
   },
   {
    "duration": 19,
    "start_time": "2024-08-21T09:24:24.656Z"
   },
   {
    "duration": 42,
    "start_time": "2024-08-21T09:24:24.677Z"
   },
   {
    "duration": 80,
    "start_time": "2024-08-21T09:24:24.722Z"
   },
   {
    "duration": 7,
    "start_time": "2024-08-21T09:24:24.808Z"
   },
   {
    "duration": 23,
    "start_time": "2024-08-21T09:24:24.818Z"
   },
   {
    "duration": 18,
    "start_time": "2024-08-21T09:24:24.844Z"
   },
   {
    "duration": 55,
    "start_time": "2024-08-21T09:24:24.865Z"
   },
   {
    "duration": 18,
    "start_time": "2024-08-21T09:24:24.923Z"
   },
   {
    "duration": 62,
    "start_time": "2024-08-21T09:24:24.945Z"
   },
   {
    "duration": 12,
    "start_time": "2024-08-21T09:24:25.011Z"
   },
   {
    "duration": 40,
    "start_time": "2024-08-21T09:24:25.026Z"
   },
   {
    "duration": 123,
    "start_time": "2024-08-21T09:24:25.102Z"
   },
   {
    "duration": 0,
    "start_time": "2024-08-21T09:24:25.228Z"
   },
   {
    "duration": 81,
    "start_time": "2024-08-21T09:24:39.487Z"
   },
   {
    "duration": 102,
    "start_time": "2024-08-21T09:24:43.857Z"
   },
   {
    "duration": 100,
    "start_time": "2024-08-21T09:24:54.185Z"
   },
   {
    "duration": 35,
    "start_time": "2024-08-21T09:24:59.318Z"
   },
   {
    "duration": 39,
    "start_time": "2024-08-21T09:25:26.084Z"
   },
   {
    "duration": 6,
    "start_time": "2024-08-21T09:26:55.594Z"
   },
   {
    "duration": 14,
    "start_time": "2024-08-21T09:26:58.569Z"
   },
   {
    "duration": 911,
    "start_time": "2024-08-21T09:33:32.850Z"
   },
   {
    "duration": 193,
    "start_time": "2024-08-21T09:35:27.621Z"
   },
   {
    "duration": 36,
    "start_time": "2024-08-21T09:36:12.834Z"
   },
   {
    "duration": 235,
    "start_time": "2024-08-21T09:37:20.116Z"
   },
   {
    "duration": 181,
    "start_time": "2024-08-21T09:37:29.421Z"
   },
   {
    "duration": 38,
    "start_time": "2024-08-21T09:37:52.195Z"
   },
   {
    "duration": 98,
    "start_time": "2024-08-21T09:40:45.933Z"
   },
   {
    "duration": 80,
    "start_time": "2024-08-21T09:42:04.431Z"
   },
   {
    "duration": 20,
    "start_time": "2024-08-21T09:42:28.724Z"
   },
   {
    "duration": 401,
    "start_time": "2024-08-21T09:43:03.983Z"
   },
   {
    "duration": 6,
    "start_time": "2024-08-21T09:43:38.309Z"
   },
   {
    "duration": 17,
    "start_time": "2024-08-21T09:43:43.727Z"
   },
   {
    "duration": 16,
    "start_time": "2024-08-21T09:43:52.699Z"
   },
   {
    "duration": 12,
    "start_time": "2024-08-21T09:44:03.779Z"
   },
   {
    "duration": 24,
    "start_time": "2024-08-21T09:45:15.485Z"
   },
   {
    "duration": 28,
    "start_time": "2024-08-21T09:45:27.662Z"
   },
   {
    "duration": 129,
    "start_time": "2024-08-21T09:45:49.795Z"
   },
   {
    "duration": 85,
    "start_time": "2024-08-21T09:47:29.715Z"
   },
   {
    "duration": 5,
    "start_time": "2024-08-21T09:47:46.886Z"
   },
   {
    "duration": 557,
    "start_time": "2024-08-21T09:47:46.897Z"
   },
   {
    "duration": 195,
    "start_time": "2024-08-21T09:47:47.457Z"
   },
   {
    "duration": 5,
    "start_time": "2024-08-21T09:47:47.655Z"
   },
   {
    "duration": 53,
    "start_time": "2024-08-21T09:47:47.663Z"
   },
   {
    "duration": 48,
    "start_time": "2024-08-21T09:47:47.721Z"
   },
   {
    "duration": 34,
    "start_time": "2024-08-21T09:47:47.772Z"
   },
   {
    "duration": 231,
    "start_time": "2024-08-21T09:47:47.810Z"
   },
   {
    "duration": 112,
    "start_time": "2024-08-21T09:47:48.044Z"
   },
   {
    "duration": 83,
    "start_time": "2024-08-21T09:47:48.159Z"
   },
   {
    "duration": 29,
    "start_time": "2024-08-21T09:47:48.245Z"
   },
   {
    "duration": 30,
    "start_time": "2024-08-21T09:47:48.277Z"
   },
   {
    "duration": 15,
    "start_time": "2024-08-21T09:47:48.310Z"
   },
   {
    "duration": 7,
    "start_time": "2024-08-21T09:47:48.328Z"
   },
   {
    "duration": 13,
    "start_time": "2024-08-21T09:47:48.342Z"
   },
   {
    "duration": 46,
    "start_time": "2024-08-21T09:47:48.358Z"
   },
   {
    "duration": 465,
    "start_time": "2024-08-21T09:47:48.407Z"
   },
   {
    "duration": 28,
    "start_time": "2024-08-21T09:47:48.875Z"
   },
   {
    "duration": 13,
    "start_time": "2024-08-21T09:47:48.906Z"
   },
   {
    "duration": 144,
    "start_time": "2024-08-21T09:47:48.922Z"
   },
   {
    "duration": 172,
    "start_time": "2024-08-21T09:47:49.069Z"
   },
   {
    "duration": 2501,
    "start_time": "2024-08-21T09:47:49.245Z"
   },
   {
    "duration": 18,
    "start_time": "2024-08-21T09:47:51.749Z"
   },
   {
    "duration": 42,
    "start_time": "2024-08-21T09:47:51.770Z"
   },
   {
    "duration": 1029,
    "start_time": "2024-08-21T09:47:51.814Z"
   },
   {
    "duration": 20,
    "start_time": "2024-08-21T09:47:52.847Z"
   },
   {
    "duration": 104,
    "start_time": "2024-08-21T09:47:52.870Z"
   },
   {
    "duration": 24,
    "start_time": "2024-08-21T09:48:05.755Z"
   },
   {
    "duration": 185,
    "start_time": "2024-08-21T09:48:57.135Z"
   },
   {
    "duration": 44,
    "start_time": "2024-08-21T09:49:07.253Z"
   },
   {
    "duration": 70,
    "start_time": "2024-08-21T09:49:19.373Z"
   },
   {
    "duration": 54,
    "start_time": "2024-08-21T09:49:39.697Z"
   },
   {
    "duration": 84,
    "start_time": "2024-08-21T09:50:42.796Z"
   },
   {
    "duration": 1333,
    "start_time": "2024-08-21T09:53:19.416Z"
   },
   {
    "duration": 1331,
    "start_time": "2024-08-21T09:55:15.739Z"
   },
   {
    "duration": 657,
    "start_time": "2024-08-21T09:55:17.073Z"
   },
   {
    "duration": 206,
    "start_time": "2024-08-21T09:55:17.733Z"
   },
   {
    "duration": 6,
    "start_time": "2024-08-21T09:55:17.942Z"
   },
   {
    "duration": 55,
    "start_time": "2024-08-21T09:55:17.951Z"
   },
   {
    "duration": 51,
    "start_time": "2024-08-21T09:55:18.009Z"
   },
   {
    "duration": 12,
    "start_time": "2024-08-21T09:55:18.063Z"
   },
   {
    "duration": 240,
    "start_time": "2024-08-21T09:55:18.102Z"
   },
   {
    "duration": 134,
    "start_time": "2024-08-21T09:55:18.345Z"
   },
   {
    "duration": 98,
    "start_time": "2024-08-21T09:55:18.485Z"
   },
   {
    "duration": 28,
    "start_time": "2024-08-21T09:55:18.586Z"
   },
   {
    "duration": 15,
    "start_time": "2024-08-21T09:55:18.617Z"
   },
   {
    "duration": 17,
    "start_time": "2024-08-21T09:55:18.636Z"
   },
   {
    "duration": 8,
    "start_time": "2024-08-21T09:55:18.656Z"
   },
   {
    "duration": 48,
    "start_time": "2024-08-21T09:55:18.666Z"
   },
   {
    "duration": 7,
    "start_time": "2024-08-21T09:55:18.716Z"
   },
   {
    "duration": 529,
    "start_time": "2024-08-21T09:55:18.726Z"
   },
   {
    "duration": 19,
    "start_time": "2024-08-21T09:55:19.257Z"
   },
   {
    "duration": 33,
    "start_time": "2024-08-21T09:55:19.279Z"
   },
   {
    "duration": 237,
    "start_time": "2024-08-21T09:55:19.315Z"
   },
   {
    "duration": 238,
    "start_time": "2024-08-21T09:55:19.555Z"
   },
   {
    "duration": 4387,
    "start_time": "2024-08-21T09:55:19.796Z"
   },
   {
    "duration": 28,
    "start_time": "2024-08-21T09:55:24.186Z"
   },
   {
    "duration": 18,
    "start_time": "2024-08-21T09:55:24.217Z"
   },
   {
    "duration": 1631,
    "start_time": "2024-08-21T09:55:24.239Z"
   },
   {
    "duration": 27,
    "start_time": "2024-08-21T09:55:25.874Z"
   },
   {
    "duration": 26,
    "start_time": "2024-08-21T09:55:25.904Z"
   },
   {
    "duration": 99,
    "start_time": "2024-08-21T09:55:25.938Z"
   },
   {
    "duration": 9,
    "start_time": "2024-08-21T09:55:26.040Z"
   },
   {
    "duration": 52,
    "start_time": "2024-08-21T09:55:26.052Z"
   },
   {
    "duration": 20,
    "start_time": "2024-08-21T09:55:26.106Z"
   },
   {
    "duration": 110,
    "start_time": "2024-08-21T09:55:26.129Z"
   },
   {
    "duration": 15,
    "start_time": "2024-08-21T09:55:26.242Z"
   },
   {
    "duration": 60,
    "start_time": "2024-08-21T09:55:26.260Z"
   },
   {
    "duration": 25,
    "start_time": "2024-08-21T09:55:26.326Z"
   },
   {
    "duration": 47,
    "start_time": "2024-08-21T09:55:26.355Z"
   },
   {
    "duration": 10,
    "start_time": "2024-08-21T09:55:26.405Z"
   },
   {
    "duration": 12,
    "start_time": "2024-08-21T09:55:26.421Z"
   },
   {
    "duration": 220,
    "start_time": "2024-08-21T09:57:37.919Z"
   },
   {
    "duration": 229,
    "start_time": "2024-08-21T10:00:44.805Z"
   },
   {
    "duration": 38,
    "start_time": "2024-08-21T10:00:51.929Z"
   },
   {
    "duration": 1268,
    "start_time": "2024-08-21T17:01:17.440Z"
   },
   {
    "duration": 612,
    "start_time": "2024-08-21T17:01:18.711Z"
   },
   {
    "duration": 192,
    "start_time": "2024-08-21T17:01:19.326Z"
   },
   {
    "duration": 7,
    "start_time": "2024-08-21T17:01:19.523Z"
   },
   {
    "duration": 78,
    "start_time": "2024-08-21T17:01:19.533Z"
   },
   {
    "duration": 51,
    "start_time": "2024-08-21T17:01:19.614Z"
   },
   {
    "duration": 11,
    "start_time": "2024-08-21T17:01:19.668Z"
   },
   {
    "duration": 226,
    "start_time": "2024-08-21T17:01:19.703Z"
   },
   {
    "duration": 124,
    "start_time": "2024-08-21T17:01:19.931Z"
   },
   {
    "duration": 68,
    "start_time": "2024-08-21T17:01:20.063Z"
   },
   {
    "duration": 28,
    "start_time": "2024-08-21T17:01:20.134Z"
   },
   {
    "duration": 42,
    "start_time": "2024-08-21T17:01:20.165Z"
   },
   {
    "duration": 18,
    "start_time": "2024-08-21T17:01:20.210Z"
   },
   {
    "duration": 8,
    "start_time": "2024-08-21T17:01:20.230Z"
   },
   {
    "duration": 13,
    "start_time": "2024-08-21T17:01:20.242Z"
   },
   {
    "duration": 44,
    "start_time": "2024-08-21T17:01:20.258Z"
   },
   {
    "duration": 500,
    "start_time": "2024-08-21T17:01:20.304Z"
   },
   {
    "duration": 18,
    "start_time": "2024-08-21T17:01:20.807Z"
   },
   {
    "duration": 14,
    "start_time": "2024-08-21T17:01:20.828Z"
   },
   {
    "duration": 248,
    "start_time": "2024-08-21T17:01:20.845Z"
   },
   {
    "duration": 241,
    "start_time": "2024-08-21T17:01:21.103Z"
   },
   {
    "duration": 4479,
    "start_time": "2024-08-21T17:01:21.347Z"
   },
   {
    "duration": 21,
    "start_time": "2024-08-21T17:01:25.829Z"
   },
   {
    "duration": 50,
    "start_time": "2024-08-21T17:01:25.853Z"
   },
   {
    "duration": 1611,
    "start_time": "2024-08-21T17:01:25.907Z"
   },
   {
    "duration": 18,
    "start_time": "2024-08-21T17:01:27.521Z"
   },
   {
    "duration": 24,
    "start_time": "2024-08-21T17:01:27.543Z"
   },
   {
    "duration": 76,
    "start_time": "2024-08-21T17:01:27.574Z"
   },
   {
    "duration": 9,
    "start_time": "2024-08-21T17:01:27.652Z"
   },
   {
    "duration": 45,
    "start_time": "2024-08-21T17:01:27.664Z"
   },
   {
    "duration": 16,
    "start_time": "2024-08-21T17:01:27.712Z"
   },
   {
    "duration": 107,
    "start_time": "2024-08-21T17:01:27.732Z"
   },
   {
    "duration": 15,
    "start_time": "2024-08-21T17:01:27.843Z"
   },
   {
    "duration": 55,
    "start_time": "2024-08-21T17:01:27.861Z"
   },
   {
    "duration": 12,
    "start_time": "2024-08-21T17:01:27.919Z"
   },
   {
    "duration": 37,
    "start_time": "2024-08-21T17:01:27.935Z"
   },
   {
    "duration": 6,
    "start_time": "2024-08-21T17:01:28.003Z"
   },
   {
    "duration": 13,
    "start_time": "2024-08-21T17:01:28.012Z"
   },
   {
    "duration": 254,
    "start_time": "2024-08-21T17:01:28.028Z"
   },
   {
    "duration": 0,
    "start_time": "2024-08-21T17:01:28.285Z"
   },
   {
    "duration": 1077,
    "start_time": "2024-08-21T17:01:59.089Z"
   },
   {
    "duration": 4,
    "start_time": "2024-08-21T17:02:07.672Z"
   },
   {
    "duration": 575,
    "start_time": "2024-08-21T17:02:07.683Z"
   },
   {
    "duration": 203,
    "start_time": "2024-08-21T17:02:08.261Z"
   },
   {
    "duration": 5,
    "start_time": "2024-08-21T17:02:08.467Z"
   },
   {
    "duration": 56,
    "start_time": "2024-08-21T17:02:08.475Z"
   },
   {
    "duration": 45,
    "start_time": "2024-08-21T17:02:08.536Z"
   },
   {
    "duration": 8,
    "start_time": "2024-08-21T17:02:08.602Z"
   },
   {
    "duration": 236,
    "start_time": "2024-08-21T17:02:08.613Z"
   },
   {
    "duration": 103,
    "start_time": "2024-08-21T17:02:08.852Z"
   },
   {
    "duration": 63,
    "start_time": "2024-08-21T17:02:08.958Z"
   },
   {
    "duration": 29,
    "start_time": "2024-08-21T17:02:09.024Z"
   },
   {
    "duration": 14,
    "start_time": "2024-08-21T17:02:09.055Z"
   },
   {
    "duration": 42,
    "start_time": "2024-08-21T17:02:09.072Z"
   },
   {
    "duration": 8,
    "start_time": "2024-08-21T17:02:09.117Z"
   },
   {
    "duration": 13,
    "start_time": "2024-08-21T17:02:09.131Z"
   },
   {
    "duration": 7,
    "start_time": "2024-08-21T17:02:09.147Z"
   },
   {
    "duration": 444,
    "start_time": "2024-08-21T17:02:09.201Z"
   },
   {
    "duration": 15,
    "start_time": "2024-08-21T17:02:09.649Z"
   },
   {
    "duration": 35,
    "start_time": "2024-08-21T17:02:09.667Z"
   },
   {
    "duration": 229,
    "start_time": "2024-08-21T17:02:09.704Z"
   },
   {
    "duration": 248,
    "start_time": "2024-08-21T17:02:09.936Z"
   },
   {
    "duration": 4567,
    "start_time": "2024-08-21T17:02:10.187Z"
   },
   {
    "duration": 95,
    "start_time": "2024-08-21T17:06:12.451Z"
   },
   {
    "duration": 4767,
    "start_time": "2024-08-21T17:06:26.642Z"
   },
   {
    "duration": 4765,
    "start_time": "2024-08-21T17:06:57.783Z"
   },
   {
    "duration": 4758,
    "start_time": "2024-08-21T17:07:36.548Z"
   },
   {
    "duration": 4681,
    "start_time": "2024-08-21T17:08:30.320Z"
   },
   {
    "duration": 113,
    "start_time": "2024-08-21T17:13:49.915Z"
   },
   {
    "duration": 2692,
    "start_time": "2024-08-21T17:13:56.643Z"
   },
   {
    "duration": 2684,
    "start_time": "2024-08-21T17:14:16.920Z"
   },
   {
    "duration": 2647,
    "start_time": "2024-08-21T17:14:42.807Z"
   },
   {
    "duration": 18,
    "start_time": "2024-08-21T17:14:52.049Z"
   },
   {
    "duration": 18,
    "start_time": "2024-08-21T17:14:59.263Z"
   },
   {
    "duration": 1053,
    "start_time": "2024-08-21T17:15:02.895Z"
   },
   {
    "duration": 8,
    "start_time": "2024-08-21T17:16:28.766Z"
   },
   {
    "duration": 17,
    "start_time": "2024-08-21T17:16:38.908Z"
   },
   {
    "duration": 12,
    "start_time": "2024-08-21T17:20:18.915Z"
   },
   {
    "duration": 15,
    "start_time": "2024-08-21T17:20:39.423Z"
   },
   {
    "duration": 9,
    "start_time": "2024-08-21T17:22:54.153Z"
   },
   {
    "duration": 9,
    "start_time": "2024-08-21T17:25:46.577Z"
   },
   {
    "duration": 10,
    "start_time": "2024-08-21T17:25:55.605Z"
   },
   {
    "duration": 14,
    "start_time": "2024-08-21T17:26:42.737Z"
   },
   {
    "duration": 10,
    "start_time": "2024-08-21T17:28:26.035Z"
   },
   {
    "duration": 14,
    "start_time": "2024-08-21T17:28:31.007Z"
   },
   {
    "duration": 14,
    "start_time": "2024-08-21T17:29:35.356Z"
   },
   {
    "duration": 16,
    "start_time": "2024-08-21T17:29:38.426Z"
   },
   {
    "duration": 32,
    "start_time": "2024-08-21T17:31:57.264Z"
   },
   {
    "duration": 34,
    "start_time": "2024-08-21T17:32:23.832Z"
   },
   {
    "duration": 18,
    "start_time": "2024-08-21T17:34:06.664Z"
   },
   {
    "duration": 31,
    "start_time": "2024-08-21T17:44:53.832Z"
   },
   {
    "duration": 256,
    "start_time": "2024-08-21T17:45:52.967Z"
   },
   {
    "duration": 43,
    "start_time": "2024-08-21T17:46:08.651Z"
   },
   {
    "duration": 181,
    "start_time": "2024-08-21T17:46:53.604Z"
   },
   {
    "duration": 40,
    "start_time": "2024-08-21T17:49:01.226Z"
   },
   {
    "duration": 24,
    "start_time": "2024-08-21T17:51:19.401Z"
   },
   {
    "duration": 62,
    "start_time": "2024-08-21T17:51:25.803Z"
   },
   {
    "duration": 212,
    "start_time": "2024-08-21T17:57:01.515Z"
   },
   {
    "duration": 207,
    "start_time": "2024-08-21T17:57:53.647Z"
   },
   {
    "duration": 203,
    "start_time": "2024-08-21T18:33:44.346Z"
   },
   {
    "duration": 222,
    "start_time": "2024-08-21T18:34:24.364Z"
   },
   {
    "duration": 57,
    "start_time": "2024-08-21T18:34:39.831Z"
   },
   {
    "duration": 55,
    "start_time": "2024-08-21T18:34:57.597Z"
   },
   {
    "duration": 54,
    "start_time": "2024-08-21T18:35:14.322Z"
   },
   {
    "duration": 20,
    "start_time": "2024-08-21T18:46:16.941Z"
   },
   {
    "duration": 22,
    "start_time": "2024-08-21T18:46:28.765Z"
   },
   {
    "duration": 24,
    "start_time": "2024-08-21T18:47:42.653Z"
   },
   {
    "duration": 28,
    "start_time": "2024-08-21T18:47:51.832Z"
   },
   {
    "duration": 97,
    "start_time": "2024-08-21T18:49:40.919Z"
   },
   {
    "duration": 27,
    "start_time": "2024-08-21T18:50:27.114Z"
   },
   {
    "duration": 59,
    "start_time": "2024-08-21T18:51:42.497Z"
   },
   {
    "duration": 23,
    "start_time": "2024-08-21T18:51:49.758Z"
   },
   {
    "duration": 40,
    "start_time": "2024-08-21T18:52:36.277Z"
   },
   {
    "duration": 222,
    "start_time": "2024-08-21T18:53:30.522Z"
   },
   {
    "duration": 62,
    "start_time": "2024-08-21T18:53:34.352Z"
   },
   {
    "duration": 451,
    "start_time": "2024-08-21T18:53:37.516Z"
   },
   {
    "duration": 23,
    "start_time": "2024-08-21T18:53:47.171Z"
   },
   {
    "duration": 18,
    "start_time": "2024-08-21T18:53:58.533Z"
   },
   {
    "duration": 19,
    "start_time": "2024-08-21T18:54:54.748Z"
   },
   {
    "duration": 15,
    "start_time": "2024-08-21T18:56:12.294Z"
   },
   {
    "duration": 18,
    "start_time": "2024-08-21T18:57:41.547Z"
   },
   {
    "duration": 24,
    "start_time": "2024-08-21T19:01:23.575Z"
   },
   {
    "duration": 259,
    "start_time": "2024-08-21T19:02:56.996Z"
   },
   {
    "duration": 223,
    "start_time": "2024-08-21T19:03:28.985Z"
   },
   {
    "duration": 247,
    "start_time": "2024-08-21T19:05:12.728Z"
   },
   {
    "duration": 59,
    "start_time": "2024-08-21T19:11:28.293Z"
   },
   {
    "duration": 26,
    "start_time": "2024-08-21T19:11:50.480Z"
   },
   {
    "duration": 192,
    "start_time": "2024-08-21T19:15:59.064Z"
   },
   {
    "duration": 203,
    "start_time": "2024-08-21T19:17:18.202Z"
   },
   {
    "duration": 212,
    "start_time": "2024-08-21T19:17:28.108Z"
   },
   {
    "duration": 49,
    "start_time": "2024-08-21T19:18:34.781Z"
   },
   {
    "duration": 56,
    "start_time": "2024-08-21T19:19:05.781Z"
   },
   {
    "duration": 9,
    "start_time": "2024-08-21T19:19:29.282Z"
   },
   {
    "duration": 28,
    "start_time": "2024-08-21T19:19:33.019Z"
   },
   {
    "duration": 31,
    "start_time": "2024-08-21T19:20:03.237Z"
   },
   {
    "duration": 4,
    "start_time": "2024-08-21T19:26:34.465Z"
   },
   {
    "duration": 568,
    "start_time": "2024-08-21T19:26:34.473Z"
   },
   {
    "duration": 205,
    "start_time": "2024-08-21T19:26:35.044Z"
   },
   {
    "duration": 6,
    "start_time": "2024-08-21T19:26:35.252Z"
   },
   {
    "duration": 57,
    "start_time": "2024-08-21T19:26:35.266Z"
   },
   {
    "duration": 47,
    "start_time": "2024-08-21T19:26:35.326Z"
   },
   {
    "duration": 28,
    "start_time": "2024-08-21T19:26:35.376Z"
   },
   {
    "duration": 243,
    "start_time": "2024-08-21T19:26:35.408Z"
   },
   {
    "duration": 106,
    "start_time": "2024-08-21T19:26:35.654Z"
   },
   {
    "duration": 71,
    "start_time": "2024-08-21T19:26:35.763Z"
   },
   {
    "duration": 29,
    "start_time": "2024-08-21T19:26:35.837Z"
   },
   {
    "duration": 38,
    "start_time": "2024-08-21T19:26:35.870Z"
   },
   {
    "duration": 16,
    "start_time": "2024-08-21T19:26:35.911Z"
   },
   {
    "duration": 9,
    "start_time": "2024-08-21T19:26:35.936Z"
   },
   {
    "duration": 56,
    "start_time": "2024-08-21T19:26:35.948Z"
   },
   {
    "duration": 9,
    "start_time": "2024-08-21T19:26:36.008Z"
   },
   {
    "duration": 448,
    "start_time": "2024-08-21T19:26:36.020Z"
   },
   {
    "duration": 15,
    "start_time": "2024-08-21T19:26:36.474Z"
   },
   {
    "duration": 16,
    "start_time": "2024-08-21T19:26:36.504Z"
   },
   {
    "duration": 148,
    "start_time": "2024-08-21T19:26:36.524Z"
   },
   {
    "duration": 2865,
    "start_time": "2024-08-21T19:26:36.675Z"
   },
   {
    "duration": 19,
    "start_time": "2024-08-21T19:26:39.543Z"
   },
   {
    "duration": 44,
    "start_time": "2024-08-21T19:26:39.564Z"
   },
   {
    "duration": 1065,
    "start_time": "2024-08-21T19:26:39.610Z"
   },
   {
    "duration": 36,
    "start_time": "2024-08-21T19:26:40.678Z"
   },
   {
    "duration": 29,
    "start_time": "2024-08-21T19:26:40.717Z"
   },
   {
    "duration": 228,
    "start_time": "2024-08-21T19:26:40.750Z"
   },
   {
    "duration": 68,
    "start_time": "2024-08-21T19:26:40.981Z"
   },
   {
    "duration": 8,
    "start_time": "2024-08-21T19:26:41.052Z"
   },
   {
    "duration": 55,
    "start_time": "2024-08-21T19:26:41.063Z"
   },
   {
    "duration": 17,
    "start_time": "2024-08-21T19:26:41.121Z"
   },
   {
    "duration": 20,
    "start_time": "2024-08-21T19:26:41.141Z"
   },
   {
    "duration": 15,
    "start_time": "2024-08-21T19:26:41.201Z"
   },
   {
    "duration": 33,
    "start_time": "2024-08-21T19:26:41.219Z"
   },
   {
    "duration": 50,
    "start_time": "2024-08-21T19:26:41.255Z"
   },
   {
    "duration": 39,
    "start_time": "2024-08-21T19:26:41.309Z"
   },
   {
    "duration": 9,
    "start_time": "2024-08-21T19:26:41.351Z"
   },
   {
    "duration": 44,
    "start_time": "2024-08-21T19:26:41.362Z"
   },
   {
    "duration": 16,
    "start_time": "2024-08-21T19:26:41.409Z"
   },
   {
    "duration": 238,
    "start_time": "2024-08-21T19:26:41.428Z"
   },
   {
    "duration": 73,
    "start_time": "2024-08-21T19:26:41.675Z"
   },
   {
    "duration": 27,
    "start_time": "2024-08-21T19:26:41.752Z"
   },
   {
    "duration": 281,
    "start_time": "2024-08-21T19:26:41.782Z"
   },
   {
    "duration": 13,
    "start_time": "2024-08-21T19:29:01.938Z"
   },
   {
    "duration": 53,
    "start_time": "2024-08-21T19:31:59.221Z"
   },
   {
    "duration": 72,
    "start_time": "2024-08-21T19:32:20.758Z"
   },
   {
    "duration": 73,
    "start_time": "2024-08-21T19:32:48.343Z"
   },
   {
    "duration": 85,
    "start_time": "2024-08-21T19:35:18.857Z"
   },
   {
    "duration": 99,
    "start_time": "2024-08-21T19:35:42.287Z"
   },
   {
    "duration": 89,
    "start_time": "2024-08-21T19:37:08.815Z"
   },
   {
    "duration": 104,
    "start_time": "2024-08-21T19:39:12.494Z"
   },
   {
    "duration": 124,
    "start_time": "2024-08-21T19:40:08.487Z"
   },
   {
    "duration": 102,
    "start_time": "2024-08-21T19:40:15.121Z"
   },
   {
    "duration": 105,
    "start_time": "2024-08-21T19:40:23.950Z"
   },
   {
    "duration": 17,
    "start_time": "2024-08-21T19:44:32.908Z"
   },
   {
    "duration": 20,
    "start_time": "2024-08-21T19:47:24.879Z"
   },
   {
    "duration": 87,
    "start_time": "2024-08-21T19:48:11.321Z"
   },
   {
    "duration": 20,
    "start_time": "2024-08-21T19:48:27.897Z"
   },
   {
    "duration": 16,
    "start_time": "2024-08-21T19:49:17.588Z"
   },
   {
    "duration": 16,
    "start_time": "2024-08-21T19:50:44.148Z"
   },
   {
    "duration": 176,
    "start_time": "2024-08-27T19:49:53.163Z"
   },
   {
    "duration": 2671,
    "start_time": "2024-08-27T19:50:00.122Z"
   },
   {
    "duration": 385,
    "start_time": "2024-08-27T19:50:02.796Z"
   },
   {
    "duration": 101,
    "start_time": "2024-08-27T19:50:03.182Z"
   },
   {
    "duration": 3,
    "start_time": "2024-08-27T19:50:03.286Z"
   },
   {
    "duration": 38,
    "start_time": "2024-08-27T19:50:03.290Z"
   },
   {
    "duration": 33,
    "start_time": "2024-08-27T19:50:03.330Z"
   },
   {
    "duration": 7,
    "start_time": "2024-08-27T19:50:03.365Z"
   },
   {
    "duration": 138,
    "start_time": "2024-08-27T19:50:03.374Z"
   },
   {
    "duration": 51,
    "start_time": "2024-08-27T19:50:03.513Z"
   },
   {
    "duration": 78,
    "start_time": "2024-08-27T19:50:03.568Z"
   },
   {
    "duration": 16,
    "start_time": "2024-08-27T19:50:03.648Z"
   },
   {
    "duration": 7,
    "start_time": "2024-08-27T19:50:03.666Z"
   },
   {
    "duration": 11,
    "start_time": "2024-08-27T19:50:03.676Z"
   },
   {
    "duration": 4,
    "start_time": "2024-08-27T19:50:03.689Z"
   },
   {
    "duration": 8,
    "start_time": "2024-08-27T19:50:03.712Z"
   },
   {
    "duration": 4,
    "start_time": "2024-08-27T19:50:03.722Z"
   },
   {
    "duration": 279,
    "start_time": "2024-08-27T19:50:03.729Z"
   },
   {
    "duration": 12,
    "start_time": "2024-08-27T19:50:04.010Z"
   },
   {
    "duration": 8,
    "start_time": "2024-08-27T19:50:04.024Z"
   },
   {
    "duration": 85,
    "start_time": "2024-08-27T19:50:04.033Z"
   },
   {
    "duration": 1227,
    "start_time": "2024-08-27T19:50:04.120Z"
   },
   {
    "duration": 11,
    "start_time": "2024-08-27T19:50:05.349Z"
   },
   {
    "duration": 9,
    "start_time": "2024-08-27T19:50:05.362Z"
   },
   {
    "duration": 129,
    "start_time": "2024-08-27T19:50:05.373Z"
   },
   {
    "duration": 670,
    "start_time": "2024-08-27T19:50:38.822Z"
   },
   {
    "duration": 617,
    "start_time": "2024-08-27T19:51:21.857Z"
   },
   {
    "duration": 599,
    "start_time": "2024-08-27T19:51:37.073Z"
   },
   {
    "duration": 8,
    "start_time": "2024-08-27T19:53:15.263Z"
   },
   {
    "duration": 619,
    "start_time": "2024-08-27T19:56:36.195Z"
   },
   {
    "duration": 680,
    "start_time": "2024-08-27T19:57:03.803Z"
   },
   {
    "duration": 321,
    "start_time": "2024-08-27T19:57:35.593Z"
   },
   {
    "duration": 634,
    "start_time": "2024-08-27T19:57:43.495Z"
   },
   {
    "duration": 756,
    "start_time": "2024-08-27T19:57:57.710Z"
   },
   {
    "duration": 639,
    "start_time": "2024-08-27T20:01:58.687Z"
   },
   {
    "duration": 677,
    "start_time": "2024-08-27T20:02:43.213Z"
   },
   {
    "duration": 15,
    "start_time": "2024-08-27T20:10:17.332Z"
   },
   {
    "duration": 3,
    "start_time": "2024-08-27T20:10:26.532Z"
   },
   {
    "duration": 315,
    "start_time": "2024-08-27T20:10:26.537Z"
   },
   {
    "duration": 109,
    "start_time": "2024-08-27T20:10:26.855Z"
   },
   {
    "duration": 3,
    "start_time": "2024-08-27T20:10:26.966Z"
   },
   {
    "duration": 41,
    "start_time": "2024-08-27T20:10:26.972Z"
   },
   {
    "duration": 26,
    "start_time": "2024-08-27T20:10:27.014Z"
   },
   {
    "duration": 5,
    "start_time": "2024-08-27T20:10:27.042Z"
   },
   {
    "duration": 129,
    "start_time": "2024-08-27T20:10:27.049Z"
   },
   {
    "duration": 52,
    "start_time": "2024-08-27T20:10:27.180Z"
   },
   {
    "duration": 36,
    "start_time": "2024-08-27T20:10:27.234Z"
   },
   {
    "duration": 16,
    "start_time": "2024-08-27T20:10:27.273Z"
   },
   {
    "duration": 28,
    "start_time": "2024-08-27T20:10:27.290Z"
   },
   {
    "duration": 10,
    "start_time": "2024-08-27T20:10:27.320Z"
   },
   {
    "duration": 4,
    "start_time": "2024-08-27T20:10:27.332Z"
   },
   {
    "duration": 9,
    "start_time": "2024-08-27T20:10:27.338Z"
   },
   {
    "duration": 5,
    "start_time": "2024-08-27T20:10:27.349Z"
   },
   {
    "duration": 259,
    "start_time": "2024-08-27T20:10:27.356Z"
   },
   {
    "duration": 9,
    "start_time": "2024-08-27T20:10:27.617Z"
   },
   {
    "duration": 8,
    "start_time": "2024-08-27T20:10:27.628Z"
   },
   {
    "duration": 85,
    "start_time": "2024-08-27T20:10:27.638Z"
   },
   {
    "duration": 1211,
    "start_time": "2024-08-27T20:10:27.726Z"
   },
   {
    "duration": 10,
    "start_time": "2024-08-27T20:10:28.939Z"
   },
   {
    "duration": 10,
    "start_time": "2024-08-27T20:10:28.951Z"
   },
   {
    "duration": 658,
    "start_time": "2024-08-27T20:10:28.964Z"
   },
   {
    "duration": 10,
    "start_time": "2024-08-27T20:10:29.624Z"
   },
   {
    "duration": 14,
    "start_time": "2024-08-27T20:10:29.635Z"
   },
   {
    "duration": 120,
    "start_time": "2024-08-27T20:10:29.651Z"
   },
   {
    "duration": 29,
    "start_time": "2024-08-27T20:10:29.772Z"
   },
   {
    "duration": 10,
    "start_time": "2024-08-27T20:10:29.805Z"
   },
   {
    "duration": 14,
    "start_time": "2024-08-27T20:10:29.817Z"
   },
   {
    "duration": 9,
    "start_time": "2024-08-27T20:10:29.832Z"
   },
   {
    "duration": 11,
    "start_time": "2024-08-27T20:10:29.843Z"
   },
   {
    "duration": 10,
    "start_time": "2024-08-27T20:10:29.855Z"
   },
   {
    "duration": 51,
    "start_time": "2024-08-27T20:10:29.867Z"
   },
   {
    "duration": 8,
    "start_time": "2024-08-27T20:10:29.920Z"
   },
   {
    "duration": 8,
    "start_time": "2024-08-27T20:10:29.929Z"
   },
   {
    "duration": 24,
    "start_time": "2024-08-27T20:10:29.938Z"
   },
   {
    "duration": 82,
    "start_time": "2024-08-27T20:10:29.965Z"
   },
   {
    "duration": 5,
    "start_time": "2024-08-27T20:10:30.049Z"
   },
   {
    "duration": 9,
    "start_time": "2024-08-27T20:10:30.055Z"
   },
   {
    "duration": 9,
    "start_time": "2024-08-27T20:10:30.065Z"
   },
   {
    "duration": 131,
    "start_time": "2024-08-27T20:10:30.076Z"
   },
   {
    "duration": 31,
    "start_time": "2024-08-27T20:10:30.212Z"
   },
   {
    "duration": 15,
    "start_time": "2024-08-27T20:10:30.245Z"
   },
   {
    "duration": 151,
    "start_time": "2024-08-27T20:10:30.263Z"
   },
   {
    "duration": 11,
    "start_time": "2024-08-27T20:10:30.416Z"
   },
   {
    "duration": 2476,
    "start_time": "2024-08-28T05:39:03.324Z"
   },
   {
    "duration": 363,
    "start_time": "2024-08-28T05:39:05.802Z"
   },
   {
    "duration": 106,
    "start_time": "2024-08-28T05:39:06.166Z"
   },
   {
    "duration": 4,
    "start_time": "2024-08-28T05:39:06.273Z"
   },
   {
    "duration": 25,
    "start_time": "2024-08-28T05:39:06.279Z"
   },
   {
    "duration": 47,
    "start_time": "2024-08-28T05:39:06.305Z"
   },
   {
    "duration": 7,
    "start_time": "2024-08-28T05:39:06.354Z"
   },
   {
    "duration": 135,
    "start_time": "2024-08-28T05:39:06.363Z"
   },
   {
    "duration": 51,
    "start_time": "2024-08-28T05:39:06.500Z"
   },
   {
    "duration": 71,
    "start_time": "2024-08-28T05:39:06.552Z"
   },
   {
    "duration": 15,
    "start_time": "2024-08-28T05:39:06.624Z"
   },
   {
    "duration": 8,
    "start_time": "2024-08-28T05:39:06.640Z"
   },
   {
    "duration": 15,
    "start_time": "2024-08-28T05:39:06.649Z"
   },
   {
    "duration": 4,
    "start_time": "2024-08-28T05:39:06.667Z"
   },
   {
    "duration": 7,
    "start_time": "2024-08-28T05:39:06.673Z"
   },
   {
    "duration": 4,
    "start_time": "2024-08-28T05:39:06.681Z"
   },
   {
    "duration": 271,
    "start_time": "2024-08-28T05:39:06.687Z"
   },
   {
    "duration": 12,
    "start_time": "2024-08-28T05:39:06.960Z"
   },
   {
    "duration": 6,
    "start_time": "2024-08-28T05:39:06.974Z"
   },
   {
    "duration": 84,
    "start_time": "2024-08-28T05:39:06.982Z"
   },
   {
    "duration": 1233,
    "start_time": "2024-08-28T05:39:07.067Z"
   },
   {
    "duration": 10,
    "start_time": "2024-08-28T05:39:08.302Z"
   },
   {
    "duration": 9,
    "start_time": "2024-08-28T05:39:08.314Z"
   },
   {
    "duration": 745,
    "start_time": "2024-08-28T05:39:08.324Z"
   },
   {
    "duration": 9,
    "start_time": "2024-08-28T05:39:09.071Z"
   },
   {
    "duration": 14,
    "start_time": "2024-08-28T05:39:09.082Z"
   },
   {
    "duration": 99,
    "start_time": "2024-08-28T05:39:09.097Z"
   },
   {
    "duration": 28,
    "start_time": "2024-08-28T05:39:09.198Z"
   },
   {
    "duration": 21,
    "start_time": "2024-08-28T05:39:09.228Z"
   },
   {
    "duration": 14,
    "start_time": "2024-08-28T05:39:09.251Z"
   },
   {
    "duration": 9,
    "start_time": "2024-08-28T05:39:09.266Z"
   },
   {
    "duration": 11,
    "start_time": "2024-08-28T05:39:09.276Z"
   },
   {
    "duration": 8,
    "start_time": "2024-08-28T05:39:09.288Z"
   },
   {
    "duration": 15,
    "start_time": "2024-08-28T05:39:09.298Z"
   },
   {
    "duration": 38,
    "start_time": "2024-08-28T05:39:09.315Z"
   },
   {
    "duration": 8,
    "start_time": "2024-08-28T05:39:09.354Z"
   },
   {
    "duration": 19,
    "start_time": "2024-08-28T05:39:09.363Z"
   },
   {
    "duration": 73,
    "start_time": "2024-08-28T05:39:09.384Z"
   },
   {
    "duration": 4,
    "start_time": "2024-08-28T05:39:09.459Z"
   },
   {
    "duration": 8,
    "start_time": "2024-08-28T05:39:09.465Z"
   },
   {
    "duration": 7,
    "start_time": "2024-08-28T05:39:09.477Z"
   },
   {
    "duration": 131,
    "start_time": "2024-08-28T05:39:09.486Z"
   },
   {
    "duration": 33,
    "start_time": "2024-08-28T05:39:09.619Z"
   },
   {
    "duration": 15,
    "start_time": "2024-08-28T05:39:09.653Z"
   },
   {
    "duration": 144,
    "start_time": "2024-08-28T05:39:09.669Z"
   },
   {
    "duration": 11,
    "start_time": "2024-08-28T05:39:09.814Z"
   },
   {
    "duration": 100,
    "start_time": "2024-08-28T05:53:00.081Z"
   },
   {
    "duration": 2131,
    "start_time": "2024-08-28T05:53:09.905Z"
   },
   {
    "duration": 2141,
    "start_time": "2024-08-28T05:53:22.860Z"
   },
   {
    "duration": 2149,
    "start_time": "2024-08-28T05:53:45.962Z"
   },
   {
    "duration": 2108,
    "start_time": "2024-08-28T05:54:13.859Z"
   },
   {
    "duration": 2,
    "start_time": "2024-08-28T05:54:18.180Z"
   },
   {
    "duration": 285,
    "start_time": "2024-08-28T05:54:18.186Z"
   },
   {
    "duration": 102,
    "start_time": "2024-08-28T05:54:18.473Z"
   },
   {
    "duration": 3,
    "start_time": "2024-08-28T05:54:18.577Z"
   },
   {
    "duration": 24,
    "start_time": "2024-08-28T05:54:18.582Z"
   },
   {
    "duration": 41,
    "start_time": "2024-08-28T05:54:18.609Z"
   },
   {
    "duration": 5,
    "start_time": "2024-08-28T05:54:18.652Z"
   },
   {
    "duration": 130,
    "start_time": "2024-08-28T05:54:18.660Z"
   },
   {
    "duration": 39,
    "start_time": "2024-08-28T05:54:18.792Z"
   },
   {
    "duration": 43,
    "start_time": "2024-08-28T05:54:18.832Z"
   },
   {
    "duration": 15,
    "start_time": "2024-08-28T05:54:18.877Z"
   },
   {
    "duration": 7,
    "start_time": "2024-08-28T05:54:18.893Z"
   },
   {
    "duration": 10,
    "start_time": "2024-08-28T05:54:18.901Z"
   },
   {
    "duration": 4,
    "start_time": "2024-08-28T05:54:18.913Z"
   },
   {
    "duration": 28,
    "start_time": "2024-08-28T05:54:18.920Z"
   },
   {
    "duration": 4,
    "start_time": "2024-08-28T05:54:18.950Z"
   },
   {
    "duration": 231,
    "start_time": "2024-08-28T05:54:18.956Z"
   },
   {
    "duration": 8,
    "start_time": "2024-08-28T05:54:19.189Z"
   },
   {
    "duration": 6,
    "start_time": "2024-08-28T05:54:19.198Z"
   },
   {
    "duration": 117,
    "start_time": "2024-08-28T05:54:19.206Z"
   },
   {
    "duration": 2150,
    "start_time": "2024-08-28T05:54:19.325Z"
   },
   {
    "duration": 2207,
    "start_time": "2024-08-28T05:54:46.847Z"
   },
   {
    "duration": 2112,
    "start_time": "2024-08-28T05:55:34.570Z"
   },
   {
    "duration": 2568,
    "start_time": "2024-08-28T05:55:58.655Z"
   },
   {
    "duration": 2113,
    "start_time": "2024-08-28T05:56:42.781Z"
   },
   {
    "duration": 747,
    "start_time": "2024-08-28T05:57:11.811Z"
   },
   {
    "duration": 325,
    "start_time": "2024-08-28T05:57:12.560Z"
   },
   {
    "duration": 104,
    "start_time": "2024-08-28T05:57:12.887Z"
   },
   {
    "duration": 3,
    "start_time": "2024-08-28T05:57:12.994Z"
   },
   {
    "duration": 26,
    "start_time": "2024-08-28T05:57:12.998Z"
   },
   {
    "duration": 43,
    "start_time": "2024-08-28T05:57:13.025Z"
   },
   {
    "duration": 5,
    "start_time": "2024-08-28T05:57:13.070Z"
   },
   {
    "duration": 134,
    "start_time": "2024-08-28T05:57:13.077Z"
   },
   {
    "duration": 55,
    "start_time": "2024-08-28T05:57:13.213Z"
   },
   {
    "duration": 35,
    "start_time": "2024-08-28T05:57:13.271Z"
   },
   {
    "duration": 14,
    "start_time": "2024-08-28T05:57:13.307Z"
   },
   {
    "duration": 7,
    "start_time": "2024-08-28T05:57:13.323Z"
   },
   {
    "duration": 9,
    "start_time": "2024-08-28T05:57:13.348Z"
   },
   {
    "duration": 4,
    "start_time": "2024-08-28T05:57:13.358Z"
   },
   {
    "duration": 7,
    "start_time": "2024-08-28T05:57:13.364Z"
   },
   {
    "duration": 3,
    "start_time": "2024-08-28T05:57:13.373Z"
   },
   {
    "duration": 268,
    "start_time": "2024-08-28T05:57:13.377Z"
   },
   {
    "duration": 10,
    "start_time": "2024-08-28T05:57:13.649Z"
   },
   {
    "duration": 7,
    "start_time": "2024-08-28T05:57:13.661Z"
   },
   {
    "duration": 118,
    "start_time": "2024-08-28T05:57:13.670Z"
   },
   {
    "duration": 2058,
    "start_time": "2024-08-28T05:57:13.790Z"
   },
   {
    "duration": 11,
    "start_time": "2024-08-28T05:57:15.850Z"
   },
   {
    "duration": 10,
    "start_time": "2024-08-28T05:57:15.863Z"
   },
   {
    "duration": 946,
    "start_time": "2024-08-28T05:57:15.875Z"
   },
   {
    "duration": 9,
    "start_time": "2024-08-28T05:57:16.822Z"
   },
   {
    "duration": 18,
    "start_time": "2024-08-28T05:57:16.834Z"
   },
   {
    "duration": 104,
    "start_time": "2024-08-28T05:57:16.854Z"
   },
   {
    "duration": 28,
    "start_time": "2024-08-28T05:57:16.962Z"
   },
   {
    "duration": 4,
    "start_time": "2024-08-28T05:57:16.992Z"
   },
   {
    "duration": 13,
    "start_time": "2024-08-28T05:57:16.998Z"
   },
   {
    "duration": 9,
    "start_time": "2024-08-28T05:57:17.014Z"
   },
   {
    "duration": 81,
    "start_time": "2024-08-28T05:57:17.024Z"
   },
   {
    "duration": 8,
    "start_time": "2024-08-28T05:57:17.106Z"
   },
   {
    "duration": 37,
    "start_time": "2024-08-28T05:57:17.116Z"
   },
   {
    "duration": 9,
    "start_time": "2024-08-28T05:57:17.154Z"
   },
   {
    "duration": 9,
    "start_time": "2024-08-28T05:57:17.165Z"
   },
   {
    "duration": 17,
    "start_time": "2024-08-28T05:57:17.175Z"
   },
   {
    "duration": 71,
    "start_time": "2024-08-28T05:57:17.195Z"
   },
   {
    "duration": 5,
    "start_time": "2024-08-28T05:57:17.269Z"
   },
   {
    "duration": 9,
    "start_time": "2024-08-28T05:57:17.275Z"
   },
   {
    "duration": 8,
    "start_time": "2024-08-28T05:57:17.286Z"
   },
   {
    "duration": 126,
    "start_time": "2024-08-28T05:57:17.296Z"
   },
   {
    "duration": 40,
    "start_time": "2024-08-28T05:57:17.425Z"
   },
   {
    "duration": 14,
    "start_time": "2024-08-28T05:57:17.467Z"
   },
   {
    "duration": 140,
    "start_time": "2024-08-28T05:57:17.483Z"
   },
   {
    "duration": 10,
    "start_time": "2024-08-28T05:57:17.625Z"
   },
   {
    "duration": 2027,
    "start_time": "2024-08-28T05:58:21.069Z"
   },
   {
    "duration": 57,
    "start_time": "2024-08-28T05:58:38.806Z"
   },
   {
    "duration": 1141,
    "start_time": "2024-08-28T05:58:43.250Z"
   },
   {
    "duration": 10,
    "start_time": "2024-08-28T05:58:46.735Z"
   },
   {
    "duration": 793,
    "start_time": "2024-08-28T05:58:54.165Z"
   },
   {
    "duration": 310,
    "start_time": "2024-08-28T05:58:54.960Z"
   },
   {
    "duration": 105,
    "start_time": "2024-08-28T05:58:55.271Z"
   },
   {
    "duration": 3,
    "start_time": "2024-08-28T05:58:55.379Z"
   },
   {
    "duration": 24,
    "start_time": "2024-08-28T05:58:55.383Z"
   },
   {
    "duration": 46,
    "start_time": "2024-08-28T05:58:55.409Z"
   },
   {
    "duration": 7,
    "start_time": "2024-08-28T05:58:55.456Z"
   },
   {
    "duration": 133,
    "start_time": "2024-08-28T05:58:55.465Z"
   },
   {
    "duration": 51,
    "start_time": "2024-08-28T05:58:55.599Z"
   },
   {
    "duration": 34,
    "start_time": "2024-08-28T05:58:55.653Z"
   },
   {
    "duration": 14,
    "start_time": "2024-08-28T05:58:55.689Z"
   },
   {
    "duration": 7,
    "start_time": "2024-08-28T05:58:55.704Z"
   },
   {
    "duration": 9,
    "start_time": "2024-08-28T05:58:55.713Z"
   },
   {
    "duration": 4,
    "start_time": "2024-08-28T05:58:55.748Z"
   },
   {
    "duration": 7,
    "start_time": "2024-08-28T05:58:55.754Z"
   },
   {
    "duration": 3,
    "start_time": "2024-08-28T05:58:55.763Z"
   },
   {
    "duration": 273,
    "start_time": "2024-08-28T05:58:55.768Z"
   },
   {
    "duration": 12,
    "start_time": "2024-08-28T05:58:56.043Z"
   },
   {
    "duration": 7,
    "start_time": "2024-08-28T05:58:56.056Z"
   },
   {
    "duration": 63,
    "start_time": "2024-08-28T05:58:56.065Z"
   },
   {
    "duration": 1194,
    "start_time": "2024-08-28T05:58:56.148Z"
   },
   {
    "duration": 14,
    "start_time": "2024-08-28T05:58:57.344Z"
   },
   {
    "duration": 9,
    "start_time": "2024-08-28T05:58:57.359Z"
   },
   {
    "duration": 700,
    "start_time": "2024-08-28T05:58:57.369Z"
   },
   {
    "duration": 10,
    "start_time": "2024-08-28T05:58:58.070Z"
   },
   {
    "duration": 13,
    "start_time": "2024-08-28T05:58:58.082Z"
   },
   {
    "duration": 97,
    "start_time": "2024-08-28T05:58:58.096Z"
   },
   {
    "duration": 27,
    "start_time": "2024-08-28T05:58:58.197Z"
   },
   {
    "duration": 5,
    "start_time": "2024-08-28T05:58:58.225Z"
   },
   {
    "duration": 25,
    "start_time": "2024-08-28T05:58:58.232Z"
   },
   {
    "duration": 9,
    "start_time": "2024-08-28T05:58:58.259Z"
   },
   {
    "duration": 53,
    "start_time": "2024-08-28T05:58:58.269Z"
   },
   {
    "duration": 30,
    "start_time": "2024-08-28T05:58:58.323Z"
   },
   {
    "duration": 17,
    "start_time": "2024-08-28T05:58:58.354Z"
   },
   {
    "duration": 6,
    "start_time": "2024-08-28T05:58:58.373Z"
   },
   {
    "duration": 8,
    "start_time": "2024-08-28T05:58:58.380Z"
   },
   {
    "duration": 19,
    "start_time": "2024-08-28T05:58:58.389Z"
   },
   {
    "duration": 81,
    "start_time": "2024-08-28T05:58:58.409Z"
   },
   {
    "duration": 5,
    "start_time": "2024-08-28T05:58:58.492Z"
   },
   {
    "duration": 8,
    "start_time": "2024-08-28T05:58:58.498Z"
   },
   {
    "duration": 9,
    "start_time": "2024-08-28T05:58:58.507Z"
   },
   {
    "duration": 130,
    "start_time": "2024-08-28T05:58:58.518Z"
   },
   {
    "duration": 29,
    "start_time": "2024-08-28T05:58:58.650Z"
   },
   {
    "duration": 15,
    "start_time": "2024-08-28T05:58:58.681Z"
   },
   {
    "duration": 151,
    "start_time": "2024-08-28T05:58:58.698Z"
   },
   {
    "duration": 10,
    "start_time": "2024-08-28T05:58:58.851Z"
   },
   {
    "duration": 449,
    "start_time": "2024-08-28T06:15:17.218Z"
   },
   {
    "duration": 18,
    "start_time": "2024-08-28T06:16:20.662Z"
   },
   {
    "duration": 696,
    "start_time": "2024-08-28T06:16:25.529Z"
   },
   {
    "duration": 10,
    "start_time": "2024-08-28T06:19:43.754Z"
   },
   {
    "duration": 18,
    "start_time": "2024-08-28T06:19:50.065Z"
   },
   {
    "duration": 187,
    "start_time": "2024-08-28T06:19:53.003Z"
   },
   {
    "duration": 10,
    "start_time": "2024-08-28T06:20:24.665Z"
   },
   {
    "duration": 17,
    "start_time": "2024-08-28T06:20:28.090Z"
   },
   {
    "duration": 7,
    "start_time": "2024-08-28T06:20:31.126Z"
   },
   {
    "duration": 8,
    "start_time": "2024-08-28T06:21:16.169Z"
   },
   {
    "duration": 18,
    "start_time": "2024-08-28T06:21:21.431Z"
   },
   {
    "duration": 693,
    "start_time": "2024-08-28T06:21:26.545Z"
   },
   {
    "duration": 601,
    "start_time": "2024-08-28T06:21:43.998Z"
   },
   {
    "duration": 12,
    "start_time": "2024-08-28T06:36:50.778Z"
   },
   {
    "duration": 19,
    "start_time": "2024-08-28T06:48:26.780Z"
   },
   {
    "duration": 11,
    "start_time": "2024-08-28T06:48:34.908Z"
   },
   {
    "duration": 19,
    "start_time": "2024-08-28T06:55:42.923Z"
   },
   {
    "duration": 23,
    "start_time": "2024-08-28T06:56:08.460Z"
   },
   {
    "duration": 18,
    "start_time": "2024-08-28T06:56:23.534Z"
   },
   {
    "duration": 633,
    "start_time": "2024-08-28T06:58:47.646Z"
   },
   {
    "duration": 126,
    "start_time": "2024-08-28T07:02:20.013Z"
   },
   {
    "duration": 121,
    "start_time": "2024-08-28T07:02:36.616Z"
   },
   {
    "duration": 12,
    "start_time": "2024-08-28T07:08:57.846Z"
   },
   {
    "duration": 12,
    "start_time": "2024-08-28T07:09:57.413Z"
   },
   {
    "duration": 707,
    "start_time": "2024-08-28T07:13:19.052Z"
   },
   {
    "duration": 15603,
    "start_time": "2024-08-28T07:16:11.352Z"
   },
   {
    "duration": 174,
    "start_time": "2024-08-28T07:17:44.894Z"
   },
   {
    "duration": 186,
    "start_time": "2024-08-28T07:18:23.643Z"
   },
   {
    "duration": 165,
    "start_time": "2024-08-28T07:18:53.549Z"
   },
   {
    "duration": 14,
    "start_time": "2024-08-28T07:22:54.876Z"
   },
   {
    "duration": 6,
    "start_time": "2024-08-28T08:05:28.143Z"
   },
   {
    "duration": 137,
    "start_time": "2024-08-28T08:07:04.990Z"
   },
   {
    "duration": 6,
    "start_time": "2024-08-28T08:07:54.554Z"
   }
  ],
  "kernelspec": {
   "display_name": "Python 3",
   "language": "python",
   "name": "python3"
  },
  "language_info": {
   "codemirror_mode": {
    "name": "ipython",
    "version": 3
   },
   "file_extension": ".py",
   "mimetype": "text/x-python",
   "name": "python",
   "nbconvert_exporter": "python",
   "pygments_lexer": "ipython3",
   "version": "3.12.2"
  },
  "toc": {
   "base_numbering": 1,
   "nav_menu": {},
   "number_sections": true,
   "sideBar": true,
   "skip_h1_title": true,
   "title_cell": "Table of Contents",
   "title_sidebar": "Contents",
   "toc_cell": false,
   "toc_position": {
    "height": "calc(100% - 180px)",
    "left": "10px",
    "top": "150px",
    "width": "165px"
   },
   "toc_section_display": true,
   "toc_window_display": false
  }
 },
 "nbformat": 4,
 "nbformat_minor": 2
}
